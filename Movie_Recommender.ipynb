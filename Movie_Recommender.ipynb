{
  "nbformat": 4,
  "nbformat_minor": 0,
  "metadata": {
    "colab": {
      "provenance": [],
      "authorship_tag": "ABX9TyPU8x4dg5Ot/UTD/EH8p3Lv",
      "include_colab_link": true
    },
    "kernelspec": {
      "name": "python3",
      "display_name": "Python 3"
    },
    "language_info": {
      "name": "python"
    }
  },
  "cells": [
    {
      "cell_type": "markdown",
      "metadata": {
        "id": "view-in-github",
        "colab_type": "text"
      },
      "source": [
        "<a href=\"https://colab.research.google.com/github/ShubhamS40/MachineLearning/blob/master/Movie_Recommender.ipynb\" target=\"_parent\"><img src=\"https://colab.research.google.com/assets/colab-badge.svg\" alt=\"Open In Colab\"/></a>"
      ]
    },
    {
      "cell_type": "code",
      "execution_count": null,
      "metadata": {
        "id": "G_TCaRpa5Ngp"
      },
      "outputs": [],
      "source": [
        "import pandas as pd\n",
        "import numpy as np\n",
        "import seaborn as sns\n"
      ]
    },
    {
      "cell_type": "code",
      "source": [
        "credits=pd.read_csv('/content/tmdb_5000_credits.csv')\n",
        "movies=pd.read_csv('/content/tmdb_5000_movies.csv')"
      ],
      "metadata": {
        "id": "OhpWvPKz87Zq"
      },
      "execution_count": null,
      "outputs": []
    },
    {
      "cell_type": "code",
      "source": [
        "\n",
        "credits.shape"
      ],
      "metadata": {
        "colab": {
          "base_uri": "https://localhost:8080/"
        },
        "id": "O-b3gQLA9X4K",
        "outputId": "5696a857-e065-4472-d010-6e7067d4fa81"
      },
      "execution_count": null,
      "outputs": [
        {
          "output_type": "execute_result",
          "data": {
            "text/plain": [
              "(1830, 4)"
            ]
          },
          "metadata": {},
          "execution_count": 5
        }
      ]
    },
    {
      "cell_type": "code",
      "source": [
        "movies=movies.merge(credits,on='title')"
      ],
      "metadata": {
        "id": "HkSLNI0H9Znh"
      },
      "execution_count": null,
      "outputs": []
    },
    {
      "cell_type": "code",
      "source": [
        "movies.shape"
      ],
      "metadata": {
        "colab": {
          "base_uri": "https://localhost:8080/"
        },
        "id": "m2UqhxuT96Kx",
        "outputId": "f4b26356-ed27-469e-97dd-26170d74aa13"
      },
      "execution_count": null,
      "outputs": [
        {
          "output_type": "execute_result",
          "data": {
            "text/plain": [
              "(1832, 23)"
            ]
          },
          "metadata": {},
          "execution_count": 7
        }
      ]
    },
    {
      "cell_type": "code",
      "source": [
        "movies.head(1)"
      ],
      "metadata": {
        "colab": {
          "base_uri": "https://localhost:8080/",
          "height": 217
        },
        "id": "6tsTTVOV9-Tu",
        "outputId": "f055f352-c7a1-4c85-f6fe-42e2c8e6e4dd"
      },
      "execution_count": null,
      "outputs": [
        {
          "output_type": "execute_result",
          "data": {
            "text/plain": [
              "      budget                                             genres  \\\n",
              "0  237000000  [{\"id\": 28, \"name\": \"Action\"}, {\"id\": 12, \"nam...   \n",
              "\n",
              "                      homepage     id  \\\n",
              "0  http://www.avatarmovie.com/  19995   \n",
              "\n",
              "                                            keywords original_language  \\\n",
              "0  [{\"id\": 1463, \"name\": \"culture clash\"}, {\"id\":...                en   \n",
              "\n",
              "  original_title                                           overview  \\\n",
              "0         Avatar  In the 22nd century, a paraplegic Marine is di...   \n",
              "\n",
              "   popularity                               production_companies  ... runtime  \\\n",
              "0  150.437577  [{\"name\": \"Ingenious Film Partners\", \"id\": 289...  ...   162.0   \n",
              "\n",
              "                                    spoken_languages    status  \\\n",
              "0  [{\"iso_639_1\": \"en\", \"name\": \"English\"}, {\"iso...  Released   \n",
              "\n",
              "                       tagline   title vote_average vote_count movie_id  \\\n",
              "0  Enter the World of Pandora.  Avatar          7.2      11800    19995   \n",
              "\n",
              "                                                cast  \\\n",
              "0  [{\"cast_id\": 242, \"character\": \"Jake Sully\", \"...   \n",
              "\n",
              "                                                crew  \n",
              "0  [{\"credit_id\": \"52fe48009251416c750aca23\", \"de...  \n",
              "\n",
              "[1 rows x 23 columns]"
            ],
            "text/html": [
              "\n",
              "  <div id=\"df-d526e67f-4030-40de-a811-4eede4b1809a\" class=\"colab-df-container\">\n",
              "    <div>\n",
              "<style scoped>\n",
              "    .dataframe tbody tr th:only-of-type {\n",
              "        vertical-align: middle;\n",
              "    }\n",
              "\n",
              "    .dataframe tbody tr th {\n",
              "        vertical-align: top;\n",
              "    }\n",
              "\n",
              "    .dataframe thead th {\n",
              "        text-align: right;\n",
              "    }\n",
              "</style>\n",
              "<table border=\"1\" class=\"dataframe\">\n",
              "  <thead>\n",
              "    <tr style=\"text-align: right;\">\n",
              "      <th></th>\n",
              "      <th>budget</th>\n",
              "      <th>genres</th>\n",
              "      <th>homepage</th>\n",
              "      <th>id</th>\n",
              "      <th>keywords</th>\n",
              "      <th>original_language</th>\n",
              "      <th>original_title</th>\n",
              "      <th>overview</th>\n",
              "      <th>popularity</th>\n",
              "      <th>production_companies</th>\n",
              "      <th>...</th>\n",
              "      <th>runtime</th>\n",
              "      <th>spoken_languages</th>\n",
              "      <th>status</th>\n",
              "      <th>tagline</th>\n",
              "      <th>title</th>\n",
              "      <th>vote_average</th>\n",
              "      <th>vote_count</th>\n",
              "      <th>movie_id</th>\n",
              "      <th>cast</th>\n",
              "      <th>crew</th>\n",
              "    </tr>\n",
              "  </thead>\n",
              "  <tbody>\n",
              "    <tr>\n",
              "      <th>0</th>\n",
              "      <td>237000000</td>\n",
              "      <td>[{\"id\": 28, \"name\": \"Action\"}, {\"id\": 12, \"nam...</td>\n",
              "      <td>http://www.avatarmovie.com/</td>\n",
              "      <td>19995</td>\n",
              "      <td>[{\"id\": 1463, \"name\": \"culture clash\"}, {\"id\":...</td>\n",
              "      <td>en</td>\n",
              "      <td>Avatar</td>\n",
              "      <td>In the 22nd century, a paraplegic Marine is di...</td>\n",
              "      <td>150.437577</td>\n",
              "      <td>[{\"name\": \"Ingenious Film Partners\", \"id\": 289...</td>\n",
              "      <td>...</td>\n",
              "      <td>162.0</td>\n",
              "      <td>[{\"iso_639_1\": \"en\", \"name\": \"English\"}, {\"iso...</td>\n",
              "      <td>Released</td>\n",
              "      <td>Enter the World of Pandora.</td>\n",
              "      <td>Avatar</td>\n",
              "      <td>7.2</td>\n",
              "      <td>11800</td>\n",
              "      <td>19995</td>\n",
              "      <td>[{\"cast_id\": 242, \"character\": \"Jake Sully\", \"...</td>\n",
              "      <td>[{\"credit_id\": \"52fe48009251416c750aca23\", \"de...</td>\n",
              "    </tr>\n",
              "  </tbody>\n",
              "</table>\n",
              "<p>1 rows × 23 columns</p>\n",
              "</div>\n",
              "    <div class=\"colab-df-buttons\">\n",
              "\n",
              "  <div class=\"colab-df-container\">\n",
              "    <button class=\"colab-df-convert\" onclick=\"convertToInteractive('df-d526e67f-4030-40de-a811-4eede4b1809a')\"\n",
              "            title=\"Convert this dataframe to an interactive table.\"\n",
              "            style=\"display:none;\">\n",
              "\n",
              "  <svg xmlns=\"http://www.w3.org/2000/svg\" height=\"24px\" viewBox=\"0 -960 960 960\">\n",
              "    <path d=\"M120-120v-720h720v720H120Zm60-500h600v-160H180v160Zm220 220h160v-160H400v160Zm0 220h160v-160H400v160ZM180-400h160v-160H180v160Zm440 0h160v-160H620v160ZM180-180h160v-160H180v160Zm440 0h160v-160H620v160Z\"/>\n",
              "  </svg>\n",
              "    </button>\n",
              "\n",
              "  <style>\n",
              "    .colab-df-container {\n",
              "      display:flex;\n",
              "      gap: 12px;\n",
              "    }\n",
              "\n",
              "    .colab-df-convert {\n",
              "      background-color: #E8F0FE;\n",
              "      border: none;\n",
              "      border-radius: 50%;\n",
              "      cursor: pointer;\n",
              "      display: none;\n",
              "      fill: #1967D2;\n",
              "      height: 32px;\n",
              "      padding: 0 0 0 0;\n",
              "      width: 32px;\n",
              "    }\n",
              "\n",
              "    .colab-df-convert:hover {\n",
              "      background-color: #E2EBFA;\n",
              "      box-shadow: 0px 1px 2px rgba(60, 64, 67, 0.3), 0px 1px 3px 1px rgba(60, 64, 67, 0.15);\n",
              "      fill: #174EA6;\n",
              "    }\n",
              "\n",
              "    .colab-df-buttons div {\n",
              "      margin-bottom: 4px;\n",
              "    }\n",
              "\n",
              "    [theme=dark] .colab-df-convert {\n",
              "      background-color: #3B4455;\n",
              "      fill: #D2E3FC;\n",
              "    }\n",
              "\n",
              "    [theme=dark] .colab-df-convert:hover {\n",
              "      background-color: #434B5C;\n",
              "      box-shadow: 0px 1px 3px 1px rgba(0, 0, 0, 0.15);\n",
              "      filter: drop-shadow(0px 1px 2px rgba(0, 0, 0, 0.3));\n",
              "      fill: #FFFFFF;\n",
              "    }\n",
              "  </style>\n",
              "\n",
              "    <script>\n",
              "      const buttonEl =\n",
              "        document.querySelector('#df-d526e67f-4030-40de-a811-4eede4b1809a button.colab-df-convert');\n",
              "      buttonEl.style.display =\n",
              "        google.colab.kernel.accessAllowed ? 'block' : 'none';\n",
              "\n",
              "      async function convertToInteractive(key) {\n",
              "        const element = document.querySelector('#df-d526e67f-4030-40de-a811-4eede4b1809a');\n",
              "        const dataTable =\n",
              "          await google.colab.kernel.invokeFunction('convertToInteractive',\n",
              "                                                    [key], {});\n",
              "        if (!dataTable) return;\n",
              "\n",
              "        const docLinkHtml = 'Like what you see? Visit the ' +\n",
              "          '<a target=\"_blank\" href=https://colab.research.google.com/notebooks/data_table.ipynb>data table notebook</a>'\n",
              "          + ' to learn more about interactive tables.';\n",
              "        element.innerHTML = '';\n",
              "        dataTable['output_type'] = 'display_data';\n",
              "        await google.colab.output.renderOutput(dataTable, element);\n",
              "        const docLink = document.createElement('div');\n",
              "        docLink.innerHTML = docLinkHtml;\n",
              "        element.appendChild(docLink);\n",
              "      }\n",
              "    </script>\n",
              "  </div>\n",
              "\n",
              "\n",
              "    </div>\n",
              "  </div>\n"
            ],
            "application/vnd.google.colaboratory.intrinsic+json": {
              "type": "dataframe",
              "variable_name": "movies"
            }
          },
          "metadata": {},
          "execution_count": 8
        }
      ]
    },
    {
      "cell_type": "code",
      "source": [
        "# genres\n",
        "# id\n",
        "# keyword\n",
        "# title\n",
        "# overreview\n",
        "# cast\n",
        "# crew\n",
        "\n",
        "movies=movies[['genres','title','id', 'keywords','overview','cast','crew']]"
      ],
      "metadata": {
        "id": "cf4wBAg7-_d2"
      },
      "execution_count": null,
      "outputs": []
    },
    {
      "cell_type": "code",
      "source": [
        "movies.head(1)"
      ],
      "metadata": {
        "colab": {
          "base_uri": "https://localhost:8080/",
          "height": 133
        },
        "id": "UV_Y_9RfB291",
        "outputId": "bd7ed7d6-f197-4872-d64b-77b8b8f3c238"
      },
      "execution_count": null,
      "outputs": [
        {
          "output_type": "execute_result",
          "data": {
            "text/plain": [
              "                                              genres   title     id  \\\n",
              "0  [{\"id\": 28, \"name\": \"Action\"}, {\"id\": 12, \"nam...  Avatar  19995   \n",
              "\n",
              "                                            keywords  \\\n",
              "0  [{\"id\": 1463, \"name\": \"culture clash\"}, {\"id\":...   \n",
              "\n",
              "                                            overview  \\\n",
              "0  In the 22nd century, a paraplegic Marine is di...   \n",
              "\n",
              "                                                cast  \\\n",
              "0  [{\"cast_id\": 242, \"character\": \"Jake Sully\", \"...   \n",
              "\n",
              "                                                crew  \n",
              "0  [{\"credit_id\": \"52fe48009251416c750aca23\", \"de...  "
            ],
            "text/html": [
              "\n",
              "  <div id=\"df-e54ab1ab-d3f8-49c7-91e1-c7cd163fadf6\" class=\"colab-df-container\">\n",
              "    <div>\n",
              "<style scoped>\n",
              "    .dataframe tbody tr th:only-of-type {\n",
              "        vertical-align: middle;\n",
              "    }\n",
              "\n",
              "    .dataframe tbody tr th {\n",
              "        vertical-align: top;\n",
              "    }\n",
              "\n",
              "    .dataframe thead th {\n",
              "        text-align: right;\n",
              "    }\n",
              "</style>\n",
              "<table border=\"1\" class=\"dataframe\">\n",
              "  <thead>\n",
              "    <tr style=\"text-align: right;\">\n",
              "      <th></th>\n",
              "      <th>genres</th>\n",
              "      <th>title</th>\n",
              "      <th>id</th>\n",
              "      <th>keywords</th>\n",
              "      <th>overview</th>\n",
              "      <th>cast</th>\n",
              "      <th>crew</th>\n",
              "    </tr>\n",
              "  </thead>\n",
              "  <tbody>\n",
              "    <tr>\n",
              "      <th>0</th>\n",
              "      <td>[{\"id\": 28, \"name\": \"Action\"}, {\"id\": 12, \"nam...</td>\n",
              "      <td>Avatar</td>\n",
              "      <td>19995</td>\n",
              "      <td>[{\"id\": 1463, \"name\": \"culture clash\"}, {\"id\":...</td>\n",
              "      <td>In the 22nd century, a paraplegic Marine is di...</td>\n",
              "      <td>[{\"cast_id\": 242, \"character\": \"Jake Sully\", \"...</td>\n",
              "      <td>[{\"credit_id\": \"52fe48009251416c750aca23\", \"de...</td>\n",
              "    </tr>\n",
              "  </tbody>\n",
              "</table>\n",
              "</div>\n",
              "    <div class=\"colab-df-buttons\">\n",
              "\n",
              "  <div class=\"colab-df-container\">\n",
              "    <button class=\"colab-df-convert\" onclick=\"convertToInteractive('df-e54ab1ab-d3f8-49c7-91e1-c7cd163fadf6')\"\n",
              "            title=\"Convert this dataframe to an interactive table.\"\n",
              "            style=\"display:none;\">\n",
              "\n",
              "  <svg xmlns=\"http://www.w3.org/2000/svg\" height=\"24px\" viewBox=\"0 -960 960 960\">\n",
              "    <path d=\"M120-120v-720h720v720H120Zm60-500h600v-160H180v160Zm220 220h160v-160H400v160Zm0 220h160v-160H400v160ZM180-400h160v-160H180v160Zm440 0h160v-160H620v160ZM180-180h160v-160H180v160Zm440 0h160v-160H620v160Z\"/>\n",
              "  </svg>\n",
              "    </button>\n",
              "\n",
              "  <style>\n",
              "    .colab-df-container {\n",
              "      display:flex;\n",
              "      gap: 12px;\n",
              "    }\n",
              "\n",
              "    .colab-df-convert {\n",
              "      background-color: #E8F0FE;\n",
              "      border: none;\n",
              "      border-radius: 50%;\n",
              "      cursor: pointer;\n",
              "      display: none;\n",
              "      fill: #1967D2;\n",
              "      height: 32px;\n",
              "      padding: 0 0 0 0;\n",
              "      width: 32px;\n",
              "    }\n",
              "\n",
              "    .colab-df-convert:hover {\n",
              "      background-color: #E2EBFA;\n",
              "      box-shadow: 0px 1px 2px rgba(60, 64, 67, 0.3), 0px 1px 3px 1px rgba(60, 64, 67, 0.15);\n",
              "      fill: #174EA6;\n",
              "    }\n",
              "\n",
              "    .colab-df-buttons div {\n",
              "      margin-bottom: 4px;\n",
              "    }\n",
              "\n",
              "    [theme=dark] .colab-df-convert {\n",
              "      background-color: #3B4455;\n",
              "      fill: #D2E3FC;\n",
              "    }\n",
              "\n",
              "    [theme=dark] .colab-df-convert:hover {\n",
              "      background-color: #434B5C;\n",
              "      box-shadow: 0px 1px 3px 1px rgba(0, 0, 0, 0.15);\n",
              "      filter: drop-shadow(0px 1px 2px rgba(0, 0, 0, 0.3));\n",
              "      fill: #FFFFFF;\n",
              "    }\n",
              "  </style>\n",
              "\n",
              "    <script>\n",
              "      const buttonEl =\n",
              "        document.querySelector('#df-e54ab1ab-d3f8-49c7-91e1-c7cd163fadf6 button.colab-df-convert');\n",
              "      buttonEl.style.display =\n",
              "        google.colab.kernel.accessAllowed ? 'block' : 'none';\n",
              "\n",
              "      async function convertToInteractive(key) {\n",
              "        const element = document.querySelector('#df-e54ab1ab-d3f8-49c7-91e1-c7cd163fadf6');\n",
              "        const dataTable =\n",
              "          await google.colab.kernel.invokeFunction('convertToInteractive',\n",
              "                                                    [key], {});\n",
              "        if (!dataTable) return;\n",
              "\n",
              "        const docLinkHtml = 'Like what you see? Visit the ' +\n",
              "          '<a target=\"_blank\" href=https://colab.research.google.com/notebooks/data_table.ipynb>data table notebook</a>'\n",
              "          + ' to learn more about interactive tables.';\n",
              "        element.innerHTML = '';\n",
              "        dataTable['output_type'] = 'display_data';\n",
              "        await google.colab.output.renderOutput(dataTable, element);\n",
              "        const docLink = document.createElement('div');\n",
              "        docLink.innerHTML = docLinkHtml;\n",
              "        element.appendChild(docLink);\n",
              "      }\n",
              "    </script>\n",
              "  </div>\n",
              "\n",
              "\n",
              "    </div>\n",
              "  </div>\n"
            ],
            "application/vnd.google.colaboratory.intrinsic+json": {
              "type": "dataframe",
              "variable_name": "movies",
              "summary": "{\n  \"name\": \"movies\",\n  \"rows\": 1832,\n  \"fields\": [\n    {\n      \"column\": \"genres\",\n      \"properties\": {\n        \"dtype\": \"category\",\n        \"num_unique_values\": 705,\n        \"samples\": [\n          \"[{\\\"id\\\": 28, \\\"name\\\": \\\"Action\\\"}, {\\\"id\\\": 80, \\\"name\\\": \\\"Crime\\\"}, {\\\"id\\\": 18, \\\"name\\\": \\\"Drama\\\"}, {\\\"id\\\": 9648, \\\"name\\\": \\\"Mystery\\\"}, {\\\"id\\\": 53, \\\"name\\\": \\\"Thriller\\\"}]\",\n          \"[{\\\"id\\\": 18, \\\"name\\\": \\\"Drama\\\"}, {\\\"id\\\": 27, \\\"name\\\": \\\"Horror\\\"}, {\\\"id\\\": 28, \\\"name\\\": \\\"Action\\\"}, {\\\"id\\\": 53, \\\"name\\\": \\\"Thriller\\\"}, {\\\"id\\\": 878, \\\"name\\\": \\\"Science Fiction\\\"}]\",\n          \"[{\\\"id\\\": 12, \\\"name\\\": \\\"Adventure\\\"}, {\\\"id\\\": 878, \\\"name\\\": \\\"Science Fiction\\\"}, {\\\"id\\\": 28, \\\"name\\\": \\\"Action\\\"}]\"\n        ],\n        \"semantic_type\": \"\",\n        \"description\": \"\"\n      }\n    },\n    {\n      \"column\": \"title\",\n      \"properties\": {\n        \"dtype\": \"string\",\n        \"num_unique_values\": 1830,\n        \"samples\": [\n          \"Ocean's Twelve\",\n          \"Frankenweenie\",\n          \"The Prince of Tides\"\n        ],\n        \"semantic_type\": \"\",\n        \"description\": \"\"\n      }\n    },\n    {\n      \"column\": \"id\",\n      \"properties\": {\n        \"dtype\": \"number\",\n        \"std\": 72696,\n        \"min\": 12,\n        \"max\": 417859,\n        \"num_unique_values\": 1832,\n        \"samples\": [\n          163,\n          15198,\n          10154\n        ],\n        \"semantic_type\": \"\",\n        \"description\": \"\"\n      }\n    },\n    {\n      \"column\": \"keywords\",\n      \"properties\": {\n        \"dtype\": \"string\",\n        \"num_unique_values\": 1786,\n        \"samples\": [\n          \"[{\\\"id\\\": 642, \\\"name\\\": \\\"robbery\\\"}, {\\\"id\\\": 4237, \\\"name\\\": \\\"water\\\"}, {\\\"id\\\": 4718, \\\"name\\\": \\\"gobi desert\\\"}, {\\\"id\\\": 10617, \\\"name\\\": \\\"disaster\\\"}, {\\\"id\\\": 12617, \\\"name\\\": \\\"airplane crash\\\"}, {\\\"id\\\": 15354, \\\"name\\\": \\\"struggle for survival\\\"}, {\\\"id\\\": 18034, \\\"name\\\": \\\"desert\\\"}]\",\n          \"[{\\\"id\\\": 378, \\\"name\\\": \\\"prison\\\"}, {\\\"id\\\": 4613, \\\"name\\\": \\\"training\\\"}, {\\\"id\\\": 15124, \\\"name\\\": \\\"framed\\\"}, {\\\"id\\\": 163072, \\\"name\\\": \\\"embezzlement\\\"}]\",\n          \"[{\\\"id\\\": 643, \\\"name\\\": \\\"horse race\\\"}, {\\\"id\\\": 2284, \\\"name\\\": \\\"horseback riding\\\"}, {\\\"id\\\": 5565, \\\"name\\\": \\\"biography\\\"}]\"\n        ],\n        \"semantic_type\": \"\",\n        \"description\": \"\"\n      }\n    },\n    {\n      \"column\": \"overview\",\n      \"properties\": {\n        \"dtype\": \"string\",\n        \"num_unique_values\": 1832,\n        \"samples\": [\n          \"Danny Ocean reunites with his old flame and the rest of his merry band of thieves in carrying out three huge heists in Rome, Paris and Amsterdam \\u2013 but a Europol agent is hot on their heels.\",\n          \"In Mystery, Alaska, life revolves around the legendary Saturday hockey game at the local pond. But everything changes when the hometown team unexpectedly gets booked in an exhibition match against the New York Rangers. When quirky small-towners, slick promoters and millionaire athletes come together.\",\n          \"An English auctioneer proposes to the daughter of a mafia kingpin, only to realize that certain \\\"favors\\\" would be asked of him.\"\n        ],\n        \"semantic_type\": \"\",\n        \"description\": \"\"\n      }\n    },\n    {\n      \"column\": \"cast\",\n      \"properties\": {\n        \"dtype\": \"string\",\n        \"num_unique_values\": 1830,\n        \"samples\": [\n          \"[{\\\"cast_id\\\": 11, \\\"character\\\": \\\"Danny Ocean\\\", \\\"credit_id\\\": \\\"52fe4221c3a36847f80062e1\\\", \\\"gender\\\": 2, \\\"id\\\": 1461, \\\"name\\\": \\\"George Clooney\\\", \\\"order\\\": 0}, {\\\"cast_id\\\": 12, \\\"character\\\": \\\"Rusty Ryan\\\", \\\"credit_id\\\": \\\"52fe4221c3a36847f80062e5\\\", \\\"gender\\\": 2, \\\"id\\\": 287, \\\"name\\\": \\\"Brad Pitt\\\", \\\"order\\\": 1}, {\\\"cast_id\\\": 13, \\\"character\\\": \\\"Isabel Lahiri\\\", \\\"credit_id\\\": \\\"52fe4221c3a36847f80062e9\\\", \\\"gender\\\": 1, \\\"id\\\": 1922, \\\"name\\\": \\\"Catherine Zeta-Jones\\\", \\\"order\\\": 2}, {\\\"cast_id\\\": 14, \\\"character\\\": \\\"Tess Ocean\\\", \\\"credit_id\\\": \\\"52fe4221c3a36847f80062ed\\\", \\\"gender\\\": 1, \\\"id\\\": 1204, \\\"name\\\": \\\"Julia Roberts\\\", \\\"order\\\": 3}, {\\\"cast_id\\\": 15, \\\"character\\\": \\\"Terry Benedict\\\", \\\"credit_id\\\": \\\"52fe4221c3a36847f80062f1\\\", \\\"gender\\\": 2, \\\"id\\\": 1271, \\\"name\\\": \\\"Andy Garc\\\\u00eda\\\", \\\"order\\\": 4}, {\\\"cast_id\\\": 16, \\\"character\\\": \\\"Virgil Malloy\\\", \\\"credit_id\\\": \\\"52fe4221c3a36847f80062f5\\\", \\\"gender\\\": 2, \\\"id\\\": 1893, \\\"name\\\": \\\"Casey Affleck\\\", \\\"order\\\": 5}, {\\\"cast_id\\\": 17, \\\"character\\\": \\\"Turk Malloy\\\", \\\"credit_id\\\": \\\"52fe4221c3a36847f80062f9\\\", \\\"gender\\\": 2, \\\"id\\\": 1894, \\\"name\\\": \\\"Scott Caan\\\", \\\"order\\\": 6}, {\\\"cast_id\\\": 18, \\\"character\\\": \\\"Yen\\\", \\\"credit_id\\\": \\\"52fe4221c3a36847f80062fd\\\", \\\"gender\\\": 2, \\\"id\\\": 1900, \\\"name\\\": \\\"Shaobo Qin\\\", \\\"order\\\": 7}, {\\\"cast_id\\\": 19, \\\"character\\\": \\\"Frank Catton\\\", \\\"credit_id\\\": \\\"52fe4221c3a36847f8006301\\\", \\\"gender\\\": 2, \\\"id\\\": 1897, \\\"name\\\": \\\"Bernie Mac\\\", \\\"order\\\": 8}, {\\\"cast_id\\\": 20, \\\"character\\\": \\\"Basher Tarr\\\", \\\"credit_id\\\": \\\"52fe4221c3a36847f8006305\\\", \\\"gender\\\": 2, \\\"id\\\": 1896, \\\"name\\\": \\\"Don Cheadle\\\", \\\"order\\\": 9}, {\\\"cast_id\\\": 21, \\\"character\\\": \\\"Linus Caldwell\\\", \\\"credit_id\\\": \\\"52fe4221c3a36847f8006309\\\", \\\"gender\\\": 2, \\\"id\\\": 1892, \\\"name\\\": \\\"Matt Damon\\\", \\\"order\\\": 10}, {\\\"cast_id\\\": 22, \\\"character\\\": \\\"Saul Bloom\\\", \\\"credit_id\\\": \\\"52fe4221c3a36847f800630d\\\", \\\"gender\\\": 2, \\\"id\\\": 1895, \\\"name\\\": \\\"Carl Reiner\\\", \\\"order\\\": 11}, {\\\"cast_id\\\": 23, \\\"character\\\": \\\"Livingston Dell\\\", \\\"credit_id\\\": \\\"52fe4221c3a36847f8006311\\\", \\\"gender\\\": 2, \\\"id\\\": 1898, \\\"name\\\": \\\"Eddie Jemison\\\", \\\"order\\\": 12}, {\\\"cast_id\\\": 24, \\\"character\\\": \\\"Reuben Tishkoff\\\", \\\"credit_id\\\": \\\"52fe4221c3a36847f8006315\\\", \\\"gender\\\": 2, \\\"id\\\": 827, \\\"name\\\": \\\"Elliott Gould\\\", \\\"order\\\": 13}, {\\\"cast_id\\\": 25, \\\"character\\\": \\\"Matsui\\\", \\\"credit_id\\\": \\\"52fe4221c3a36847f8006319\\\", \\\"gender\\\": 2, \\\"id\\\": 1923, \\\"name\\\": \\\"Robbie Coltrane\\\", \\\"order\\\": 14}, {\\\"cast_id\\\": 26, \\\"character\\\": \\\"van der Woude\\\", \\\"credit_id\\\": \\\"52fe4221c3a36847f800631d\\\", \\\"gender\\\": 0, \\\"id\\\": 1924, \\\"name\\\": \\\"Jeroen Krabb\\\\u00e9\\\", \\\"order\\\": 15}, {\\\"cast_id\\\": 27, \\\"character\\\": \\\"Fran\\\\u00e7ois Toulour\\\", \\\"credit_id\\\": \\\"52fe4221c3a36847f8006321\\\", \\\"gender\\\": 2, \\\"id\\\": 1925, \\\"name\\\": \\\"Vincent Cassel\\\", \\\"order\\\": 16}, {\\\"cast_id\\\": 28, \\\"character\\\": \\\"Roman Nagel\\\", \\\"credit_id\\\": \\\"52fe4221c3a36847f8006325\\\", \\\"gender\\\": 2, \\\"id\\\": 1926, \\\"name\\\": \\\"Eddie Izzard\\\", \\\"order\\\": 17}, {\\\"cast_id\\\": 29, \\\"character\\\": \\\"Himself\\\", \\\"credit_id\\\": \\\"52fe4221c3a36847f8006329\\\", \\\"gender\\\": 2, \\\"id\\\": 62, \\\"name\\\": \\\"Bruce Willis\\\", \\\"order\\\": 18}, {\\\"cast_id\\\": 30, \\\"character\\\": \\\"Molly Star/ Mrs. Caldwell\\\", \\\"credit_id\\\": \\\"52fe4221c3a36847f800632d\\\", \\\"gender\\\": 1, \\\"id\\\": 1956, \\\"name\\\": \\\"Cherry Jones\\\", \\\"order\\\": 19}, {\\\"cast_id\\\": 31, \\\"character\\\": \\\"Gaspar LeMarque\\\", \\\"credit_id\\\": \\\"52fe4221c3a36847f8006331\\\", \\\"gender\\\": 0, \\\"id\\\": 3926, \\\"name\\\": \\\"Albert Finney\\\", \\\"order\\\": 20}, {\\\"cast_id\\\": 32, \\\"character\\\": \\\"Museum Director\\\", \\\"credit_id\\\": \\\"52fe4221c3a36847f8006335\\\", \\\"gender\\\": 2, \\\"id\\\": 73475, \\\"name\\\": \\\"Adriano Giannini\\\", \\\"order\\\": 21}, {\\\"cast_id\\\": 34, \\\"character\\\": \\\"Johan\\\", \\\"credit_id\\\": \\\"52fe4221c3a36847f800633f\\\", \\\"gender\\\": 0, \\\"id\\\": 96935, \\\"name\\\": \\\"Johan Widerberg\\\", \\\"order\\\": 22}, {\\\"cast_id\\\": 134, \\\"character\\\": \\\"Hotel Manager\\\", \\\"credit_id\\\": \\\"59b7c8fc92514167bc00d827\\\", \\\"gender\\\": 0, \\\"id\\\": 1361236, \\\"name\\\": \\\"Luciano Miele\\\", \\\"order\\\": 23}, {\\\"cast_id\\\": 135, \\\"character\\\": \\\"Hotel Employee\\\", \\\"credit_id\\\": \\\"59b7c9c992514167d100dfd8\\\", \\\"gender\\\": 0, \\\"id\\\": 1328364, \\\"name\\\": \\\"Antonio De Matteo\\\", \\\"order\\\": 24}, {\\\"cast_id\\\": 136, \\\"character\\\": \\\"Toulour's Butler\\\", \\\"credit_id\\\": \\\"59b7c9fdc3a36815ac00db4c\\\", \\\"gender\\\": 1, \\\"id\\\": 76340, \\\"name\\\": \\\"Giselda Volodi\\\", \\\"order\\\": 25}, {\\\"cast_id\\\": 137, \\\"character\\\": \\\"Commissario Giordano\\\", \\\"credit_id\\\": \\\"59b7cbb4c3a36815ba00ca3d\\\", \\\"gender\\\": 2, \\\"id\\\": 8772, \\\"name\\\": \\\"Mattia Sbragia\\\", \\\"order\\\": 26}]\",\n          \"[{\\\"cast_id\\\": 20, \\\"character\\\": \\\"Victor Frankenstein (voice)\\\", \\\"credit_id\\\": \\\"52fe4676c3a368484e091f91\\\", \\\"gender\\\": 2, \\\"id\\\": 49918, \\\"name\\\": \\\"Charlie Tahan\\\", \\\"order\\\": 0}, {\\\"cast_id\\\": 7, \\\"character\\\": \\\"Mrs. Frankenstein / Weird Girl / Gym Teacher (voice)\\\", \\\"credit_id\\\": \\\"52fe4676c3a368484e091f57\\\", \\\"gender\\\": 0, \\\"id\\\": 11514, \\\"name\\\": \\\"Catherine O'Hara\\\", \\\"order\\\": 1}, {\\\"cast_id\\\": 9, \\\"character\\\": \\\"Mr. Frankenstein / Mr. Burgemeister / Nassor (voice)\\\", \\\"credit_id\\\": \\\"52fe4676c3a368484e091f5f\\\", \\\"gender\\\": 2, \\\"id\\\": 519, \\\"name\\\": \\\"Martin Short\\\", \\\"order\\\": 2}, {\\\"cast_id\\\": 8, \\\"character\\\": \\\"Mr. Rzykruski (voice)\\\", \\\"credit_id\\\": \\\"52fe4676c3a368484e091f5b\\\", \\\"gender\\\": 2, \\\"id\\\": 2641, \\\"name\\\": \\\"Martin Landau\\\", \\\"order\\\": 3}, {\\\"cast_id\\\": 10, \\\"character\\\": \\\"Edgar \\\\\\\"E\\\\\\\" Gore (voice)\\\", \\\"credit_id\\\": \\\"52fe4676c3a368484e091f63\\\", \\\"gender\\\": 2, \\\"id\\\": 66646, \\\"name\\\": \\\"Atticus Shaffer\\\", \\\"order\\\": 4}, {\\\"cast_id\\\": 5, \\\"character\\\": \\\"Elsa Van Helsing (voice)\\\", \\\"credit_id\\\": \\\"52fe4676c3a368484e091f53\\\", \\\"gender\\\": 1, \\\"id\\\": 1920, \\\"name\\\": \\\"Winona Ryder\\\", \\\"order\\\": 5}, {\\\"cast_id\\\": 11, \\\"character\\\": \\\"Bob (voice)\\\", \\\"credit_id\\\": \\\"52fe4676c3a368484e091f67\\\", \\\"gender\\\": 2, \\\"id\\\": 111922, \\\"name\\\": \\\"Robert Capron\\\", \\\"order\\\": 6}, {\\\"cast_id\\\": 74, \\\"character\\\": \\\"Toshiaki (voice)\\\", \\\"credit_id\\\": \\\"58b5c2a8c3a3682e830008c9\\\", \\\"gender\\\": 2, \\\"id\\\": 58330, \\\"name\\\": \\\"James Hiroyuki Liao\\\", \\\"order\\\": 7}, {\\\"cast_id\\\": 19, \\\"character\\\": \\\"Bob's Mom (voice)\\\", \\\"credit_id\\\": \\\"52fe4676c3a368484e091f8d\\\", \\\"gender\\\": 1, \\\"id\\\": 1909, \\\"name\\\": \\\"Conchata Ferrell\\\", \\\"order\\\": 8}, {\\\"cast_id\\\": 71, \\\"character\\\": \\\"New Holland Townsfolk (voice)\\\", \\\"credit_id\\\": \\\"558b6e02c3a3687e6b0019cf\\\", \\\"gender\\\": 2, \\\"id\\\": 78798, \\\"name\\\": \\\"Tom Kenny\\\", \\\"order\\\": 9}]\",\n          \"[{\\\"cast_id\\\": 1, \\\"character\\\": \\\"Tom Wingo\\\", \\\"credit_id\\\": \\\"52fe435b9251416c7500d3d1\\\", \\\"gender\\\": 2, \\\"id\\\": 1733, \\\"name\\\": \\\"Nick Nolte\\\", \\\"order\\\": 0}, {\\\"cast_id\\\": 2, \\\"character\\\": \\\"Susan Lowenstein\\\", \\\"credit_id\\\": \\\"52fe435b9251416c7500d3d5\\\", \\\"gender\\\": 0, \\\"id\\\": 10400, \\\"name\\\": \\\"Barbra Streisand\\\", \\\"order\\\": 1}, {\\\"cast_id\\\": 3, \\\"character\\\": \\\"Sally Wingo\\\", \\\"credit_id\\\": \\\"52fe435b9251416c7500d3d9\\\", \\\"gender\\\": 1, \\\"id\\\": 10401, \\\"name\\\": \\\"Blythe Danner\\\", \\\"order\\\": 2}, {\\\"cast_id\\\": 4, \\\"character\\\": \\\"Lila Wingo Newbury\\\", \\\"credit_id\\\": \\\"52fe435b9251416c7500d3dd\\\", \\\"gender\\\": 1, \\\"id\\\": 18794, \\\"name\\\": \\\"Kate Nelligan\\\", \\\"order\\\": 3}, {\\\"cast_id\\\": 5, \\\"character\\\": \\\"Herbert Woodruff\\\", \\\"credit_id\\\": \\\"52fe435b9251416c7500d3e1\\\", \\\"gender\\\": 0, \\\"id\\\": 1924, \\\"name\\\": \\\"Jeroen Krabb\\\\u00e9\\\", \\\"order\\\": 4}, {\\\"cast_id\\\": 6, \\\"character\\\": \\\"Savannah Wingo\\\", \\\"credit_id\\\": \\\"52fe435b9251416c7500d3e5\\\", \\\"gender\\\": 1, \\\"id\\\": 4778, \\\"name\\\": \\\"Melinda Dillon\\\", \\\"order\\\": 5}, {\\\"cast_id\\\": 19, \\\"character\\\": \\\"Eddie Detreville\\\", \\\"credit_id\\\": \\\"55e235d592514162cd0008f8\\\", \\\"gender\\\": 2, \\\"id\\\": 15903, \\\"name\\\": \\\"George Carlin\\\", \\\"order\\\": 6}, {\\\"cast_id\\\": 20, \\\"character\\\": \\\"Bernard Woodruff\\\", \\\"credit_id\\\": \\\"55e235f992514162c20009e3\\\", \\\"gender\\\": 2, \\\"id\\\": 21064, \\\"name\\\": \\\"Jason Gould\\\", \\\"order\\\": 7}, {\\\"cast_id\\\": 21, \\\"character\\\": \\\"Savannah Wingo\\\", \\\"credit_id\\\": \\\"55e23697c3a3680b4f000a03\\\", \\\"gender\\\": 1, \\\"id\\\": 975134, \\\"name\\\": \\\"Nancy Moore Atchison\\\", \\\"order\\\": 8}]\"\n        ],\n        \"semantic_type\": \"\",\n        \"description\": \"\"\n      }\n    },\n    {\n      \"column\": \"crew\",\n      \"properties\": {\n        \"dtype\": \"string\",\n        \"num_unique_values\": 1829,\n        \"samples\": [\n          \"[{\\\"credit_id\\\": \\\"52fe4221c3a36847f80062d7\\\", \\\"department\\\": \\\"Production\\\", \\\"gender\\\": 1, \\\"id\\\": 495, \\\"job\\\": \\\"Casting\\\", \\\"name\\\": \\\"Debra Zane\\\"}, {\\\"credit_id\\\": \\\"55722fa3c3a36859c20016c6\\\", \\\"department\\\": \\\"Production\\\", \\\"gender\\\": 2, \\\"id\\\": 1296, \\\"job\\\": \\\"Executive Producer\\\", \\\"name\\\": \\\"Bruce Berman\\\"}, {\\\"credit_id\\\": \\\"52fe4221c3a36847f80062ad\\\", \\\"department\\\": \\\"Directing\\\", \\\"gender\\\": 2, \\\"id\\\": 1884, \\\"job\\\": \\\"Director\\\", \\\"name\\\": \\\"Steven Soderbergh\\\"}, {\\\"credit_id\\\": \\\"52fe4221c3a36847f80062c5\\\", \\\"department\\\": \\\"Camera\\\", \\\"gender\\\": 2, \\\"id\\\": 1884, \\\"job\\\": \\\"Director of Photography\\\", \\\"name\\\": \\\"Steven Soderbergh\\\"}, {\\\"credit_id\\\": \\\"52fe4221c3a36847f80062b3\\\", \\\"department\\\": \\\"Writing\\\", \\\"gender\\\": 2, \\\"id\\\": 1885, \\\"job\\\": \\\"Author\\\", \\\"name\\\": \\\"George Clayton Johnson\\\"}, {\\\"credit_id\\\": \\\"52fe4221c3a36847f80062b9\\\", \\\"department\\\": \\\"Writing\\\", \\\"gender\\\": 0, \\\"id\\\": 1887, \\\"job\\\": \\\"Author\\\", \\\"name\\\": \\\"Jack Golden Russell\\\"}, {\\\"credit_id\\\": \\\"52fe4221c3a36847f80062bf\\\", \\\"department\\\": \\\"Production\\\", \\\"gender\\\": 2, \\\"id\\\": 1888, \\\"job\\\": \\\"Producer\\\", \\\"name\\\": \\\"Jerry Weintraub\\\"}, {\\\"credit_id\\\": \\\"52fe4221c3a36847f80062cb\\\", \\\"department\\\": \\\"Sound\\\", \\\"gender\\\": 2, \\\"id\\\": 1889, \\\"job\\\": \\\"Original Music Composer\\\", \\\"name\\\": \\\"David Holmes\\\"}, {\\\"credit_id\\\": \\\"585ea67192514115c70106ea\\\", \\\"department\\\": \\\"Sound\\\", \\\"gender\\\": 2, \\\"id\\\": 1889, \\\"job\\\": \\\"Music Supervisor\\\", \\\"name\\\": \\\"David Holmes\\\"}, {\\\"credit_id\\\": \\\"52fe4221c3a36847f80062d1\\\", \\\"department\\\": \\\"Art\\\", \\\"gender\\\": 2, \\\"id\\\": 1890, \\\"job\\\": \\\"Production Design\\\", \\\"name\\\": \\\"Philip Messina\\\"}, {\\\"credit_id\\\": \\\"52fe4221c3a36847f80062dd\\\", \\\"department\\\": \\\"Editing\\\", \\\"gender\\\": 2, \\\"id\\\": 1891, \\\"job\\\": \\\"Editor\\\", \\\"name\\\": \\\"Stephen Mirrione\\\"}, {\\\"credit_id\\\": \\\"52fe4221c3a36847f800633b\\\", \\\"department\\\": \\\"Writing\\\", \\\"gender\\\": 2, \\\"id\\\": 1921, \\\"job\\\": \\\"Screenplay\\\", \\\"name\\\": \\\"George Nolfi\\\"}, {\\\"credit_id\\\": \\\"585ea0c692514115c000fde2\\\", \\\"department\\\": \\\"Crew\\\", \\\"gender\\\": 0, \\\"id\\\": 16306, \\\"job\\\": \\\"Post Production Assistant\\\", \\\"name\\\": \\\"Matt Absher\\\"}, {\\\"credit_id\\\": \\\"585e987dc3a3681a7d00e181\\\", \\\"department\\\": \\\"Costume & Make-Up\\\", \\\"gender\\\": 1, \\\"id\\\": 5671, \\\"job\\\": \\\"Costume Design\\\", \\\"name\\\": \\\"Milena Canonero\\\"}, {\\\"credit_id\\\": \\\"585ea1d992514115c70102fd\\\", \\\"department\\\": \\\"Art\\\", \\\"gender\\\": 0, \\\"id\\\": 5672, \\\"job\\\": \\\"Supervising Art Director\\\", \\\"name\\\": \\\"Stefano Maria Ortolani\\\"}, {\\\"credit_id\\\": \\\"55722fd6c3a36838730026b0\\\", \\\"department\\\": \\\"Production\\\", \\\"gender\\\": 2, \\\"id\\\": 6341, \\\"job\\\": \\\"Executive Producer\\\", \\\"name\\\": \\\"John Hardy\\\"}, {\\\"credit_id\\\": \\\"585e984892514115cd00f3d7\\\", \\\"department\\\": \\\"Art\\\", \\\"gender\\\": 2, \\\"id\\\": 8794, \\\"job\\\": \\\"Art Direction\\\", \\\"name\\\": \\\"Tony Fanning\\\"}, {\\\"credit_id\\\": \\\"55722fee925141318e000730\\\", \\\"department\\\": \\\"Production\\\", \\\"gender\\\": 0, \\\"id\\\": 11268, \\\"job\\\": \\\"Line Producer\\\", \\\"name\\\": \\\"Roberto Malerba\\\"}, {\\\"credit_id\\\": \\\"585ea4c292514115d300ff22\\\", \\\"department\\\": \\\"Production\\\", \\\"gender\\\": 0, \\\"id\\\": 40838, \\\"job\\\": \\\"Production Coordinator\\\", \\\"name\\\": \\\"Damian Anderson\\\"}, {\\\"credit_id\\\": \\\"585e9867c3a3681a7700ef22\\\", \\\"department\\\": \\\"Art\\\", \\\"gender\\\": 1, \\\"id\\\": 21707, \\\"job\\\": \\\"Set Decoration\\\", \\\"name\\\": \\\"Kristen Toscano Messina\\\"}, {\\\"credit_id\\\": \\\"585ea84d92514115cf01058a\\\", \\\"department\\\": \\\"Crew\\\", \\\"gender\\\": 2, \\\"id\\\": 23964, \\\"job\\\": \\\"Thanks\\\", \\\"name\\\": \\\"Gary Ross\\\"}, {\\\"credit_id\\\": \\\"585ea64fc3a3681a68011b5e\\\", \\\"department\\\": \\\"Sound\\\", \\\"gender\\\": 0, \\\"id\\\": 113041, \\\"job\\\": \\\"Foley\\\", \\\"name\\\": \\\"David Betancourt\\\"}, {\\\"credit_id\\\": \\\"55722fbd925141110700081b\\\", \\\"department\\\": \\\"Production\\\", \\\"gender\\\": 1, \\\"id\\\": 57295, \\\"job\\\": \\\"Executive Producer\\\", \\\"name\\\": \\\"Susan Ekins\\\"}, {\\\"credit_id\\\": \\\"585e9f57c3a3681a620103f5\\\", \\\"department\\\": \\\"Costume & Make-Up\\\", \\\"gender\\\": 0, \\\"id\\\": 92332, \\\"job\\\": \\\"Hair Department Head\\\", \\\"name\\\": \\\"Waldo Sanchez\\\"}, {\\\"credit_id\\\": \\\"585ea23fc3a3681a6201067e\\\", \\\"department\\\": \\\"Crew\\\", \\\"gender\\\": 2, \\\"id\\\": 92503, \\\"job\\\": \\\"Utility Stunts\\\", \\\"name\\\": \\\"Felipe Savahge\\\"}, {\\\"credit_id\\\": \\\"55722fca92514110f90007eb\\\", \\\"department\\\": \\\"Production\\\", \\\"gender\\\": 2, \\\"id\\\": 117202, \\\"job\\\": \\\"Line Producer\\\", \\\"name\\\": \\\"Erwin Godschalk\\\"}, {\\\"credit_id\\\": \\\"585ea26492514115cd00fdb7\\\", \\\"department\\\": \\\"Directing\\\", \\\"gender\\\": 2, \\\"id\\\": 119665, \\\"job\\\": \\\"Assistant Director\\\", \\\"name\\\": \\\"Gregory Jacobs\\\"}, {\\\"credit_id\\\": \\\"55722fe29251410872005594\\\", \\\"department\\\": \\\"Production\\\", \\\"gender\\\": 2, \\\"id\\\": 119665, \\\"job\\\": \\\"Co-Producer\\\", \\\"name\\\": \\\"Gregory Jacobs\\\"}, {\\\"credit_id\\\": \\\"585ea2e6c3a3681a62010720\\\", \\\"department\\\": \\\"Editing\\\", \\\"gender\\\": 0, \\\"id\\\": 139953, \\\"job\\\": \\\"Color Timer\\\", \\\"name\\\": \\\"Michael Eaves\\\"}, {\\\"credit_id\\\": \\\"585ea1b592514115be00fc25\\\", \\\"department\\\": \\\"Crew\\\", \\\"gender\\\": 0, \\\"id\\\": 142161, \\\"job\\\": \\\"Stunt Coordinator\\\", \\\"name\\\": \\\"John Robotham\\\"}, {\\\"credit_id\\\": \\\"585e9c3bc3a3681a680111c1\\\", \\\"department\\\": \\\"Art\\\", \\\"gender\\\": 0, \\\"id\\\": 1068056, \\\"job\\\": \\\"Assistant Art Director\\\", \\\"name\\\": \\\"Easton Michael Smith\\\"}, {\\\"credit_id\\\": \\\"585ea82292514115cf010568\\\", \\\"department\\\": \\\"Writing\\\", \\\"gender\\\": 0, \\\"id\\\": 1117716, \\\"job\\\": \\\"Creative Producer\\\", \\\"name\\\": \\\"Enfys Dickinson\\\"}, {\\\"credit_id\\\": \\\"585ea232c3a3681a680117dd\\\", \\\"department\\\": \\\"Production\\\", \\\"gender\\\": 0, \\\"id\\\": 1117840, \\\"job\\\": \\\"Unit Production Manager\\\", \\\"name\\\": \\\"Frederic W. Brost\\\"}, {\\\"credit_id\\\": \\\"55722fb19251411107000818\\\", \\\"department\\\": \\\"Production\\\", \\\"gender\\\": 0, \\\"id\\\": 1117840, \\\"job\\\": \\\"Co-Producer\\\", \\\"name\\\": \\\"Frederic W. Brost\\\"}, {\\\"credit_id\\\": \\\"585ea47592514115c4010ca5\\\", \\\"department\\\": \\\"Production\\\", \\\"gender\\\": 0, \\\"id\\\": 1212071, \\\"job\\\": \\\"Casting Associate\\\", \\\"name\\\": \\\"Tannis Vallely\\\"}, {\\\"credit_id\\\": \\\"585ea1a792514115ca00fef6\\\", \\\"department\\\": \\\"Crew\\\", \\\"gender\\\": 0, \\\"id\\\": 1275495, \\\"job\\\": \\\"Stand In\\\", \\\"name\\\": \\\"Doug Maguire\\\"}, {\\\"credit_id\\\": \\\"585e9fbc92514115cd00fb86\\\", \\\"department\\\": \\\"Costume & Make-Up\\\", \\\"gender\\\": 0, \\\"id\\\": 1319166, \\\"job\\\": \\\"Makeup Department Head\\\", \\\"name\\\": \\\"Julie Hewett\\\"}, {\\\"credit_id\\\": \\\"585e9f9cc3a3681a7700f692\\\", \\\"department\\\": \\\"Costume & Make-Up\\\", \\\"gender\\\": 0, \\\"id\\\": 1325234, \\\"job\\\": \\\"Makeup Artist\\\", \\\"name\\\": \\\"Jean Ann Black\\\"}, {\\\"credit_id\\\": \\\"585ea187c3a3681a6f00fb08\\\", \\\"department\\\": \\\"Crew\\\", \\\"gender\\\": 0, \\\"id\\\": 1335069, \\\"job\\\": \\\"Special Effects Coordinator\\\", \\\"name\\\": \\\"Kevin Hannigan\\\"}, {\\\"credit_id\\\": \\\"585ea1f692514115c7010314\\\", \\\"department\\\": \\\"Crew\\\", \\\"gender\\\": 0, \\\"id\\\": 1335075, \\\"job\\\": \\\"Transportation Captain\\\", \\\"name\\\": \\\"Shane Greedy\\\"}, {\\\"credit_id\\\": \\\"585ea6f892514115cf01049f\\\", \\\"department\\\": \\\"Sound\\\", \\\"gender\\\": 0, \\\"id\\\": 1335127, \\\"job\\\": \\\"Supervising Sound Editor\\\", \\\"name\\\": \\\"Larry Blake\\\"}, {\\\"credit_id\\\": \\\"585e9918c3a3681a6500df60\\\", \\\"department\\\": \\\"Art\\\", \\\"gender\\\": 0, \\\"id\\\": 1364239, \\\"job\\\": \\\"Art Department Assistant\\\", \\\"name\\\": \\\"Mark Robert Taylor\\\"}, {\\\"credit_id\\\": \\\"585ea69f92514115be00ffd6\\\", \\\"department\\\": \\\"Sound\\\", \\\"gender\\\": 0, \\\"id\\\": 1364410, \\\"job\\\": \\\"Sound Editor\\\", \\\"name\\\": \\\"Julie Feiner\\\"}, {\\\"credit_id\\\": \\\"585ea57192514115cd010016\\\", \\\"department\\\": \\\"Sound\\\", \\\"gender\\\": 0, \\\"id\\\": 1364411, \\\"job\\\": \\\"Boom Operator\\\", \\\"name\\\": \\\"Randall L. Johnson\\\"}, {\\\"credit_id\\\": \\\"585e9d7092514115cf00fcc8\\\", \\\"department\\\": \\\"Art\\\", \\\"gender\\\": 2, \\\"id\\\": 1376887, \\\"job\\\": \\\"Set Designer\\\", \\\"name\\\": \\\"C. Scott Baker\\\"}, {\\\"credit_id\\\": \\\"585ea140c3a3681a6500e715\\\", \\\"department\\\": \\\"Crew\\\", \\\"gender\\\": 0, \\\"id\\\": 1377215, \\\"job\\\": \\\"Property Master\\\", \\\"name\\\": \\\"Doug Harlocker\\\"}, {\\\"credit_id\\\": \\\"585ea27e92514115c4010af8\\\", \\\"department\\\": \\\"Directing\\\", \\\"gender\\\": 1, \\\"id\\\": 1391605, \\\"job\\\": \\\"Script Supervisor\\\", \\\"name\\\": \\\"Annie Welles\\\"}, {\\\"credit_id\\\": \\\"585e9f0492514115cf00fe1f\\\", \\\"department\\\": \\\"Camera\\\", \\\"gender\\\": 0, \\\"id\\\": 1392247, \\\"job\\\": \\\"Still Photographer\\\", \\\"name\\\": \\\"Bob Marshak\\\"}, {\\\"credit_id\\\": \\\"585ea755c3a3681a68011c4b\\\", \\\"department\\\": \\\"Visual Effects\\\", \\\"gender\\\": 0, \\\"id\\\": 1392909, \\\"job\\\": \\\"Visual Effects Supervisor\\\", \\\"name\\\": \\\"Thomas J. Smith\\\"}, {\\\"credit_id\\\": \\\"585ea718c3a3681a68011c11\\\", \\\"department\\\": \\\"Visual Effects\\\", \\\"gender\\\": 0, \\\"id\\\": 1399313, \\\"job\\\": \\\"Visual Effects Coordinator\\\", \\\"name\\\": \\\"Julia Neighly\\\"}, {\\\"credit_id\\\": \\\"585ea20ac3a3681a7700f8aa\\\", \\\"department\\\": \\\"Crew\\\", \\\"gender\\\": 0, \\\"id\\\": 1399890, \\\"job\\\": \\\"Transportation Co-Captain\\\", \\\"name\\\": \\\"Rich Bennetti\\\"}, {\\\"credit_id\\\": \\\"585e9f22c3a3681a720111dc\\\", \\\"department\\\": \\\"Camera\\\", \\\"gender\\\": 0, \\\"id\\\": 1400347, \\\"job\\\": \\\"Underwater Camera\\\", \\\"name\\\": \\\"Maryan Zurek\\\"}, {\\\"credit_id\\\": \\\"585ea40192514115cd00fef8\\\", \\\"department\\\": \\\"Lighting\\\", \\\"gender\\\": 0, \\\"id\\\": 1401995, \\\"job\\\": \\\"Rigging Gaffer\\\", \\\"name\\\": \\\"Russell Ayer\\\"}, {\\\"credit_id\\\": \\\"585e9e39c3a3681a62010300\\\", \\\"department\\\": \\\"Camera\\\", \\\"gender\\\": 0, \\\"id\\\": 1403479, \\\"job\\\": \\\"Steadicam Operator\\\", \\\"name\\\": \\\"Duane Manwiller\\\"}, {\\\"credit_id\\\": \\\"585e9dee92514115c700ff87\\\", \\\"department\\\": \\\"Camera\\\", \\\"gender\\\": 0, \\\"id\\\": 1405241, \\\"job\\\": \\\"Helicopter Camera\\\", \\\"name\\\": \\\"Adam Dale\\\"}, {\\\"credit_id\\\": \\\"585ea30a92514115c7010426\\\", \\\"department\\\": \\\"Editing\\\", \\\"gender\\\": 0, \\\"id\\\": 1407823, \\\"job\\\": \\\"Digital Intermediate\\\", \\\"name\\\": \\\"Terra Bliss-Alvarez\\\"}, {\\\"credit_id\\\": \\\"585ea4f6c3a3681a7d00ec41\\\", \\\"department\\\": \\\"Production\\\", \\\"gender\\\": 0, \\\"id\\\": 1409825, \\\"job\\\": \\\"Production Supervisor\\\", \\\"name\\\": \\\"Robin Le Chanu\\\"}, {\\\"credit_id\\\": \\\"585ea50a92514115ca0101b1\\\", \\\"department\\\": \\\"Production\\\", \\\"gender\\\": 0, \\\"id\\\": 1409837, \\\"job\\\": \\\"Publicist\\\", \\\"name\\\": \\\"Spooky Stevens\\\"}, {\\\"credit_id\\\": \\\"585ea732c3a3681a68011c24\\\", \\\"department\\\": \\\"Visual Effects\\\", \\\"gender\\\": 0, \\\"id\\\": 1410578, \\\"job\\\": \\\"Visual Effects Producer\\\", \\\"name\\\": \\\"Lisa Maher\\\"}, {\\\"credit_id\\\": \\\"585e9d98c3a3681a72011033\\\", \\\"department\\\": \\\"Camera\\\", \\\"gender\\\": 0, \\\"id\\\": 1412260, \\\"job\\\": \\\"Additional Photography\\\", \\\"name\\\": \\\"Robert Jason\\\"}, {\\\"credit_id\\\": \\\"585ea6e0c3a3681a7201187f\\\", \\\"department\\\": \\\"Sound\\\", \\\"gender\\\": 2, \\\"id\\\": 1412455, \\\"job\\\": \\\"Sound Re-Recording Mixer\\\", \\\"name\\\": \\\"Todd Grace\\\"}, {\\\"credit_id\\\": \\\"585ea12dc3a3681a72011396\\\", \\\"department\\\": \\\"Crew\\\", \\\"gender\\\": 0, \\\"id\\\": 1413156, \\\"job\\\": \\\"Propmaker\\\", \\\"name\\\": \\\"Jerrold F. Brooks\\\"}, {\\\"credit_id\\\": \\\"585e9f84c3a3681a6f00f938\\\", \\\"department\\\": \\\"Costume & Make-Up\\\", \\\"gender\\\": 0, \\\"id\\\": 1413224, \\\"job\\\": \\\"Key Hair Stylist\\\", \\\"name\\\": \\\"Fr\\\\u00ed\\\\u00f0a Arad\\\\u00f3ttir\\\"}, {\\\"credit_id\\\": \\\"585e9cb7c3a3681a6f00f66a\\\", \\\"department\\\": \\\"Art\\\", \\\"gender\\\": 0, \\\"id\\\": 1414174, \\\"job\\\": \\\"Leadman\\\", \\\"name\\\": \\\"Scott Bobbitt\\\"}, {\\\"credit_id\\\": \\\"585ea3d492514115c001002b\\\", \\\"department\\\": \\\"Lighting\\\", \\\"gender\\\": 2, \\\"id\\\": 1415988, \\\"job\\\": \\\"Gaffer\\\", \\\"name\\\": \\\"Jean-Pierre Lacroix\\\"}, {\\\"credit_id\\\": \\\"585ea048c3a3681a6f00f9d7\\\", \\\"department\\\": \\\"Crew\\\", \\\"gender\\\": 0, \\\"id\\\": 1419114, \\\"job\\\": \\\"Dialect Coach\\\", \\\"name\\\": \\\"Jessica Drake\\\"}, {\\\"credit_id\\\": \\\"585e9fd392514115cf00fecc\\\", \\\"department\\\": \\\"Costume & Make-Up\\\", \\\"gender\\\": 0, \\\"id\\\": 1471335, \\\"job\\\": \\\"Set Costumer\\\", \\\"name\\\": \\\"Isabelle Caillaud\\\"}, {\\\"credit_id\\\": \\\"585e9f7192514115c000fcce\\\", \\\"department\\\": \\\"Costume & Make-Up\\\", \\\"gender\\\": 0, \\\"id\\\": 1509355, \\\"job\\\": \\\"Hairstylist\\\", \\\"name\\\": \\\"Teressia Carter\\\"}, {\\\"credit_id\\\": \\\"585e9daf92514115d300f8df\\\", \\\"department\\\": \\\"Camera\\\", \\\"gender\\\": 0, \\\"id\\\": 1536971, \\\"job\\\": \\\"First Assistant Camera\\\", \\\"name\\\": \\\"James W. Apted\\\"}, {\\\"credit_id\\\": \\\"585ea031c3a3681a6f00f9c0\\\", \\\"department\\\": \\\"Crew\\\", \\\"gender\\\": 0, \\\"id\\\": 1538449, \\\"job\\\": \\\"Craft Service\\\", \\\"name\\\": \\\"Jeff Winn\\\"}, {\\\"credit_id\\\": \\\"585ea416c3a3681a620107ef\\\", \\\"department\\\": \\\"Lighting\\\", \\\"gender\\\": 0, \\\"id\\\": 1549227, \\\"job\\\": \\\"Rigging Grip\\\", \\\"name\\\": \\\"Kent Baker\\\"}, {\\\"credit_id\\\": \\\"585ea68bc3a3681a7201183c\\\", \\\"department\\\": \\\"Sound\\\", \\\"gender\\\": 0, \\\"id\\\": 1555488, \\\"job\\\": \\\"Production Sound Mixer\\\", \\\"name\\\": \\\"Paul Ledford\\\"}, {\\\"credit_id\\\": \\\"585e9cccc3a3681a6801125f\\\", \\\"department\\\": \\\"Art\\\", \\\"gender\\\": 0, \\\"id\\\": 1559566, \\\"job\\\": \\\"Location Scout\\\", \\\"name\\\": \\\"Tjarco van Wijck\\\"}, {\\\"credit_id\\\": \\\"585ea48f92514115cf0102bb\\\", \\\"department\\\": \\\"Production\\\", \\\"gender\\\": 0, \\\"id\\\": 1564997, \\\"job\\\": \\\"Executive In Charge Of Production\\\", \\\"name\\\": \\\"Mark Scoon\\\"}, {\\\"credit_id\\\": \\\"585e9cd9c3a3681a62010185\\\", \\\"department\\\": \\\"Art\\\", \\\"gender\\\": 0, \\\"id\\\": 1574114, \\\"job\\\": \\\"Painter\\\", \\\"name\\\": \\\"Giancarlo Di Fusco\\\"}, {\\\"credit_id\\\": \\\"585ea839c3a3681a7700fd4c\\\", \\\"department\\\": \\\"Production\\\", \\\"gender\\\": 2, \\\"id\\\": 1574132, \\\"job\\\": \\\"Unit Manager\\\", \\\"name\\\": \\\"Federico Foti\\\"}, {\\\"credit_id\\\": \\\"585ea4e3c3a3681a6201089f\\\", \\\"department\\\": \\\"Production\\\", \\\"gender\\\": 0, \\\"id\\\": 1582414, \\\"job\\\": \\\"Production Manager\\\", \\\"name\\\": \\\"Jean-Pierre Avice\\\"}, {\\\"credit_id\\\": \\\"585e9ff992514115c40108a5\\\", \\\"department\\\": \\\"Costume & Make-Up\\\", \\\"gender\\\": 0, \\\"id\\\": 1586881, \\\"job\\\": \\\"Set Dressing Supervisor\\\", \\\"name\\\": \\\"Claudia Bonfe\\\"}, {\\\"credit_id\\\": \\\"585e9d4c92514115cd00f932\\\", \\\"department\\\": \\\"Art\\\", \\\"gender\\\": 0, \\\"id\\\": 1586890, \\\"job\\\": \\\"Set Decoration Buyer\\\", \\\"name\\\": \\\"Helen Kozora\\\"}, {\\\"credit_id\\\": \\\"585e9f43c3a3681a620103ea\\\", \\\"department\\\": \\\"Costume & Make-Up\\\", \\\"gender\\\": 0, \\\"id\\\": 1607639, \\\"job\\\": \\\"Costume Supervisor\\\", \\\"name\\\": \\\"Marina Roberti\\\"}, {\\\"credit_id\\\": \\\"585ea21d92514115d300fcd3\\\", \\\"department\\\": \\\"Crew\\\", \\\"gender\\\": 0, \\\"id\\\": 1607651, \\\"job\\\": \\\"Transportation Coordinator\\\", \\\"name\\\": \\\"Daniele Abeille\\\"}, {\\\"credit_id\\\": \\\"585ea00dc3a3681a72011294\\\", \\\"department\\\": \\\"Crew\\\", \\\"gender\\\": 0, \\\"id\\\": 1608876, \\\"job\\\": \\\"Carpenter\\\", \\\"name\\\": \\\"Stephen Sturm\\\"}, {\\\"credit_id\\\": \\\"585ea7fd92514115be0100fa\\\", \\\"department\\\": \\\"Crew\\\", \\\"gender\\\": 0, \\\"id\\\": 1629541, \\\"job\\\": \\\"Translator\\\", \\\"name\\\": \\\"Steve Hai\\\"}, {\\\"credit_id\\\": \\\"585ea52292514115cf010327\\\", \\\"department\\\": \\\"Production\\\", \\\"gender\\\": 0, \\\"id\\\": 1644480, \\\"job\\\": \\\"Researcher\\\", \\\"name\\\": \\\"Chris Allen\\\"}, {\\\"credit_id\\\": \\\"585e9d2bc3a3681a620101d6\\\", \\\"department\\\": \\\"Art\\\", \\\"gender\\\": 0, \\\"id\\\": 1684305, \\\"job\\\": \\\"Sculptor\\\", \\\"name\\\": \\\"Gene 'Hap' Cooper\\\"}, {\\\"credit_id\\\": \\\"585ea07492514115ca00fdda\\\", \\\"department\\\": \\\"Crew\\\", \\\"gender\\\": 0, \\\"id\\\": 1684987, \\\"job\\\": \\\"Loader\\\", \\\"name\\\": \\\"Thomas S. Ciciura\\\"}, {\\\"credit_id\\\": \\\"585e9dd892514115c4010690\\\", \\\"department\\\": \\\"Camera\\\", \\\"gender\\\": 0, \\\"id\\\": 1701736, \\\"job\\\": \\\"Grip\\\", \\\"name\\\": \\\"Art Bartels\\\"}, {\\\"credit_id\\\": \\\"585e9c1b92514115cd00f7c7\\\", \\\"department\\\": \\\"Art\\\", \\\"gender\\\": 0, \\\"id\\\": 1720281, \\\"job\\\": \\\"Art Department Coordinator\\\", \\\"name\\\": \\\"Diana Goodwin\\\"}, {\\\"credit_id\\\": \\\"585ea0e4c3a3681a62010567\\\", \\\"department\\\": \\\"Crew\\\", \\\"gender\\\": 0, \\\"id\\\": 1721989, \\\"job\\\": \\\"Post Production Supervisor\\\", \\\"name\\\": \\\"Monica de Armond\\\"}, {\\\"credit_id\\\": \\\"585e9c92c3a3681a6b00f7d2\\\", \\\"department\\\": \\\"Art\\\", \\\"gender\\\": 0, \\\"id\\\": 1727278, \\\"job\\\": \\\"Construction Coordinator\\\", \\\"name\\\": \\\"Bernadino Nardoni\\\"}, {\\\"credit_id\\\": \\\"585e9d89c3a3681a62010242\\\", \\\"department\\\": \\\"Art\\\", \\\"gender\\\": 0, \\\"id\\\": 1727284, \\\"job\\\": \\\"Standby Painter\\\", \\\"name\\\": \\\"Paola Sforzini\\\"}, {\\\"credit_id\\\": \\\"585e9f37c3a3681a7700f63d\\\", \\\"department\\\": \\\"Costume & Make-Up\\\", \\\"gender\\\": 0, \\\"id\\\": 1727293, \\\"job\\\": \\\"Assistant Costume Designer\\\", \\\"name\\\": \\\"Francesca Brunori\\\"}, {\\\"credit_id\\\": \\\"585e9fecc3a3681a680115e8\\\", \\\"department\\\": \\\"Costume & Make-Up\\\", \\\"gender\\\": 0, \\\"id\\\": 1727295, \\\"job\\\": \\\"Set Dressing Artist\\\", \\\"name\\\": \\\"Rich Andrade\\\"}, {\\\"credit_id\\\": \\\"585ea024c3a3681a6500e618\\\", \\\"department\\\": \\\"Crew\\\", \\\"gender\\\": 0, \\\"id\\\": 1727296, \\\"job\\\": \\\"Chef\\\", \\\"name\\\": \\\"Jacques Grousset\\\"}, {\\\"credit_id\\\": \\\"585ea068c3a3681a6b00fb91\\\", \\\"department\\\": \\\"Crew\\\", \\\"gender\\\": 0, \\\"id\\\": 1727298, \\\"job\\\": \\\"Driver\\\", \\\"name\\\": \\\"Chris Beanes\\\"}, {\\\"credit_id\\\": \\\"585ea0b7c3a3681a7d00e94b\\\", \\\"department\\\": \\\"Crew\\\", \\\"gender\\\": 0, \\\"id\\\": 1727301, \\\"job\\\": \\\"Picture Car Coordinator\\\", \\\"name\\\": \\\"Henno van Bergeijk\\\"}, {\\\"credit_id\\\": \\\"585ea112c3a3681a72011379\\\", \\\"department\\\": \\\"Crew\\\", \\\"gender\\\": 0, \\\"id\\\": 1727304, \\\"job\\\": \\\"Production Controller\\\", \\\"name\\\": \\\"Dorothy Precious\\\"}, {\\\"credit_id\\\": \\\"585ea12192514115d300fbd7\\\", \\\"department\\\": \\\"Crew\\\", \\\"gender\\\": 0, \\\"id\\\": 1727305, \\\"job\\\": \\\"Production Office Assistant\\\", \\\"name\\\": \\\"Leonardo de Angelis\\\"}, {\\\"credit_id\\\": \\\"585ea158c3a3681a7700f80d\\\", \\\"department\\\": \\\"Crew\\\", \\\"gender\\\": 0, \\\"id\\\": 1727306, \\\"job\\\": \\\"Security\\\", \\\"name\\\": \\\"Maurice Brunson\\\"}, {\\\"credit_id\\\": \\\"585ea16b92514115ca00feae\\\", \\\"department\\\": \\\"Crew\\\", \\\"gender\\\": 0, \\\"id\\\": 1727307, \\\"job\\\": \\\"Set Medic\\\", \\\"name\\\": \\\"Ron Pekkala\\\"}, {\\\"credit_id\\\": \\\"585ea178c3a3681a6b00fc6f\\\", \\\"department\\\": \\\"Crew\\\", \\\"gender\\\": 0, \\\"id\\\": 1727308, \\\"job\\\": \\\"Set Production Assistant\\\", \\\"name\\\": \\\"William Cellini Jr.\\\"}, {\\\"credit_id\\\": \\\"585ea1cdc3a3681a7700f86f\\\", \\\"department\\\": \\\"Crew\\\", \\\"gender\\\": 0, \\\"id\\\": 1727309, \\\"job\\\": \\\"Stunts\\\", \\\"name\\\": \\\"Paolo Antonini\\\"}, {\\\"credit_id\\\": \\\"585ea3b6c3a3681a7d00eb72\\\", \\\"department\\\": \\\"Lighting\\\", \\\"gender\\\": 0, \\\"id\\\": 1727312, \\\"job\\\": \\\"Best Boy Electric\\\", \\\"name\\\": \\\"Claudio Frollano\\\"}, {\\\"credit_id\\\": \\\"585ea3c992514115cf010208\\\", \\\"department\\\": \\\"Lighting\\\", \\\"gender\\\": 0, \\\"id\\\": 1727313, \\\"job\\\": \\\"Electrician\\\", \\\"name\\\": \\\"Giovanni Gabriele\\\"}, {\\\"credit_id\\\": \\\"585ea3f592514115be00fdd0\\\", \\\"department\\\": \\\"Lighting\\\", \\\"gender\\\": 0, \\\"id\\\": 1727315, \\\"job\\\": \\\"Lighting Technician\\\", \\\"name\\\": \\\"Niles McElroy\\\"}, {\\\"credit_id\\\": \\\"585ea4a4c3a3681a68011a05\\\", \\\"department\\\": \\\"Production\\\", \\\"gender\\\": 0, \\\"id\\\": 1727319, \\\"job\\\": \\\"Location Manager\\\", \\\"name\\\": \\\"Julie Belthoise\\\"}, {\\\"credit_id\\\": \\\"585ea4b5c3a3681a6f00fd67\\\", \\\"department\\\": \\\"Production\\\", \\\"gender\\\": 0, \\\"id\\\": 1727321, \\\"job\\\": \\\"Production Accountant\\\", \\\"name\\\": \\\"Erik Bakker\\\"}, {\\\"credit_id\\\": \\\"585ea64192514115c70106bf\\\", \\\"department\\\": \\\"Sound\\\", \\\"gender\\\": 0, \\\"id\\\": 1727323, \\\"job\\\": \\\"First Assistant Sound Editor\\\", \\\"name\\\": \\\"Mick Gormaley\\\"}, {\\\"credit_id\\\": \\\"585ea76f92514115d301013b\\\", \\\"department\\\": \\\"Crew\\\", \\\"gender\\\": 0, \\\"id\\\": 1727326, \\\"job\\\": \\\"Studio Teachers\\\", \\\"name\\\": \\\"Kim Sullivan\\\"}]\",\n          \"[{\\\"credit_id\\\": \\\"5488dcbd92514161d000031c\\\", \\\"department\\\": \\\"Production\\\", \\\"gender\\\": 1, \\\"id\\\": 1720, \\\"job\\\": \\\"Casting\\\", \\\"name\\\": \\\"Ronna Kress\\\"}, {\\\"credit_id\\\": \\\"5488dd04c3a3687b91000266\\\", \\\"department\\\": \\\"Art\\\", \\\"gender\\\": 2, \\\"id\\\": 1226, \\\"job\\\": \\\"Production Design\\\", \\\"name\\\": \\\"Rick Heinrichs\\\"}, {\\\"credit_id\\\": \\\"52fe4676c3a368484e091f3d\\\", \\\"department\\\": \\\"Directing\\\", \\\"gender\\\": 2, \\\"id\\\": 510, \\\"job\\\": \\\"Director\\\", \\\"name\\\": \\\"Tim Burton\\\"}, {\\\"credit_id\\\": \\\"52fe4676c3a368484e091f43\\\", \\\"department\\\": \\\"Production\\\", \\\"gender\\\": 2, \\\"id\\\": 510, \\\"job\\\": \\\"Producer\\\", \\\"name\\\": \\\"Tim Burton\\\"}, {\\\"credit_id\\\": \\\"52fe4676c3a368484e091f77\\\", \\\"department\\\": \\\"Writing\\\", \\\"gender\\\": 2, \\\"id\\\": 510, \\\"job\\\": \\\"Characters\\\", \\\"name\\\": \\\"Tim Burton\\\"}, {\\\"credit_id\\\": \\\"52fe4676c3a368484e091f89\\\", \\\"department\\\": \\\"Writing\\\", \\\"gender\\\": 2, \\\"id\\\": 510, \\\"job\\\": \\\"Idea\\\", \\\"name\\\": \\\"Tim Burton\\\"}, {\\\"credit_id\\\": \\\"58b598379251410a8400d9a2\\\", \\\"department\\\": \\\"Sound\\\", \\\"gender\\\": 2, \\\"id\\\": 531, \\\"job\\\": \\\"Music\\\", \\\"name\\\": \\\"Danny Elfman\\\"}, {\\\"credit_id\\\": \\\"5488dccac3a3686f5b0002db\\\", \\\"department\\\": \\\"Editing\\\", \\\"gender\\\": 2, \\\"id\\\": 541, \\\"job\\\": \\\"Editor\\\", \\\"name\\\": \\\"Chris Lebenzon\\\"}, {\\\"credit_id\\\": \\\"58b5cb9b9251410a94011574\\\", \\\"department\\\": \\\"Sound\\\", \\\"gender\\\": 0, \\\"id\\\": 900, \\\"job\\\": \\\"Sound Re-Recording Mixer\\\", \\\"name\\\": \\\"Christopher Boyes\\\"}, {\\\"credit_id\\\": \\\"52fe4676c3a368484e091f71\\\", \\\"department\\\": \\\"Writing\\\", \\\"gender\\\": 2, \\\"id\\\": 1300, \\\"job\\\": \\\"Screenplay\\\", \\\"name\\\": \\\"John August\\\"}, {\\\"credit_id\\\": \\\"58b5cb8f9251416129000d9a\\\", \\\"department\\\": \\\"Sound\\\", \\\"gender\\\": 2, \\\"id\\\": 3996, \\\"job\\\": \\\"Sound Re-Recording Mixer\\\", \\\"name\\\": \\\"Tom Johnson\\\"}, {\\\"credit_id\\\": \\\"58b5cc56c3a3685edf00f855\\\", \\\"department\\\": \\\"Sound\\\", \\\"gender\\\": 0, \\\"id\\\": 9160, \\\"job\\\": \\\"Music Editor\\\", \\\"name\\\": \\\"Michael Higham\\\"}, {\\\"credit_id\\\": \\\"58b5c923c3a3684f65000009\\\", \\\"department\\\": \\\"Art\\\", \\\"gender\\\": 0, \\\"id\\\": 11226, \\\"job\\\": \\\"Art Direction\\\", \\\"name\\\": \\\"Alexandra Walker\\\"}, {\\\"credit_id\\\": \\\"58b5ce34c3a368530c0002fd\\\", \\\"department\\\": \\\"Crew\\\", \\\"gender\\\": 0, \\\"id\\\": 10409, \\\"job\\\": \\\"Thanks\\\", \\\"name\\\": \\\"Shelley Duvall\\\"}, {\\\"credit_id\\\": \\\"58b5ce569251410a88010c7c\\\", \\\"department\\\": \\\"Crew\\\", \\\"gender\\\": 2, \\\"id\\\": 11511, \\\"job\\\": \\\"Thanks\\\", \\\"name\\\": \\\"Daniel Stern\\\"}, {\\\"credit_id\\\": \\\"58b5ce64c3a3685edf00fa2c\\\", \\\"department\\\": \\\"Crew\\\", \\\"gender\\\": 2, \\\"id\\\": 12229, \\\"job\\\": \\\"Thanks\\\", \\\"name\\\": \\\"Thomas L. Wilhite\\\"}, {\\\"credit_id\\\": \\\"52fe4676c3a368484e091f49\\\", \\\"department\\\": \\\"Production\\\", \\\"gender\\\": 2, \\\"id\\\": 12824, \\\"job\\\": \\\"Executive Producer\\\", \\\"name\\\": \\\"Don Hahn\\\"}, {\\\"credit_id\\\": \\\"5488ddcac3a3687b9100027a\\\", \\\"department\\\": \\\"Production\\\", \\\"gender\\\": 0, \\\"id\\\": 34894, \\\"job\\\": \\\"Producer\\\", \\\"name\\\": \\\"Allison Abbate\\\"}, {\\\"credit_id\\\": \\\"58b5ca0ac3a3683245000c38\\\", \\\"department\\\": \\\"Production\\\", \\\"gender\\\": 0, \\\"id\\\": 59745, \\\"job\\\": \\\"Local Casting\\\", \\\"name\\\": \\\"Jen Rudin\\\"}, {\\\"credit_id\\\": \\\"58b5ce18925141788e00045a\\\", \\\"department\\\": \\\"Crew\\\", \\\"gender\\\": 2, \\\"id\\\": 29508, \\\"job\\\": \\\"Thanks\\\", \\\"name\\\": \\\"Barret Oliver\\\"}, {\\\"credit_id\\\": \\\"58b59911c3a3685f0b00df84\\\", \\\"department\\\": \\\"Writing\\\", \\\"gender\\\": 2, \\\"id\\\": 125441, \\\"job\\\": \\\"Original Story\\\", \\\"name\\\": \\\"Leonard Ripps\\\"}, {\\\"credit_id\\\": \\\"58b5cde1c3a3685eb10108b1\\\", \\\"department\\\": \\\"Crew\\\", \\\"gender\\\": 1, \\\"id\\\": 146179, \\\"job\\\": \\\"Thanks\\\", \\\"name\\\": \\\"Julie Hickson\\\"}, {\\\"credit_id\\\": \\\"5488dcee92514161d000031f\\\", \\\"department\\\": \\\"Editing\\\", \\\"gender\\\": 2, \\\"id\\\": 172733, \\\"job\\\": \\\"Editor\\\", \\\"name\\\": \\\"Mark Solomon\\\"}, {\\\"credit_id\\\": \\\"58b5c3299251410a88010319\\\", \\\"department\\\": \\\"Production\\\", \\\"gender\\\": 0, \\\"id\\\": 225791, \\\"job\\\": \\\"Unit Production Manager\\\", \\\"name\\\": \\\"Joan Schneider\\\"}, {\\\"credit_id\\\": \\\"552b7e4ac3a36859cf00659d\\\", \\\"department\\\": \\\"Writing\\\", \\\"gender\\\": 0, \\\"id\\\": 958088, \\\"job\\\": \\\"Storyboard\\\", \\\"name\\\": \\\"Jorgen Klubien\\\"}, {\\\"credit_id\\\": \\\"58b5c2e69251410a8c010e05\\\", \\\"department\\\": \\\"Production\\\", \\\"gender\\\": 2, \\\"id\\\": 959668, \\\"job\\\": \\\"Co-Producer\\\", \\\"name\\\": \\\"Derek Frey\\\"}, {\\\"credit_id\\\": \\\"58b5cab89251410a880108f9\\\", \\\"department\\\": \\\"Editing\\\", \\\"gender\\\": 2, \\\"id\\\": 1044492, \\\"job\\\": \\\"Associate Editor\\\", \\\"name\\\": \\\"Stephen Perkins\\\"}, {\\\"credit_id\\\": \\\"552b7d3f9251417c29001491\\\", \\\"department\\\": \\\"Visual Effects\\\", \\\"gender\\\": 2, \\\"id\\\": 1053243, \\\"job\\\": \\\"Animation\\\", \\\"name\\\": \\\"Cesar Diaz Melendez\\\"}, {\\\"credit_id\\\": \\\"58b5cb3ac3a3682e83000f26\\\", \\\"department\\\": \\\"Crew\\\", \\\"gender\\\": 1, \\\"id\\\": 1117950, \\\"job\\\": \\\"Post Production Supervisor\\\", \\\"name\\\": \\\"Jessie Thiele\\\"}, {\\\"credit_id\\\": \\\"5488dc9792514161d0000312\\\", \\\"department\\\": \\\"Camera\\\", \\\"gender\\\": 2, \\\"id\\\": 1134467, \\\"job\\\": \\\"Director of Photography\\\", \\\"name\\\": \\\"Peter Sorg\\\"}, {\\\"credit_id\\\": \\\"552b7f6cc3a36858d600564b\\\", \\\"department\\\": \\\"Writing\\\", \\\"gender\\\": 0, \\\"id\\\": 1168620, \\\"job\\\": \\\"Storyboard\\\", \\\"name\\\": \\\"Philip Vallentin\\\"}, {\\\"credit_id\\\": \\\"58b5c9da92514161a5000b96\\\", \\\"department\\\": \\\"Production\\\", \\\"gender\\\": 0, \\\"id\\\": 1273104, \\\"job\\\": \\\"Production Coordinator\\\", \\\"name\\\": \\\"Andrew Bonner\\\"}, {\\\"credit_id\\\": \\\"58b5cbaa9251417aaa00009f\\\", \\\"department\\\": \\\"Sound\\\", \\\"gender\\\": 0, \\\"id\\\": 1335182, \\\"job\\\": \\\"Supervising Dialogue Editor\\\", \\\"name\\\": \\\"Bjorn Ole Schroeder\\\"}, {\\\"credit_id\\\": \\\"58b5cbbb92514161a5000d08\\\", \\\"department\\\": \\\"Sound\\\", \\\"gender\\\": 0, \\\"id\\\": 1335556, \\\"job\\\": \\\"Sound Effects Designer\\\", \\\"name\\\": \\\"Michael Fentum\\\"}, {\\\"credit_id\\\": \\\"58b5cbcdc3a3683e7500083b\\\", \\\"department\\\": \\\"Sound\\\", \\\"gender\\\": 0, \\\"id\\\": 1341734, \\\"job\\\": \\\"Sound Effects Editor\\\", \\\"name\\\": \\\"Steve Browell\\\"}, {\\\"credit_id\\\": \\\"552b7d26c3a36830d40024fd\\\", \\\"department\\\": \\\"Writing\\\", \\\"gender\\\": 0, \\\"id\\\": 1364038, \\\"job\\\": \\\"Storyboard\\\", \\\"name\\\": \\\"Christian De Vita\\\"}, {\\\"credit_id\\\": \\\"58b5c2f3c3a3685edf00f154\\\", \\\"department\\\": \\\"Production\\\", \\\"gender\\\": 0, \\\"id\\\": 1364622, \\\"job\\\": \\\"Associate Producer\\\", \\\"name\\\": \\\"Connie Nartonis Thompson\\\"}, {\\\"credit_id\\\": \\\"58b5cb5f9251417aaa000051\\\", \\\"department\\\": \\\"Sound\\\", \\\"gender\\\": 0, \\\"id\\\": 1378828, \\\"job\\\": \\\"Sound Re-Recording Mixer\\\", \\\"name\\\": \\\"Michael Semanick\\\"}, {\\\"credit_id\\\": \\\"552b7e59925141288b001992\\\", \\\"department\\\": \\\"Visual Effects\\\", \\\"gender\\\": 0, \\\"id\\\": 1391724, \\\"job\\\": \\\"Animation\\\", \\\"name\\\": \\\"Danail Kraev\\\"}, {\\\"credit_id\\\": \\\"58b5c6b592514161290009a4\\\", \\\"department\\\": \\\"Visual Effects\\\", \\\"gender\\\": 0, \\\"id\\\": 1401375, \\\"job\\\": \\\"Lead Animator\\\", \\\"name\\\": \\\"Tobias Fouracre\\\"}, {\\\"credit_id\\\": \\\"58b5cb4d9251410a94011521\\\", \\\"department\\\": \\\"Sound\\\", \\\"gender\\\": 0, \\\"id\\\": 1408373, \\\"job\\\": \\\"Supervising Sound Editor\\\", \\\"name\\\": \\\"Oliver Tarney\\\"}, {\\\"credit_id\\\": \\\"58b5cbc59251416129000dda\\\", \\\"department\\\": \\\"Sound\\\", \\\"gender\\\": 0, \\\"id\\\": 1408374, \\\"job\\\": \\\"Sound Effects Editor\\\", \\\"name\\\": \\\"Dillon Bennett\\\"}, {\\\"credit_id\\\": \\\"552b7dc39251416b3e00174c\\\", \\\"department\\\": \\\"Visual Effects\\\", \\\"gender\\\": 0, \\\"id\\\": 1423225, \\\"job\\\": \\\"Animation\\\", \\\"name\\\": \\\"Chris Gilligan\\\"}, {\\\"credit_id\\\": \\\"5518d23ac3a36862f6005f38\\\", \\\"department\\\": \\\"Writing\\\", \\\"gender\\\": 2, \\\"id\\\": 1447338, \\\"job\\\": \\\"Storyboard\\\", \\\"name\\\": \\\"Padraig Collins\\\"}, {\\\"credit_id\\\": \\\"5518ea1bc3a36862ef006a25\\\", \\\"department\\\": \\\"Visual Effects\\\", \\\"gender\\\": 2, \\\"id\\\": 1447370, \\\"job\\\": \\\"Animation\\\", \\\"name\\\": \\\"Tim Allen\\\"}, {\\\"credit_id\\\": \\\"552b7d4ec3a368596e0056f3\\\", \\\"department\\\": \\\"Visual Effects\\\", \\\"gender\\\": 0, \\\"id\\\": 1448047, \\\"job\\\": \\\"Animation\\\", \\\"name\\\": \\\"Peter Dodd\\\"}, {\\\"credit_id\\\": \\\"58b5c6ad925141612900099c\\\", \\\"department\\\": \\\"Visual Effects\\\", \\\"gender\\\": 0, \\\"id\\\": 1448052, \\\"job\\\": \\\"Lead Animator\\\", \\\"name\\\": \\\"Anthony Elworthy\\\"}, {\\\"credit_id\\\": \\\"552b7dcec3a36830d400252c\\\", \\\"department\\\": \\\"Visual Effects\\\", \\\"gender\\\": 0, \\\"id\\\": 1448058, \\\"job\\\": \\\"Animation\\\", \\\"name\\\": \\\"Jens Jonathan Gulliksen\\\"}, {\\\"credit_id\\\": \\\"58b5c6bd9251410a84010fac\\\", \\\"department\\\": \\\"Visual Effects\\\", \\\"gender\\\": 0, \\\"id\\\": 1448061, \\\"job\\\": \\\"Lead Animator\\\", \\\"name\\\": \\\"Brian Leif Hansen\\\"}, {\\\"credit_id\\\": \\\"552b7f2a92514121d6002ffb\\\", \\\"department\\\": \\\"Visual Effects\\\", \\\"gender\\\": 0, \\\"id\\\": 1448071, \\\"job\\\": \\\"Animation Director\\\", \\\"name\\\": \\\"Trey Thomas\\\"}, {\\\"credit_id\\\": \\\"552b7f8892514101f60059ec\\\", \\\"department\\\": \\\"Visual Effects\\\", \\\"gender\\\": 0, \\\"id\\\": 1448076, \\\"job\\\": \\\"Animation Supervisor\\\", \\\"name\\\": \\\"Mark Waring\\\"}, {\\\"credit_id\\\": \\\"58b5c3efc3a3685f2c00f8ef\\\", \\\"department\\\": \\\"Visual Effects\\\", \\\"gender\\\": 0, \\\"id\\\": 1450948, \\\"job\\\": \\\"Visual Effects Supervisor\\\", \\\"name\\\": \\\"Tim Ledbury\\\"}, {\\\"credit_id\\\": \\\"552b7cffc3a3681f56006c9c\\\", \\\"department\\\": \\\"Visual Effects\\\", \\\"gender\\\": 0, \\\"id\\\": 1453480, \\\"job\\\": \\\"Animation\\\", \\\"name\\\": \\\"Daniel Alderson\\\"}, {\\\"credit_id\\\": \\\"552b7d0cc3a3681f5c0063d2\\\", \\\"department\\\": \\\"Visual Effects\\\", \\\"gender\\\": 0, \\\"id\\\": 1453484, \\\"job\\\": \\\"Animation\\\", \\\"name\\\": \\\"Kristien Vanden Bussche\\\"}, {\\\"credit_id\\\": \\\"552b7e6492514101f60059c5\\\", \\\"department\\\": \\\"Visual Effects\\\", \\\"gender\\\": 0, \\\"id\\\": 1453492, \\\"job\\\": \\\"Animation\\\", \\\"name\\\": \\\"Rachelle Lambden\\\"}, {\\\"credit_id\\\": \\\"552b7e6ec3a36858d6005625\\\", \\\"department\\\": \\\"Visual Effects\\\", \\\"gender\\\": 0, \\\"id\\\": 1453494, \\\"job\\\": \\\"Animation\\\", \\\"name\\\": \\\"Matias Liebrecht\\\"}, {\\\"credit_id\\\": \\\"552b7d759251416b3e00172b\\\", \\\"department\\\": \\\"Visual Effects\\\", \\\"gender\\\": 0, \\\"id\\\": 1453594, \\\"job\\\": \\\"Animation\\\", \\\"name\\\": \\\"Chuck Duke\\\"}, {\\\"credit_id\\\": \\\"552b7e3e925141265f003a80\\\", \\\"department\\\": \\\"Visual Effects\\\", \\\"gender\\\": 1, \\\"id\\\": 1453601, \\\"job\\\": \\\"Animation\\\", \\\"name\\\": \\\"Kim Keukeleire\\\"}, {\\\"credit_id\\\": \\\"552b7e89c3a3681f56006cd5\\\", \\\"department\\\": \\\"Visual Effects\\\", \\\"gender\\\": 0, \\\"id\\\": 1453602, \\\"job\\\": \\\"Animation\\\", \\\"name\\\": \\\"Jody Meredith\\\"}, {\\\"credit_id\\\": \\\"552b7eae9251417c290014c9\\\", \\\"department\\\": \\\"Visual Effects\\\", \\\"gender\\\": 0, \\\"id\\\": 1453604, \\\"job\\\": \\\"Animation\\\", \\\"name\\\": \\\"Marjolaine Parot\\\"}, {\\\"credit_id\\\": \\\"552b7eda9251417c290014d4\\\", \\\"department\\\": \\\"Writing\\\", \\\"gender\\\": 0, \\\"id\\\": 1453606, \\\"job\\\": \\\"Storyboard\\\", \\\"name\\\": \\\"Dean Roberts\\\"}, {\\\"credit_id\\\": \\\"552b7f17c3a368596e005747\\\", \\\"department\\\": \\\"Writing\\\", \\\"gender\\\": 1, \\\"id\\\": 1453607, \\\"job\\\": \\\"Storyboard\\\", \\\"name\\\": \\\"Sharon Smith\\\"}, {\\\"credit_id\\\": \\\"552b7fac9251417c290014ec\\\", \\\"department\\\": \\\"Visual Effects\\\", \\\"gender\\\": 0, \\\"id\\\": 1453609, \\\"job\\\": \\\"Animation\\\", \\\"name\\\": \\\"Steve Warne\\\"}, {\\\"credit_id\\\": \\\"552b7fb9c3a36830d4002565\\\", \\\"department\\\": \\\"Visual Effects\\\", \\\"gender\\\": 0, \\\"id\\\": 1453610, \\\"job\\\": \\\"Animation\\\", \\\"name\\\": \\\"Boris Wolf\\\"}, {\\\"credit_id\\\": \\\"58b5c6c5c3a3685f2c00fadc\\\", \\\"department\\\": \\\"Visual Effects\\\", \\\"gender\\\": 0, \\\"id\\\": 1453611, \\\"job\\\": \\\"Lead Animator\\\", \\\"name\\\": \\\"Dobrin Yanev\\\"}, {\\\"credit_id\\\": \\\"552b7fd092514108760054eb\\\", \\\"department\\\": \\\"Writing\\\", \\\"gender\\\": 0, \\\"id\\\": 1453612, \\\"job\\\": \\\"Storyboard\\\", \\\"name\\\": \\\"Gabriele Zucchelli\\\"}, {\\\"credit_id\\\": \\\"58b5cbd79251410a9001126e\\\", \\\"department\\\": \\\"Sound\\\", \\\"gender\\\": 0, \\\"id\\\": 1459875, \\\"job\\\": \\\"Assistant Sound Editor\\\", \\\"name\\\": \\\"Rachael Tate\\\"}, {\\\"credit_id\\\": \\\"58b5ca599251416129000c9c\\\", \\\"department\\\": \\\"Production\\\", \\\"gender\\\": 0, \\\"id\\\": 1511002, \\\"job\\\": \\\"Production Accountant\\\", \\\"name\\\": \\\"Jeffrey Broom\\\"}, {\\\"credit_id\\\": \\\"58b5cc68c3a3683e750008e9\\\", \\\"department\\\": \\\"Sound\\\", \\\"gender\\\": 0, \\\"id\\\": 1547231, \\\"job\\\": \\\"Orchestrator\\\", \\\"name\\\": \\\"Edgardo Simone\\\"}, {\\\"credit_id\\\": \\\"58b5caf1c3a3684f6500016e\\\", \\\"department\\\": \\\"Editing\\\", \\\"gender\\\": 0, \\\"id\\\": 1555173, \\\"job\\\": \\\"First Assistant Editor\\\", \\\"name\\\": \\\"Tom Kemplen\\\"}, {\\\"credit_id\\\": \\\"58b5cc769251410a84011475\\\", \\\"department\\\": \\\"Sound\\\", \\\"gender\\\": 0, \\\"id\\\": 1566831, \\\"job\\\": \\\"Orchestrator\\\", \\\"name\\\": \\\"David Slonaker\\\"}, {\\\"credit_id\\\": \\\"58b5cc359251417aaa00013c\\\", \\\"department\\\": \\\"Art\\\", \\\"gender\\\": 0, \\\"id\\\": 1651253, \\\"job\\\": \\\"Title Designer\\\", \\\"name\\\": \\\"Richard Morrison\\\"}, {\\\"credit_id\\\": \\\"58b5cc3bc3a3682e8300100e\\\", \\\"department\\\": \\\"Art\\\", \\\"gender\\\": 0, \\\"id\\\": 1651265, \\\"job\\\": \\\"Title Designer\\\", \\\"name\\\": \\\"Dean Wares\\\"}, {\\\"credit_id\\\": \\\"58b5ca179251416129000c6c\\\", \\\"department\\\": \\\"Production\\\", \\\"gender\\\": 0, \\\"id\\\": 1661326, \\\"job\\\": \\\"Casting Associate\\\", \\\"name\\\": \\\"Caitlin Well\\\"}, {\\\"credit_id\\\": \\\"58b5c30f92514161a5000649\\\", \\\"department\\\": \\\"Production\\\", \\\"gender\\\": 0, \\\"id\\\": 1767234, \\\"job\\\": \\\"Line Producer\\\", \\\"name\\\": \\\"Simon Quinn\\\"}, {\\\"credit_id\\\": \\\"58b5c379c3a3682e83000960\\\", \\\"department\\\": \\\"Directing\\\", \\\"gender\\\": 2, \\\"id\\\": 1767236, \\\"job\\\": \\\"First Assistant Director\\\", \\\"name\\\": \\\"Kev Harwood\\\"}, {\\\"credit_id\\\": \\\"58b5c9119251410a84011176\\\", \\\"department\\\": \\\"Art\\\", \\\"gender\\\": 0, \\\"id\\\": 1767242, \\\"job\\\": \\\"Art Direction\\\", \\\"name\\\": \\\"Tim Browning\\\"}, {\\\"credit_id\\\": \\\"58b5c9ba925141788e000062\\\", \\\"department\\\": \\\"Lighting\\\", \\\"gender\\\": 0, \\\"id\\\": 1767243, \\\"job\\\": \\\"Gaffer\\\", \\\"name\\\": \\\"Toby Farrar\\\"}, {\\\"credit_id\\\": \\\"58b5c9e1c3a3685eb101053c\\\", \\\"department\\\": \\\"Production\\\", \\\"gender\\\": 0, \\\"id\\\": 1767244, \\\"job\\\": \\\"Production Coordinator\\\", \\\"name\\\": \\\"Alice Lister\\\"}, {\\\"credit_id\\\": \\\"58b5c9e8925141788e00008b\\\", \\\"department\\\": \\\"Production\\\", \\\"gender\\\": 0, \\\"id\\\": 1767245, \\\"job\\\": \\\"Production Coordinator\\\", \\\"name\\\": \\\"Faye Robinson\\\"}, {\\\"credit_id\\\": \\\"58b5c9f892514161a5000bba\\\", \\\"department\\\": \\\"Directing\\\", \\\"gender\\\": 0, \\\"id\\\": 1767246, \\\"job\\\": \\\"Second Assistant Director\\\", \\\"name\\\": \\\"Richard Lake\\\"}, {\\\"credit_id\\\": \\\"58b5ca77c3a3683ae700084a\\\", \\\"department\\\": \\\"Visual Effects\\\", \\\"gender\\\": 0, \\\"id\\\": 1767247, \\\"job\\\": \\\"Visual Effects Producer\\\", \\\"name\\\": \\\"Jonny Ffinch\\\"}, {\\\"credit_id\\\": \\\"58b5cb039251410a940114ce\\\", \\\"department\\\": \\\"Crew\\\", \\\"gender\\\": 0, \\\"id\\\": 1767248, \\\"job\\\": \\\"Visual Effects Editor\\\", \\\"name\\\": \\\"Lucy Benson\\\"}]\",\n          \"[{\\\"credit_id\\\": \\\"52fe435b9251416c7500d40f\\\", \\\"department\\\": \\\"Sound\\\", \\\"gender\\\": 2, \\\"id\\\": 1213, \\\"job\\\": \\\"Original Music Composer\\\", \\\"name\\\": \\\"James Newton Howard\\\"}, {\\\"credit_id\\\": \\\"52fe435b9251416c7500d3f7\\\", \\\"department\\\": \\\"Production\\\", \\\"gender\\\": 1, \\\"id\\\": 3662, \\\"job\\\": \\\"Executive Producer\\\", \\\"name\\\": \\\"Cis Corman\\\"}, {\\\"credit_id\\\": \\\"52fe435b9251416c7500d415\\\", \\\"department\\\": \\\"Camera\\\", \\\"gender\\\": 2, \\\"id\\\": 5582, \\\"job\\\": \\\"Director of Photography\\\", \\\"name\\\": \\\"Stephen Goldblatt\\\"}, {\\\"credit_id\\\": \\\"52fe435b9251416c7500d409\\\", \\\"department\\\": \\\"Production\\\", \\\"gender\\\": 0, \\\"id\\\": 10400, \\\"job\\\": \\\"Producer\\\", \\\"name\\\": \\\"Barbra Streisand\\\"}, {\\\"credit_id\\\": \\\"52fe435b9251416c7500d421\\\", \\\"department\\\": \\\"Directing\\\", \\\"gender\\\": 0, \\\"id\\\": 10400, \\\"job\\\": \\\"Director\\\", \\\"name\\\": \\\"Barbra Streisand\\\"}, {\\\"credit_id\\\": \\\"52fe435b9251416c7500d41b\\\", \\\"department\\\": \\\"Editing\\\", \\\"gender\\\": 2, \\\"id\\\": 15005, \\\"job\\\": \\\"Editor\\\", \\\"name\\\": \\\"Don Zimmerman\\\"}, {\\\"credit_id\\\": \\\"52fe435b9251416c7500d3f1\\\", \\\"department\\\": \\\"Writing\\\", \\\"gender\\\": 1, \\\"id\\\": 14588, \\\"job\\\": \\\"Screenplay\\\", \\\"name\\\": \\\"Becky Johnston\\\"}, {\\\"credit_id\\\": \\\"52fe435b9251416c7500d3eb\\\", \\\"department\\\": \\\"Writing\\\", \\\"gender\\\": 0, \\\"id\\\": 64839, \\\"job\\\": \\\"Novel\\\", \\\"name\\\": \\\"Pat Conroy\\\"}, {\\\"credit_id\\\": \\\"52fe435b9251416c7500d427\\\", \\\"department\\\": \\\"Writing\\\", \\\"gender\\\": 0, \\\"id\\\": 64839, \\\"job\\\": \\\"Screenplay\\\", \\\"name\\\": \\\"Pat Conroy\\\"}, {\\\"credit_id\\\": \\\"52fe435b9251416c7500d3fd\\\", \\\"department\\\": \\\"Production\\\", \\\"gender\\\": 2, \\\"id\\\": 64841, \\\"job\\\": \\\"Producer\\\", \\\"name\\\": \\\"Andrew S. Karsch\\\"}, {\\\"credit_id\\\": \\\"52fe435b9251416c7500d403\\\", \\\"department\\\": \\\"Production\\\", \\\"gender\\\": 0, \\\"id\\\": 64842, \\\"job\\\": \\\"Executive Producer\\\", \\\"name\\\": \\\"James T. Roe III\\\"}]\"\n        ],\n        \"semantic_type\": \"\",\n        \"description\": \"\"\n      }\n    }\n  ]\n}"
            }
          },
          "metadata": {},
          "execution_count": 10
        }
      ]
    },
    {
      "cell_type": "code",
      "source": [
        "movies.dropna(inplace=True)\n",
        "movies.isnull().sum()"
      ],
      "metadata": {
        "colab": {
          "base_uri": "https://localhost:8080/",
          "height": 304
        },
        "id": "oeYWPmgECSe0",
        "outputId": "57c86e87-01da-46a6-92c6-0e157e8c029a"
      },
      "execution_count": null,
      "outputs": [
        {
          "output_type": "execute_result",
          "data": {
            "text/plain": [
              "genres      0\n",
              "title       0\n",
              "id          0\n",
              "keywords    0\n",
              "overview    0\n",
              "cast        0\n",
              "crew        0\n",
              "dtype: int64"
            ],
            "text/html": [
              "<div>\n",
              "<style scoped>\n",
              "    .dataframe tbody tr th:only-of-type {\n",
              "        vertical-align: middle;\n",
              "    }\n",
              "\n",
              "    .dataframe tbody tr th {\n",
              "        vertical-align: top;\n",
              "    }\n",
              "\n",
              "    .dataframe thead th {\n",
              "        text-align: right;\n",
              "    }\n",
              "</style>\n",
              "<table border=\"1\" class=\"dataframe\">\n",
              "  <thead>\n",
              "    <tr style=\"text-align: right;\">\n",
              "      <th></th>\n",
              "      <th>0</th>\n",
              "    </tr>\n",
              "  </thead>\n",
              "  <tbody>\n",
              "    <tr>\n",
              "      <th>genres</th>\n",
              "      <td>0</td>\n",
              "    </tr>\n",
              "    <tr>\n",
              "      <th>title</th>\n",
              "      <td>0</td>\n",
              "    </tr>\n",
              "    <tr>\n",
              "      <th>id</th>\n",
              "      <td>0</td>\n",
              "    </tr>\n",
              "    <tr>\n",
              "      <th>keywords</th>\n",
              "      <td>0</td>\n",
              "    </tr>\n",
              "    <tr>\n",
              "      <th>overview</th>\n",
              "      <td>0</td>\n",
              "    </tr>\n",
              "    <tr>\n",
              "      <th>cast</th>\n",
              "      <td>0</td>\n",
              "    </tr>\n",
              "    <tr>\n",
              "      <th>crew</th>\n",
              "      <td>0</td>\n",
              "    </tr>\n",
              "  </tbody>\n",
              "</table>\n",
              "</div><br><label><b>dtype:</b> int64</label>"
            ]
          },
          "metadata": {},
          "execution_count": 11
        }
      ]
    },
    {
      "cell_type": "code",
      "source": [
        "movies.duplicated().sum()"
      ],
      "metadata": {
        "colab": {
          "base_uri": "https://localhost:8080/"
        },
        "id": "2Gd0qX1XGPud",
        "outputId": "f7433d26-05e8-48d3-e7d3-7db47cba677f"
      },
      "execution_count": null,
      "outputs": [
        {
          "output_type": "execute_result",
          "data": {
            "text/plain": [
              "0"
            ]
          },
          "metadata": {},
          "execution_count": 12
        }
      ]
    },
    {
      "cell_type": "code",
      "source": [
        "movies.iloc[0].genres\n",
        "import ast"
      ],
      "metadata": {
        "id": "42NVlr7-Hn3W"
      },
      "execution_count": null,
      "outputs": []
    },
    {
      "cell_type": "code",
      "source": [
        "def convert(obj):\n",
        "    l=[]\n",
        "    for i in ast.literal_eval(obj):\n",
        "        l.append(i['name'])\n",
        "    return l\n",
        "#"
      ],
      "metadata": {
        "id": "vgtDHEEObvNI"
      },
      "execution_count": null,
      "outputs": []
    },
    {
      "cell_type": "code",
      "source": [
        "movies['genres']=movies['genres'].apply(convert)"
      ],
      "metadata": {
        "id": "2KGuw7wSc-wq"
      },
      "execution_count": null,
      "outputs": []
    },
    {
      "cell_type": "code",
      "source": [
        "movies.sample(1)"
      ],
      "metadata": {
        "colab": {
          "base_uri": "https://localhost:8080/",
          "height": 133
        },
        "id": "pptYfTr_dBds",
        "outputId": "feabe874-616a-4c7d-88ba-6018ed3a1bdc"
      },
      "execution_count": null,
      "outputs": [
        {
          "output_type": "execute_result",
          "data": {
            "text/plain": [
              "                                   genres        title    id  \\\n",
              "1826  [Action, Thriller, Science Fiction]  Cloverfield  7191   \n",
              "\n",
              "                                               keywords  \\\n",
              "1826  [{\"id\": 720, \"name\": \"helicopter\"}, {\"id\": 129...   \n",
              "\n",
              "                                               overview  \\\n",
              "1826  Five young New Yorkers throw their friend a go...   \n",
              "\n",
              "                                                   cast  \\\n",
              "1826  [{\"cast_id\": 11, \"character\": \"Marlena\", \"cred...   \n",
              "\n",
              "                                                   crew  \n",
              "1826  [{\"credit_id\": \"54b0517692514174810004ab\", \"de...  "
            ],
            "text/html": [
              "\n",
              "  <div id=\"df-cff49413-d824-4518-84cd-97875f3314e3\" class=\"colab-df-container\">\n",
              "    <div>\n",
              "<style scoped>\n",
              "    .dataframe tbody tr th:only-of-type {\n",
              "        vertical-align: middle;\n",
              "    }\n",
              "\n",
              "    .dataframe tbody tr th {\n",
              "        vertical-align: top;\n",
              "    }\n",
              "\n",
              "    .dataframe thead th {\n",
              "        text-align: right;\n",
              "    }\n",
              "</style>\n",
              "<table border=\"1\" class=\"dataframe\">\n",
              "  <thead>\n",
              "    <tr style=\"text-align: right;\">\n",
              "      <th></th>\n",
              "      <th>genres</th>\n",
              "      <th>title</th>\n",
              "      <th>id</th>\n",
              "      <th>keywords</th>\n",
              "      <th>overview</th>\n",
              "      <th>cast</th>\n",
              "      <th>crew</th>\n",
              "    </tr>\n",
              "  </thead>\n",
              "  <tbody>\n",
              "    <tr>\n",
              "      <th>1826</th>\n",
              "      <td>[Action, Thriller, Science Fiction]</td>\n",
              "      <td>Cloverfield</td>\n",
              "      <td>7191</td>\n",
              "      <td>[{\"id\": 720, \"name\": \"helicopter\"}, {\"id\": 129...</td>\n",
              "      <td>Five young New Yorkers throw their friend a go...</td>\n",
              "      <td>[{\"cast_id\": 11, \"character\": \"Marlena\", \"cred...</td>\n",
              "      <td>[{\"credit_id\": \"54b0517692514174810004ab\", \"de...</td>\n",
              "    </tr>\n",
              "  </tbody>\n",
              "</table>\n",
              "</div>\n",
              "    <div class=\"colab-df-buttons\">\n",
              "\n",
              "  <div class=\"colab-df-container\">\n",
              "    <button class=\"colab-df-convert\" onclick=\"convertToInteractive('df-cff49413-d824-4518-84cd-97875f3314e3')\"\n",
              "            title=\"Convert this dataframe to an interactive table.\"\n",
              "            style=\"display:none;\">\n",
              "\n",
              "  <svg xmlns=\"http://www.w3.org/2000/svg\" height=\"24px\" viewBox=\"0 -960 960 960\">\n",
              "    <path d=\"M120-120v-720h720v720H120Zm60-500h600v-160H180v160Zm220 220h160v-160H400v160Zm0 220h160v-160H400v160ZM180-400h160v-160H180v160Zm440 0h160v-160H620v160ZM180-180h160v-160H180v160Zm440 0h160v-160H620v160Z\"/>\n",
              "  </svg>\n",
              "    </button>\n",
              "\n",
              "  <style>\n",
              "    .colab-df-container {\n",
              "      display:flex;\n",
              "      gap: 12px;\n",
              "    }\n",
              "\n",
              "    .colab-df-convert {\n",
              "      background-color: #E8F0FE;\n",
              "      border: none;\n",
              "      border-radius: 50%;\n",
              "      cursor: pointer;\n",
              "      display: none;\n",
              "      fill: #1967D2;\n",
              "      height: 32px;\n",
              "      padding: 0 0 0 0;\n",
              "      width: 32px;\n",
              "    }\n",
              "\n",
              "    .colab-df-convert:hover {\n",
              "      background-color: #E2EBFA;\n",
              "      box-shadow: 0px 1px 2px rgba(60, 64, 67, 0.3), 0px 1px 3px 1px rgba(60, 64, 67, 0.15);\n",
              "      fill: #174EA6;\n",
              "    }\n",
              "\n",
              "    .colab-df-buttons div {\n",
              "      margin-bottom: 4px;\n",
              "    }\n",
              "\n",
              "    [theme=dark] .colab-df-convert {\n",
              "      background-color: #3B4455;\n",
              "      fill: #D2E3FC;\n",
              "    }\n",
              "\n",
              "    [theme=dark] .colab-df-convert:hover {\n",
              "      background-color: #434B5C;\n",
              "      box-shadow: 0px 1px 3px 1px rgba(0, 0, 0, 0.15);\n",
              "      filter: drop-shadow(0px 1px 2px rgba(0, 0, 0, 0.3));\n",
              "      fill: #FFFFFF;\n",
              "    }\n",
              "  </style>\n",
              "\n",
              "    <script>\n",
              "      const buttonEl =\n",
              "        document.querySelector('#df-cff49413-d824-4518-84cd-97875f3314e3 button.colab-df-convert');\n",
              "      buttonEl.style.display =\n",
              "        google.colab.kernel.accessAllowed ? 'block' : 'none';\n",
              "\n",
              "      async function convertToInteractive(key) {\n",
              "        const element = document.querySelector('#df-cff49413-d824-4518-84cd-97875f3314e3');\n",
              "        const dataTable =\n",
              "          await google.colab.kernel.invokeFunction('convertToInteractive',\n",
              "                                                    [key], {});\n",
              "        if (!dataTable) return;\n",
              "\n",
              "        const docLinkHtml = 'Like what you see? Visit the ' +\n",
              "          '<a target=\"_blank\" href=https://colab.research.google.com/notebooks/data_table.ipynb>data table notebook</a>'\n",
              "          + ' to learn more about interactive tables.';\n",
              "        element.innerHTML = '';\n",
              "        dataTable['output_type'] = 'display_data';\n",
              "        await google.colab.output.renderOutput(dataTable, element);\n",
              "        const docLink = document.createElement('div');\n",
              "        docLink.innerHTML = docLinkHtml;\n",
              "        element.appendChild(docLink);\n",
              "      }\n",
              "    </script>\n",
              "  </div>\n",
              "\n",
              "\n",
              "    </div>\n",
              "  </div>\n"
            ],
            "application/vnd.google.colaboratory.intrinsic+json": {
              "type": "dataframe",
              "summary": "{\n  \"name\": \"movies\",\n  \"rows\": 1,\n  \"fields\": [\n    {\n      \"column\": \"genres\",\n      \"properties\": {\n        \"dtype\": \"object\",\n        \"semantic_type\": \"\",\n        \"description\": \"\"\n      }\n    },\n    {\n      \"column\": \"title\",\n      \"properties\": {\n        \"dtype\": \"string\",\n        \"num_unique_values\": 1,\n        \"samples\": [\n          \"Cloverfield\"\n        ],\n        \"semantic_type\": \"\",\n        \"description\": \"\"\n      }\n    },\n    {\n      \"column\": \"id\",\n      \"properties\": {\n        \"dtype\": \"number\",\n        \"std\": null,\n        \"min\": 7191,\n        \"max\": 7191,\n        \"num_unique_values\": 1,\n        \"samples\": [\n          7191\n        ],\n        \"semantic_type\": \"\",\n        \"description\": \"\"\n      }\n    },\n    {\n      \"column\": \"keywords\",\n      \"properties\": {\n        \"dtype\": \"string\",\n        \"num_unique_values\": 1,\n        \"samples\": [\n          \"[{\\\"id\\\": 720, \\\"name\\\": \\\"helicopter\\\"}, {\\\"id\\\": 1299, \\\"name\\\": \\\"monster\\\"}, {\\\"id\\\": 1418, \\\"name\\\": \\\"skyscraper\\\"}, {\\\"id\\\": 1721, \\\"name\\\": \\\"fight\\\"}, {\\\"id\\\": 2249, \\\"name\\\": \\\"camcorder\\\"}, {\\\"id\\\": 4210, \\\"name\\\": \\\"panic\\\"}, {\\\"id\\\": 4630, \\\"name\\\": \\\"chaos\\\"}, {\\\"id\\\": 6152, \\\"name\\\": \\\"supernatural\\\"}, {\\\"id\\\": 6898, \\\"name\\\": \\\"quarantine\\\"}, {\\\"id\\\": 9713, \\\"name\\\": \\\"friends\\\"}, {\\\"id\\\": 9951, \\\"name\\\": \\\"alien\\\"}, {\\\"id\\\": 10084, \\\"name\\\": \\\"rescue\\\"}, {\\\"id\\\": 10349, \\\"name\\\": \\\"survival\\\"}, {\\\"id\\\": 10617, \\\"name\\\": \\\"disaster\\\"}, {\\\"id\\\": 10685, \\\"name\\\": \\\"escape\\\"}, {\\\"id\\\": 11100, \\\"name\\\": \\\"giant monster\\\"}, {\\\"id\\\": 161791, \\\"name\\\": \\\"kaiju\\\"}, {\\\"id\\\": 162365, \\\"name\\\": \\\"military\\\"}, {\\\"id\\\": 163053, \\\"name\\\": \\\"found footage\\\"}, {\\\"id\\\": 179430, \\\"name\\\": \\\"aftercreditsstinger\\\"}]\"\n        ],\n        \"semantic_type\": \"\",\n        \"description\": \"\"\n      }\n    },\n    {\n      \"column\": \"overview\",\n      \"properties\": {\n        \"dtype\": \"string\",\n        \"num_unique_values\": 1,\n        \"samples\": [\n          \"Five young New Yorkers throw their friend a going-away party the night that a monster the size of a skyscraper descends upon the city. Told from the point of view of their video camera, the film is a document of their attempt to survive the most surreal, horrifying event of their lives.\"\n        ],\n        \"semantic_type\": \"\",\n        \"description\": \"\"\n      }\n    },\n    {\n      \"column\": \"cast\",\n      \"properties\": {\n        \"dtype\": \"string\",\n        \"num_unique_values\": 1,\n        \"samples\": [\n          \"[{\\\"cast_id\\\": 11, \\\"character\\\": \\\"Marlena\\\", \\\"credit_id\\\": \\\"52fe4472c3a36847f809690d\\\", \\\"gender\\\": 1, \\\"id\\\": 51988, \\\"name\\\": \\\"Lizzy Caplan\\\", \\\"order\\\": 0}, {\\\"cast_id\\\": 12, \\\"character\\\": \\\"Lily\\\", \\\"credit_id\\\": \\\"52fe4472c3a36847f8096911\\\", \\\"gender\\\": 1, \\\"id\\\": 51989, \\\"name\\\": \\\"Jessica Lucas\\\", \\\"order\\\": 1}, {\\\"cast_id\\\": 16, \\\"character\\\": \\\"Beth\\\", \\\"credit_id\\\": \\\"52fe4472c3a36847f8096921\\\", \\\"gender\\\": 1, \\\"id\\\": 51992, \\\"name\\\": \\\"Odette Annable\\\", \\\"order\\\": 2}, {\\\"cast_id\\\": 14, \\\"character\\\": \\\"Rob\\\", \\\"credit_id\\\": \\\"52fe4472c3a36847f8096919\\\", \\\"gender\\\": 2, \\\"id\\\": 51991, \\\"name\\\": \\\"Michael Stahl-David\\\", \\\"order\\\": 3}, {\\\"cast_id\\\": 15, \\\"character\\\": \\\"Jason\\\", \\\"credit_id\\\": \\\"52fe4472c3a36847f809691d\\\", \\\"gender\\\": 2, \\\"id\\\": 6858, \\\"name\\\": \\\"Mike Vogel\\\", \\\"order\\\": 4}, {\\\"cast_id\\\": 13, \\\"character\\\": \\\"Hud\\\", \\\"credit_id\\\": \\\"52fe4472c3a36847f8096915\\\", \\\"gender\\\": 2, \\\"id\\\": 51990, \\\"name\\\": \\\"T.J. Miller\\\", \\\"order\\\": 5}, {\\\"cast_id\\\": 17, \\\"character\\\": \\\"Kassierer\\\", \\\"credit_id\\\": \\\"52fe4472c3a36847f8096925\\\", \\\"gender\\\": 0, \\\"id\\\": 51993, \\\"name\\\": \\\"Anjul Nigam\\\", \\\"order\\\": 6}, {\\\"cast_id\\\": 18, \\\"character\\\": \\\"Jenn\\\", \\\"credit_id\\\": \\\"52fe4472c3a36847f8096929\\\", \\\"gender\\\": 0, \\\"id\\\": 51994, \\\"name\\\": \\\"Margot Farley\\\", \\\"order\\\": 7}, {\\\"cast_id\\\": 19, \\\"character\\\": \\\"Antonio\\\", \\\"credit_id\\\": \\\"52fe4472c3a36847f809692d\\\", \\\"gender\\\": 2, \\\"id\\\": 51995, \\\"name\\\": \\\"Theo Rossi\\\", \\\"order\\\": 8}, {\\\"cast_id\\\": 20, \\\"character\\\": \\\"Charlie\\\", \\\"credit_id\\\": \\\"52fe4472c3a36847f8096931\\\", \\\"gender\\\": 2, \\\"id\\\": 51996, \\\"name\\\": \\\"Brian Klugman\\\", \\\"order\\\": 9}, {\\\"cast_id\\\": 21, \\\"character\\\": \\\"Clark\\\", \\\"credit_id\\\": \\\"52fe4472c3a36847f8096935\\\", \\\"gender\\\": 2, \\\"id\\\": 51997, \\\"name\\\": \\\"Kelvin Yu\\\", \\\"order\\\": 10}, {\\\"cast_id\\\": 22, \\\"character\\\": \\\"Heather\\\", \\\"credit_id\\\": \\\"52fe4472c3a36847f8096939\\\", \\\"gender\\\": 1, \\\"id\\\": 51998, \\\"name\\\": \\\"Liza Lapira\\\", \\\"order\\\": 11}, {\\\"cast_id\\\": 23, \\\"character\\\": \\\"Lei\\\", \\\"credit_id\\\": \\\"52fe4472c3a36847f809693d\\\", \\\"gender\\\": 0, \\\"id\\\": 51999, \\\"name\\\": \\\"Lili Mirojnick\\\", \\\"order\\\": 12}, {\\\"cast_id\\\": 26, \\\"character\\\": \\\"Travis\\\", \\\"credit_id\\\": \\\"52fe4472c3a36847f809694d\\\", \\\"gender\\\": 2, \\\"id\\\": 78431, \\\"name\\\": \\\"Ben Feldman\\\", \\\"order\\\": 13}, {\\\"cast_id\\\": 27, \\\"character\\\": \\\"Party Goer\\\", \\\"credit_id\\\": \\\"52fe4472c3a36847f8096951\\\", \\\"gender\\\": 0, \\\"id\\\": 209670, \\\"name\\\": \\\"Elena Caruso\\\", \\\"order\\\": 14}, {\\\"cast_id\\\": 28, \\\"character\\\": \\\"Party Goer\\\", \\\"credit_id\\\": \\\"52fe4472c3a36847f8096955\\\", \\\"gender\\\": 0, \\\"id\\\": 1205127, \\\"name\\\": \\\"Vakisha Coleman\\\", \\\"order\\\": 15}, {\\\"cast_id\\\": 29, \\\"character\\\": \\\"Party Goer\\\", \\\"credit_id\\\": \\\"52fe4472c3a36847f8096959\\\", \\\"gender\\\": 2, \\\"id\\\": 203750, \\\"name\\\": \\\"Will Greenberg\\\", \\\"order\\\": 16}, {\\\"cast_id\\\": 30, \\\"character\\\": \\\"Party Goer\\\", \\\"credit_id\\\": \\\"52fe4472c3a36847f809695d\\\", \\\"gender\\\": 2, \\\"id\\\": 150209, \\\"name\\\": \\\"Rob Kerkovich\\\", \\\"order\\\": 17}, {\\\"cast_id\\\": 31, \\\"character\\\": \\\"Party Goer\\\", \\\"credit_id\\\": \\\"52fe4472c3a36847f8096961\\\", \\\"gender\\\": 0, \\\"id\\\": 1205128, \\\"name\\\": \\\"Ryan Key\\\", \\\"order\\\": 18}, {\\\"cast_id\\\": 32, \\\"character\\\": \\\"Party Goer\\\", \\\"credit_id\\\": \\\"52fe4472c3a36847f8096965\\\", \\\"gender\\\": 0, \\\"id\\\": 1205129, \\\"name\\\": \\\"Hooman Khalili\\\", \\\"order\\\": 19}, {\\\"cast_id\\\": 33, \\\"character\\\": \\\"Party Goer\\\", \\\"credit_id\\\": \\\"52fe4472c3a36847f8096969\\\", \\\"gender\\\": 1, \\\"id\\\": 204460, \\\"name\\\": \\\"Rasika Mathur\\\", \\\"order\\\": 20}, {\\\"cast_id\\\": 34, \\\"character\\\": \\\"Party Goer\\\", \\\"credit_id\\\": \\\"52fe4472c3a36847f809696d\\\", \\\"gender\\\": 0, \\\"id\\\": 1187107, \\\"name\\\": \\\"Baron Vaughn\\\", \\\"order\\\": 21}, {\\\"cast_id\\\": 35, \\\"character\\\": \\\"Party Goer\\\", \\\"credit_id\\\": \\\"52fe4472c3a36847f8096971\\\", \\\"gender\\\": 1, \\\"id\\\": 93285, \\\"name\\\": \\\"Charlyne Yi\\\", \\\"order\\\": 22}, {\\\"cast_id\\\": 36, \\\"character\\\": \\\"Herself\\\", \\\"credit_id\\\": \\\"52fe4472c3a36847f8096975\\\", \\\"gender\\\": 0, \\\"id\\\": 162555, \\\"name\\\": \\\"Roma Torre\\\", \\\"order\\\": 23}, {\\\"cast_id\\\": 37, \\\"character\\\": \\\"Frantic Man\\\", \\\"credit_id\\\": \\\"52fe4472c3a36847f8096979\\\", \\\"gender\\\": 2, \\\"id\\\": 1539, \\\"name\\\": \\\"Rick Overton\\\", \\\"order\\\": 24}, {\\\"cast_id\\\": 38, \\\"character\\\": \\\"Burly Guy\\\", \\\"credit_id\\\": \\\"52fe4472c3a36847f809697d\\\", \\\"gender\\\": 2, \\\"id\\\": 328645, \\\"name\\\": \\\"Martin Cohen\\\", \\\"order\\\": 25}, {\\\"cast_id\\\": 39, \\\"character\\\": \\\"Police Officer\\\", \\\"credit_id\\\": \\\"52fe4472c3a36847f8096981\\\", \\\"gender\\\": 2, \\\"id\\\": 60432, \\\"name\\\": \\\"Jason Cerbone\\\", \\\"order\\\": 26}, {\\\"cast_id\\\": 40, \\\"character\\\": \\\"Russian Man on Street\\\", \\\"credit_id\\\": \\\"52fe4472c3a36847f8096985\\\", \\\"gender\\\": 2, \\\"id\\\": 52762, \\\"name\\\": \\\"Pavel Lychnikoff\\\", \\\"order\\\": 27}, {\\\"cast_id\\\": 41, \\\"character\\\": \\\"Staff Sgt. Pryce\\\", \\\"credit_id\\\": \\\"52fe4472c3a36847f8096989\\\", \\\"gender\\\": 2, \\\"id\\\": 64805, \\\"name\\\": \\\"Billy Brown\\\", \\\"order\\\": 28}, {\\\"cast_id\\\": 42, \\\"character\\\": \\\"Lead Soldier\\\", \\\"credit_id\\\": \\\"52fe4472c3a36847f809698d\\\", \\\"gender\\\": 2, \\\"id\\\": 42317, \\\"name\\\": \\\"Scott Lawrence\\\", \\\"order\\\": 29}, {\\\"cast_id\\\": 43, \\\"character\\\": \\\"Soldier\\\", \\\"credit_id\\\": \\\"52fe4472c3a36847f8096991\\\", \\\"gender\\\": 0, \\\"id\\\": 1016151, \\\"name\\\": \\\"Jeffrey De Serrano\\\", \\\"order\\\": 30}, {\\\"cast_id\\\": 44, \\\"character\\\": \\\"Command Center Officer\\\", \\\"credit_id\\\": \\\"52fe4472c3a36847f8096995\\\", \\\"gender\\\": 2, \\\"id\\\": 27031, \\\"name\\\": \\\"Tim Griffin\\\", \\\"order\\\": 31}, {\\\"cast_id\\\": 45, \\\"character\\\": \\\"Lt. Col. Graff\\\", \\\"credit_id\\\": \\\"52fe4472c3a36847f8096999\\\", \\\"gender\\\": 2, \\\"id\\\": 15824, \\\"name\\\": \\\"Chris Mulkey\\\", \\\"order\\\": 32}, {\\\"cast_id\\\": 46, \\\"character\\\": \\\"Medic\\\", \\\"credit_id\\\": \\\"52fe4472c3a36847f809699d\\\", \\\"gender\\\": 0, \\\"id\\\": 62852, \\\"name\\\": \\\"Susse Budde\\\", \\\"order\\\": 33}, {\\\"cast_id\\\": 47, \\\"character\\\": \\\"Second Medic\\\", \\\"credit_id\\\": \\\"52fe4472c3a36847f80969a1\\\", \\\"gender\\\": 0, \\\"id\\\": 565187, \\\"name\\\": \\\"Jason Lombard\\\", \\\"order\\\": 34}, {\\\"cast_id\\\": 48, \\\"character\\\": \\\"Helicopter Pilot\\\", \\\"credit_id\\\": \\\"52fe4472c3a36847f80969a5\\\", \\\"gender\\\": 2, \\\"id\\\": 99764, \\\"name\\\": \\\"Jamie Martz\\\", \\\"order\\\": 35}, {\\\"cast_id\\\": 49, \\\"character\\\": \\\"New York Street Pedestrian (uncredited)\\\", \\\"credit_id\\\": \\\"52fe4472c3a36847f80969a9\\\", \\\"gender\\\": 2, \\\"id\\\": 208360, \\\"name\\\": \\\"Don Abernathy\\\", \\\"order\\\": 36}, {\\\"cast_id\\\": 50, \\\"character\\\": \\\"Party Goer (uncredited)\\\", \\\"credit_id\\\": \\\"52fe4472c3a36847f80969ad\\\", \\\"gender\\\": 0, \\\"id\\\": 1174981, \\\"name\\\": \\\"Michael Ark\\\", \\\"order\\\": 37}, {\\\"cast_id\\\": 51, \\\"character\\\": \\\"Party Bartender (uncredited)\\\", \\\"credit_id\\\": \\\"52fe4472c3a36847f80969b1\\\", \\\"gender\\\": 0, \\\"id\\\": 1205130, \\\"name\\\": \\\"Caley Bisson\\\", \\\"order\\\": 38}, {\\\"cast_id\\\": 52, \\\"character\\\": \\\"EMS Commander (uncredited)\\\", \\\"credit_id\\\": \\\"52fe4472c3a36847f80969b5\\\", \\\"gender\\\": 2, \\\"id\\\": 115978, \\\"name\\\": \\\"James Thomas Bligh\\\", \\\"order\\\": 39}, {\\\"cast_id\\\": 53, \\\"character\\\": \\\"Frantic Girl on Bridge (uncredited)\\\", \\\"credit_id\\\": \\\"52fe4472c3a36847f80969b9\\\", \\\"gender\\\": 1, \\\"id\\\": 1205131, \\\"name\\\": \\\"Maylen Calienes\\\", \\\"order\\\": 40}, {\\\"cast_id\\\": 54, \\\"character\\\": \\\"Army Sgt. First Class (uncredited)\\\", \\\"credit_id\\\": \\\"52fe4472c3a36847f80969bd\\\", \\\"gender\\\": 0, \\\"id\\\": 1205132, \\\"name\\\": \\\"Craig Dabbs\\\", \\\"order\\\": 41}, {\\\"cast_id\\\": 55, \\\"character\\\": \\\"Boy Looking at Magazines (uncredited)\\\", \\\"credit_id\\\": \\\"52fe4472c3a36847f80969c1\\\", \\\"gender\\\": 0, \\\"id\\\": 1205133, \\\"name\\\": \\\"Tommy Gerrits\\\", \\\"order\\\": 42}, {\\\"cast_id\\\": 56, \\\"character\\\": \\\"National Guardsman / Tank Gunner (uncredited)\\\", \\\"credit_id\\\": \\\"52fe4472c3a36847f80969c5\\\", \\\"gender\\\": 0, \\\"id\\\": 1205134, \\\"name\\\": \\\"Jason Giffin\\\", \\\"order\\\": 43}, {\\\"cast_id\\\": 57, \\\"character\\\": \\\"Military Personnel (uncredited)\\\", \\\"credit_id\\\": \\\"52fe4472c3a36847f80969c9\\\", \\\"gender\\\": 0, \\\"id\\\": 1205135, \\\"name\\\": \\\"Adam Greeves\\\", \\\"order\\\": 44}, {\\\"cast_id\\\": 58, \\\"character\\\": \\\"Military Personnel (uncredited)\\\", \\\"credit_id\\\": \\\"52fe4472c3a36847f80969cd\\\", \\\"gender\\\": 0, \\\"id\\\": 208008, \\\"name\\\": \\\"Brandon G. Holley\\\", \\\"order\\\": 45}, {\\\"cast_id\\\": 59, \\\"character\\\": \\\"Party Goer (uncredited)\\\", \\\"credit_id\\\": \\\"52fe4472c3a36847f80969d1\\\", \\\"gender\\\": 0, \\\"id\\\": 97532, \\\"name\\\": \\\"Hisonni Johnson\\\", \\\"order\\\": 46}, {\\\"cast_id\\\": 60, \\\"character\\\": \\\"New Yorker (uncredited)\\\", \\\"credit_id\\\": \\\"52fe4472c3a36847f80969d5\\\", \\\"gender\\\": 0, \\\"id\\\": 1205136, \\\"name\\\": \\\"Adam Karst\\\", \\\"order\\\": 47}, {\\\"cast_id\\\": 61, \\\"character\\\": \\\"Rocketeer / Soldier (uncredited)\\\", \\\"credit_id\\\": \\\"52fe4472c3a36847f80969d9\\\", \\\"gender\\\": 0, \\\"id\\\": 1205137, \\\"name\\\": \\\"Julio Leal\\\", \\\"order\\\": 48}, {\\\"cast_id\\\": 62, \\\"character\\\": \\\"Helicopter Pilot (voice) (uncredited)\\\", \\\"credit_id\\\": \\\"52fe4473c3a36847f80969dd\\\", \\\"gender\\\": 2, \\\"id\\\": 51683, \\\"name\\\": \\\"Jake McLaughlin\\\", \\\"order\\\": 49}, {\\\"cast_id\\\": 63, \\\"character\\\": \\\"Injured Girl (uncredited)\\\", \\\"credit_id\\\": \\\"52fe4473c3a36847f80969e1\\\", \\\"gender\\\": 1, \\\"id\\\": 1205138, \\\"name\\\": \\\"Rachel Mower\\\", \\\"order\\\": 50}, {\\\"cast_id\\\": 64, \\\"character\\\": \\\"First Man Coughing (uncredited)\\\", \\\"credit_id\\\": \\\"52fe4473c3a36847f80969e5\\\", \\\"gender\\\": 0, \\\"id\\\": 128973, \\\"name\\\": \\\"Gene Richards\\\", \\\"order\\\": 51}, {\\\"cast_id\\\": 65, \\\"character\\\": \\\"Military Personnel (uncredited)\\\", \\\"credit_id\\\": \\\"52fe4473c3a36847f80969e9\\\", \\\"gender\\\": 0, \\\"id\\\": 97466, \\\"name\\\": \\\"Bertrand Roberson Jr.\\\", \\\"order\\\": 52}, {\\\"cast_id\\\": 66, \\\"character\\\": \\\"Injured Guy on Bridge (uncredited)\\\", \\\"credit_id\\\": \\\"52fe4473c3a36847f80969ed\\\", \\\"gender\\\": 0, \\\"id\\\": 1205139, \\\"name\\\": \\\"John Robert\\\", \\\"order\\\": 53}, {\\\"cast_id\\\": 67, \\\"character\\\": \\\"Party Goer (uncredited)\\\", \\\"credit_id\\\": \\\"52fe4473c3a36847f80969f1\\\", \\\"gender\\\": 0, \\\"id\\\": 210849, \\\"name\\\": \\\"Chris Spinelli\\\", \\\"order\\\": 54}, {\\\"cast_id\\\": 68, \\\"character\\\": \\\"Military Personel (uncredited)\\\", \\\"credit_id\\\": \\\"52fe4473c3a36847f80969f5\\\", \\\"gender\\\": 0, \\\"id\\\": 1205140, \\\"name\\\": \\\"Andrew Trujillo\\\", \\\"order\\\": 55}, {\\\"cast_id\\\": 69, \\\"character\\\": \\\"Brooklyn Bridge Victim (uncredited)\\\", \\\"credit_id\\\": \\\"52fe4473c3a36847f80969f9\\\", \\\"gender\\\": 1, \\\"id\\\": 1205141, \\\"name\\\": \\\"Maria Zambrana\\\", \\\"order\\\": 56}]\"\n        ],\n        \"semantic_type\": \"\",\n        \"description\": \"\"\n      }\n    },\n    {\n      \"column\": \"crew\",\n      \"properties\": {\n        \"dtype\": \"string\",\n        \"num_unique_values\": 1,\n        \"samples\": [\n          \"[{\\\"credit_id\\\": \\\"54b0517692514174810004ab\\\", \\\"department\\\": \\\"Art\\\", \\\"gender\\\": 0, \\\"id\\\": 497, \\\"job\\\": \\\"Art Direction\\\", \\\"name\\\": \\\"Doug J. Meerdink\\\"}, {\\\"credit_id\\\": \\\"52fe4472c3a36847f8096909\\\", \\\"department\\\": \\\"Costume & Make-Up\\\", \\\"gender\\\": 1, \\\"id\\\": 7735, \\\"job\\\": \\\"Costume Design\\\", \\\"name\\\": \\\"Ellen Mirojnick\\\"}, {\\\"credit_id\\\": \\\"54b0518f9251417479000441\\\", \\\"department\\\": \\\"Art\\\", \\\"gender\\\": 2, \\\"id\\\": 8274, \\\"job\\\": \\\"Set Decoration\\\", \\\"name\\\": \\\"Robert Greenfield\\\"}, {\\\"credit_id\\\": \\\"54b05805c3a3680940000593\\\", \\\"department\\\": \\\"Visual Effects\\\", \\\"gender\\\": 0, \\\"id\\\": 9776, \\\"job\\\": \\\"Visual Effects Producer\\\", \\\"name\\\": \\\"Chantal Feghali\\\"}, {\\\"credit_id\\\": \\\"52fe4472c3a36847f8096903\\\", \\\"department\\\": \\\"Editing\\\", \\\"gender\\\": 2, \\\"id\\\": 11001, \\\"job\\\": \\\"Editor\\\", \\\"name\\\": \\\"Kevin Stitt\\\"}, {\\\"credit_id\\\": \\\"52fe4472c3a36847f80968df\\\", \\\"department\\\": \\\"Production\\\", \\\"gender\\\": 2, \\\"id\\\": 15344, \\\"job\\\": \\\"Producer\\\", \\\"name\\\": \\\"J.J. Abrams\\\"}, {\\\"credit_id\\\": \\\"54b05591925141746c0004e1\\\", \\\"department\\\": \\\"Sound\\\", \\\"gender\\\": 0, \\\"id\\\": 20228, \\\"job\\\": \\\"Foley\\\", \\\"name\\\": \\\"Goro Koyama\\\"}, {\\\"credit_id\\\": \\\"54b055f3c3a368094a0004ea\\\", \\\"department\\\": \\\"Sound\\\", \\\"gender\\\": 0, \\\"id\\\": 20229, \\\"job\\\": \\\"Foley\\\", \\\"name\\\": \\\"Andy Malcolm\\\"}, {\\\"credit_id\\\": \\\"52fe4472c3a36847f80968d3\\\", \\\"department\\\": \\\"Directing\\\", \\\"gender\\\": 2, \\\"id\\\": 32278, \\\"job\\\": \\\"Director\\\", \\\"name\\\": \\\"Matt Reeves\\\"}, {\\\"credit_id\\\": \\\"54b0530ac3a368094a0004d6\\\", \\\"department\\\": \\\"Art\\\", \\\"gender\\\": 0, \\\"id\\\": 11102, \\\"job\\\": \\\"Set Designer\\\", \\\"name\\\": \\\"Chad S. Frey\\\"}, {\\\"credit_id\\\": \\\"52fe4472c3a36847f80968d9\\\", \\\"department\\\": \\\"Writing\\\", \\\"gender\\\": 2, \\\"id\\\": 47506, \\\"job\\\": \\\"Screenplay\\\", \\\"name\\\": \\\"Drew Goddard\\\"}, {\\\"credit_id\\\": \\\"52fe4472c3a36847f80968e5\\\", \\\"department\\\": \\\"Production\\\", \\\"gender\\\": 2, \\\"id\\\": 28977, \\\"job\\\": \\\"Producer\\\", \\\"name\\\": \\\"Bryan Burk\\\"}, {\\\"credit_id\\\": \\\"52fe4472c3a36847f80968eb\\\", \\\"department\\\": \\\"Production\\\", \\\"gender\\\": 2, \\\"id\\\": 51985, \\\"job\\\": \\\"Executive Producer\\\", \\\"name\\\": \\\"Guy Riedel\\\"}, {\\\"credit_id\\\": \\\"52fe4472c3a36847f80968f1\\\", \\\"department\\\": \\\"Production\\\", \\\"gender\\\": 0, \\\"id\\\": 51986, \\\"job\\\": \\\"Executive Producer\\\", \\\"name\\\": \\\"Sherryl Clark\\\"}, {\\\"credit_id\\\": \\\"52fe4472c3a36847f80968f7\\\", \\\"department\\\": \\\"Camera\\\", \\\"gender\\\": 2, \\\"id\\\": 36224, \\\"job\\\": \\\"Director of Photography\\\", \\\"name\\\": \\\"Michael Bonvillain\\\"}, {\\\"credit_id\\\": \\\"52fe4472c3a36847f80968fd\\\", \\\"department\\\": \\\"Art\\\", \\\"gender\\\": 2, \\\"id\\\": 51987, \\\"job\\\": \\\"Production Design\\\", \\\"name\\\": \\\"Martin Whist\\\"}, {\\\"credit_id\\\": \\\"54b057369251417481000523\\\", \\\"department\\\": \\\"Crew\\\", \\\"gender\\\": 2, \\\"id\\\": 58188, \\\"job\\\": \\\"Visual Effects Editor\\\", \\\"name\\\": \\\"Steve R. Moore\\\"}, {\\\"credit_id\\\": \\\"54b05a9e925141747e000546\\\", \\\"department\\\": \\\"Crew\\\", \\\"gender\\\": 0, \\\"id\\\": 112289, \\\"job\\\": \\\"Video Assist Operator\\\", \\\"name\\\": \\\"Chris Shadley\\\"}, {\\\"credit_id\\\": \\\"52fe4472c3a36847f8096943\\\", \\\"department\\\": \\\"Production\\\", \\\"gender\\\": 0, \\\"id\\\": 150010, \\\"job\\\": \\\"Producer\\\", \\\"name\\\": \\\"David Baronoff\\\"}, {\\\"credit_id\\\": \\\"54b0525a925141746e00067b\\\", \\\"department\\\": \\\"Art\\\", \\\"gender\\\": 0, \\\"id\\\": 484529, \\\"job\\\": \\\"Art Department Coordinator\\\", \\\"name\\\": \\\"Mike Piccirillo\\\"}, {\\\"credit_id\\\": \\\"52fe4472c3a36847f8096949\\\", \\\"department\\\": \\\"Production\\\", \\\"gender\\\": 0, \\\"id\\\": 765144, \\\"job\\\": \\\"Casting\\\", \\\"name\\\": \\\"Alyssa Weisberg\\\"}, {\\\"credit_id\\\": \\\"54b051dcc3a368094a0004b6\\\", \\\"department\\\": \\\"Costume & Make-Up\\\", \\\"gender\\\": 0, \\\"id\\\": 1206190, \\\"job\\\": \\\"Makeup Artist\\\", \\\"name\\\": \\\"Jake Garber\\\"}, {\\\"credit_id\\\": \\\"54b058a992514174720004dd\\\", \\\"department\\\": \\\"Visual Effects\\\", \\\"gender\\\": 0, \\\"id\\\": 1282566, \\\"job\\\": \\\"Animation Supervisor\\\", \\\"name\\\": \\\"Tom Gibbons\\\"}, {\\\"credit_id\\\": \\\"54b051b0925141746c000481\\\", \\\"department\\\": \\\"Costume & Make-Up\\\", \\\"gender\\\": 0, \\\"id\\\": 1316599, \\\"job\\\": \\\"Makeup Department Head\\\", \\\"name\\\": \\\"Dennis Liddiard\\\"}, {\\\"credit_id\\\": \\\"54b05b0dc3a3680945000669\\\", \\\"department\\\": \\\"Costume & Make-Up\\\", \\\"gender\\\": 0, \\\"id\\\": 1321589, \\\"job\\\": \\\"Costume Supervisor\\\", \\\"name\\\": \\\"Robert Q. Mathews\\\"}, {\\\"credit_id\\\": \\\"54b05b209251417472000508\\\", \\\"department\\\": \\\"Costume & Make-Up\\\", \\\"gender\\\": 0, \\\"id\\\": 1331650, \\\"job\\\": \\\"Costume Supervisor\\\", \\\"name\\\": \\\"Winsome G. McKoy\\\"}, {\\\"credit_id\\\": \\\"54b052bb925141746e000681\\\", \\\"department\\\": \\\"Crew\\\", \\\"gender\\\": 0, \\\"id\\\": 1333220, \\\"job\\\": \\\"Property Master\\\", \\\"name\\\": \\\"Michael Saccio\\\"}, {\\\"credit_id\\\": \\\"54b0556892514174720004ab\\\", \\\"department\\\": \\\"Sound\\\", \\\"gender\\\": 2, \\\"id\\\": 1338976, \\\"job\\\": \\\"Sound Re-Recording Mixer\\\", \\\"name\\\": \\\"Andy Nelson\\\"}, {\\\"credit_id\\\": \\\"54b0533c9251417479000458\\\", \\\"department\\\": \\\"Art\\\", \\\"gender\\\": 0, \\\"id\\\": 1339445, \\\"job\\\": \\\"Construction Coordinator\\\", \\\"name\\\": \\\"Chris Snyder\\\"}, {\\\"credit_id\\\": \\\"5724fe3ac3a368180a00097d\\\", \\\"department\\\": \\\"Crew\\\", \\\"gender\\\": 2, \\\"id\\\": 1371444, \\\"job\\\": \\\"Production Office Assistant\\\", \\\"name\\\": \\\"Ben Sokolowski\\\"}, {\\\"credit_id\\\": \\\"54b05950c3a3680939000597\\\", \\\"department\\\": \\\"Camera\\\", \\\"gender\\\": 2, \\\"id\\\": 1371676, \\\"job\\\": \\\"Camera Operator\\\", \\\"name\\\": \\\"Robert Reed Altman\\\"}, {\\\"credit_id\\\": \\\"54b054a0c3a368093c000550\\\", \\\"department\\\": \\\"Editing\\\", \\\"gender\\\": 0, \\\"id\\\": 1376899, \\\"job\\\": \\\"Dialogue Editor\\\", \\\"name\\\": \\\"Cheryl Nardi\\\"}, {\\\"credit_id\\\": \\\"54b05a30925141746c000532\\\", \\\"department\\\": \\\"Camera\\\", \\\"gender\\\": 0, \\\"id\\\": 1377502, \\\"job\\\": \\\"Still Photographer\\\", \\\"name\\\": \\\"Sam Emerson\\\"}, {\\\"credit_id\\\": \\\"54b054cdc3a3680940000550\\\", \\\"department\\\": \\\"Sound\\\", \\\"gender\\\": 0, \\\"id\\\": 1389133, \\\"job\\\": \\\"Sound Designer\\\", \\\"name\\\": \\\"Will Files\\\"}, {\\\"credit_id\\\": \\\"54b0540f925141746c0004b7\\\", \\\"department\\\": \\\"Sound\\\", \\\"gender\\\": 0, \\\"id\\\": 1389133, \\\"job\\\": \\\"Supervising Sound Editor\\\", \\\"name\\\": \\\"Will Files\\\"}, {\\\"credit_id\\\": \\\"54b054e59251417479000470\\\", \\\"department\\\": \\\"Sound\\\", \\\"gender\\\": 0, \\\"id\\\": 1389134, \\\"job\\\": \\\"Sound Designer\\\", \\\"name\\\": \\\"Douglas Murray\\\"}, {\\\"credit_id\\\": \\\"54b053f6925141747500055d\\\", \\\"department\\\": \\\"Sound\\\", \\\"gender\\\": 0, \\\"id\\\": 1389134, \\\"job\\\": \\\"Supervising Sound Editor\\\", \\\"name\\\": \\\"Douglas Murray\\\"}, {\\\"credit_id\\\": \\\"54b05440925141747e0004dc\\\", \\\"department\\\": \\\"Crew\\\", \\\"gender\\\": 0, \\\"id\\\": 1391678, \\\"job\\\": \\\"Sound Recordist\\\", \\\"name\\\": \\\"Blake R. Cornett\\\"}, {\\\"credit_id\\\": \\\"54b05479925141747e0004f5\\\", \\\"department\\\": \\\"Crew\\\", \\\"gender\\\": 0, \\\"id\\\": 1393001, \\\"job\\\": \\\"Sound Recordist\\\", \\\"name\\\": \\\"Clint Smith\\\"}, {\\\"credit_id\\\": \\\"54b05610c3a3680945000605\\\", \\\"department\\\": \\\"Sound\\\", \\\"gender\\\": 0, \\\"id\\\": 1393441, \\\"job\\\": \\\"Dolby Consultant\\\", \\\"name\\\": \\\"Bryan Arenas\\\"}, {\\\"credit_id\\\": \\\"54b059d892514174750005e5\\\", \\\"department\\\": \\\"Camera\\\", \\\"gender\\\": 0, \\\"id\\\": 1393449, \\\"job\\\": \\\"Camera Operator\\\", \\\"name\\\": \\\"Andy Shuttleworth\\\"}, {\\\"credit_id\\\": \\\"54b0550ac3a3680939000559\\\", \\\"department\\\": \\\"Sound\\\", \\\"gender\\\": 2, \\\"id\\\": 1399116, \\\"job\\\": \\\"Sound Effects Editor\\\", \\\"name\\\": \\\"Robert Shoup\\\"}, {\\\"credit_id\\\": \\\"54b0565a925141747e000513\\\", \\\"department\\\": \\\"Crew\\\", \\\"gender\\\": 0, \\\"id\\\": 1399561, \\\"job\\\": \\\"Visual Effects Editor\\\", \\\"name\\\": \\\"Simon Allmark\\\"}, {\\\"credit_id\\\": \\\"54b0590f925141747e00053a\\\", \\\"department\\\": \\\"Crew\\\", \\\"gender\\\": 2, \\\"id\\\": 1399638, \\\"job\\\": \\\"Stunt Coordinator\\\", \\\"name\\\": \\\"Rob King\\\"}, {\\\"credit_id\\\": \\\"54b05bef92514174790004de\\\", \\\"department\\\": \\\"Crew\\\", \\\"gender\\\": 0, \\\"id\\\": 1399640, \\\"job\\\": \\\"Transportation Coordinator\\\", \\\"name\\\": \\\"James Lowder\\\"}, {\\\"credit_id\\\": \\\"54b053c7c3a3680956000474\\\", \\\"department\\\": \\\"Crew\\\", \\\"gender\\\": 0, \\\"id\\\": 1400488, \\\"job\\\": \\\"Scenic Artist\\\", \\\"name\\\": \\\"Victor Morales\\\"}, {\\\"credit_id\\\": \\\"54b052db9251417485000473\\\", \\\"department\\\": \\\"Art\\\", \\\"gender\\\": 0, \\\"id\\\": 1400555, \\\"job\\\": \\\"Set Designer\\\", \\\"name\\\": \\\"George Lee\\\"}, {\\\"credit_id\\\": \\\"54b051f2c3a368093c000508\\\", \\\"department\\\": \\\"Costume & Make-Up\\\", \\\"gender\\\": 0, \\\"id\\\": 1401606, \\\"job\\\": \\\"Hairstylist\\\", \\\"name\\\": \\\"Lori McCoy-Bell\\\"}, {\\\"credit_id\\\": \\\"54b05546c3a368094a0004e7\\\", \\\"department\\\": \\\"Sound\\\", \\\"gender\\\": 0, \\\"id\\\": 1401687, \\\"job\\\": \\\"Sound Re-Recording Mixer\\\", \\\"name\\\": \\\"Anna Behlmer\\\"}, {\\\"credit_id\\\": \\\"54b05c73c3a3680956000509\\\", \\\"department\\\": \\\"Directing\\\", \\\"gender\\\": 1, \\\"id\\\": 1403421, \\\"job\\\": \\\"Script Supervisor\\\", \\\"name\\\": \\\"Dawn Gilliam\\\"}, {\\\"credit_id\\\": \\\"54b056ae92514174750005a9\\\", \\\"department\\\": \\\"Visual Effects\\\", \\\"gender\\\": 2, \\\"id\\\": 1406759, \\\"job\\\": \\\"Visual Effects Supervisor\\\", \\\"name\\\": \\\"Michael Bruce Ellis\\\"}, {\\\"credit_id\\\": \\\"54b056f4925141746c000502\\\", \\\"department\\\": \\\"Crew\\\", \\\"gender\\\": 0, \\\"id\\\": 1406836, \\\"job\\\": \\\"Visual Effects Editor\\\", \\\"name\\\": \\\"Lee Ifans\\\"}, {\\\"credit_id\\\": \\\"54b05bb1c3a3680945000672\\\", \\\"department\\\": \\\"Editing\\\", \\\"gender\\\": 0, \\\"id\\\": 1409245, \\\"job\\\": \\\"Digital Intermediate\\\", \\\"name\\\": \\\"Mike Chiado\\\"}, {\\\"credit_id\\\": \\\"54b05bd8925141746e0006fc\\\", \\\"department\\\": \\\"Sound\\\", \\\"gender\\\": 0, \\\"id\\\": 1409877, \\\"job\\\": \\\"Music Editor\\\", \\\"name\\\": \\\"Stephanie Lowry\\\"}, {\\\"credit_id\\\": \\\"54b057ad92514174750005c6\\\", \\\"department\\\": \\\"Visual Effects\\\", \\\"gender\\\": 0, \\\"id\\\": 1410187, \\\"job\\\": \\\"Visual Effects Producer\\\", \\\"name\\\": \\\"Rupert Porter\\\"}, {\\\"credit_id\\\": \\\"54b051c5c3a368094a0004b2\\\", \\\"department\\\": \\\"Costume & Make-Up\\\", \\\"gender\\\": 0, \\\"id\\\": 1411501, \\\"job\\\": \\\"Makeup Artist\\\", \\\"name\\\": \\\"Norman Bryn\\\"}, {\\\"credit_id\\\": \\\"54b0520b925141746e000671\\\", \\\"department\\\": \\\"Costume & Make-Up\\\", \\\"gender\\\": 0, \\\"id\\\": 1411503, \\\"job\\\": \\\"Hairstylist\\\", \\\"name\\\": \\\"Merribelle Anderson\\\"}, {\\\"credit_id\\\": \\\"54b0521e92514174810004c2\\\", \\\"department\\\": \\\"Costume & Make-Up\\\", \\\"gender\\\": 0, \\\"id\\\": 1411508, \\\"job\\\": \\\"Hairstylist\\\", \\\"name\\\": \\\"Frank Vazquez\\\"}, {\\\"credit_id\\\": \\\"54b0529dc3a36809450005a6\\\", \\\"department\\\": \\\"Art\\\", \\\"gender\\\": 0, \\\"id\\\": 1411509, \\\"job\\\": \\\"Set Designer\\\", \\\"name\\\": \\\"Jane Wuu\\\"}, {\\\"credit_id\\\": \\\"54b052f89251417485000477\\\", \\\"department\\\": \\\"Crew\\\", \\\"gender\\\": 0, \\\"id\\\": 1411512, \\\"job\\\": \\\"Property Master\\\", \\\"name\\\": \\\"J. Michael Glynn\\\"}, {\\\"credit_id\\\": \\\"54b05367925141747200047d\\\", \\\"department\\\": \\\"Art\\\", \\\"gender\\\": 0, \\\"id\\\": 1411517, \\\"job\\\": \\\"Greensman\\\", \\\"name\\\": \\\"David Corral\\\"}, {\\\"credit_id\\\": \\\"54b0537ec3a368093c000531\\\", \\\"department\\\": \\\"Art\\\", \\\"gender\\\": 0, \\\"id\\\": 1411518, \\\"job\\\": \\\"Leadman\\\", \\\"name\\\": \\\"Peter K. Dunbar\\\"}, {\\\"credit_id\\\": \\\"54b05392c3a368093c000539\\\", \\\"department\\\": \\\"Art\\\", \\\"gender\\\": 0, \\\"id\\\": 1411519, \\\"job\\\": \\\"Leadman\\\", \\\"name\\\": \\\"Alan Easley\\\"}, {\\\"credit_id\\\": \\\"54b053b0c3a36809450005ba\\\", \\\"department\\\": \\\"Crew\\\", \\\"gender\\\": 0, \\\"id\\\": 1411520, \\\"job\\\": \\\"Scenic Artist\\\", \\\"name\\\": \\\"Charles Kern\\\"}, {\\\"credit_id\\\": \\\"54b0545bc3a368094000053a\\\", \\\"department\\\": \\\"Crew\\\", \\\"gender\\\": 0, \\\"id\\\": 1411521, \\\"job\\\": \\\"Sound Recordist\\\", \\\"name\\\": \\\"Craig Heath\\\"}, {\\\"credit_id\\\": \\\"54b05526c3a368095600048a\\\", \\\"department\\\": \\\"Sound\\\", \\\"gender\\\": 0, \\\"id\\\": 1411522, \\\"job\\\": \\\"Sound Effects Editor\\\", \\\"name\\\": \\\"Luke Dunn Gielmuda\\\"}, {\\\"credit_id\\\": \\\"54b05628c3a368093900056d\\\", \\\"department\\\": \\\"Crew\\\", \\\"gender\\\": 0, \\\"id\\\": 1411523, \\\"job\\\": \\\"Special Effects Coordinator\\\", \\\"name\\\": \\\"Connie Brink\\\"}, {\\\"credit_id\\\": \\\"54b05671c3a368093c000571\\\", \\\"department\\\": \\\"Visual Effects\\\", \\\"gender\\\": 0, \\\"id\\\": 1411526, \\\"job\\\": \\\"Visual Effects Supervisor\\\", \\\"name\\\": \\\"Kevin Blank\\\"}, {\\\"credit_id\\\": \\\"54b05820925141746c00051d\\\", \\\"department\\\": \\\"Crew\\\", \\\"gender\\\": 0, \\\"id\\\": 1411527, \\\"job\\\": \\\"CG Supervisor\\\", \\\"name\\\": \\\"Russell Darling\\\"}, {\\\"credit_id\\\": \\\"54b056db92514174850004b1\\\", \\\"department\\\": \\\"Crew\\\", \\\"gender\\\": 0, \\\"id\\\": 1411530, \\\"job\\\": \\\"Visual Effects Editor\\\", \\\"name\\\": \\\"Jennifer Hutcheon\\\"}, {\\\"credit_id\\\": \\\"54b0576692514174850004ba\\\", \\\"department\\\": \\\"Crew\\\", \\\"gender\\\": 0, \\\"id\\\": 1411532, \\\"job\\\": \\\"Visual Effects Editor\\\", \\\"name\\\": \\\"Derek Walsh\\\"}, {\\\"credit_id\\\": \\\"54b0578792514174720004cb\\\", \\\"department\\\": \\\"Crew\\\", \\\"gender\\\": 0, \\\"id\\\": 1411533, \\\"job\\\": \\\"CG Supervisor\\\", \\\"name\\\": \\\"David Vickery\\\"}, {\\\"credit_id\\\": \\\"54b057c2c3a3680939000582\\\", \\\"department\\\": \\\"Visual Effects\\\", \\\"gender\\\": 0, \\\"id\\\": 1411534, \\\"job\\\": \\\"Visual Effects Producer\\\", \\\"name\\\": \\\"Annie Pomeranz\\\"}, {\\\"credit_id\\\": \\\"54b0583692514174720004d3\\\", \\\"department\\\": \\\"Visual Effects\\\", \\\"gender\\\": 0, \\\"id\\\": 1411535, \\\"job\\\": \\\"Visual Effects Producer\\\", \\\"name\\\": \\\"Sarah Coatts\\\"}, {\\\"credit_id\\\": \\\"54b059ae925141748100053f\\\", \\\"department\\\": \\\"Camera\\\", \\\"gender\\\": 0, \\\"id\\\": 1411538, \\\"job\\\": \\\"Camera Operator\\\", \\\"name\\\": \\\"Chris Hayes\\\"}, {\\\"credit_id\\\": \\\"54b05b39c3a368094e000807\\\", \\\"department\\\": \\\"Costume & Make-Up\\\", \\\"gender\\\": 0, \\\"id\\\": 1411539, \\\"job\\\": \\\"Set Costumer\\\", \\\"name\\\": \\\"April Krueger\\\"}, {\\\"credit_id\\\": \\\"54b05b71c3a3680951000589\\\", \\\"department\\\": \\\"Editing\\\", \\\"gender\\\": 0, \\\"id\\\": 1411540, \\\"job\\\": \\\"Digital Intermediate\\\", \\\"name\\\": \\\"Des Carey\\\"}, {\\\"credit_id\\\": \\\"54b05b8bc3a36809560004f8\\\", \\\"department\\\": \\\"Editing\\\", \\\"gender\\\": 0, \\\"id\\\": 1411541, \\\"job\\\": \\\"Digital Intermediate\\\", \\\"name\\\": \\\"Missy Papageorge\\\"}, {\\\"credit_id\\\": \\\"54b05c1dc3a368094e000817\\\", \\\"department\\\": \\\"Crew\\\", \\\"gender\\\": 0, \\\"id\\\": 1411542, \\\"job\\\": \\\"Picture Car Coordinator\\\", \\\"name\\\": \\\"Jim Moores\\\"}, {\\\"credit_id\\\": \\\"54b05c41c3a3680956000504\\\", \\\"department\\\": \\\"Production\\\", \\\"gender\\\": 0, \\\"id\\\": 1411544, \\\"job\\\": \\\"Location Manager\\\", \\\"name\\\": \\\"Demian Resnick\\\"}, {\\\"credit_id\\\": \\\"54b05c5a9251417472000522\\\", \\\"department\\\": \\\"Production\\\", \\\"gender\\\": 0, \\\"id\\\": 1411545, \\\"job\\\": \\\"Location Manager\\\", \\\"name\\\": \\\"Greg Lazzaro\\\"}, {\\\"credit_id\\\": \\\"54ca0879c3a3680924006143\\\", \\\"department\\\": \\\"Crew\\\", \\\"gender\\\": 0, \\\"id\\\": 1415650, \\\"job\\\": \\\"Unit Publicist\\\", \\\"name\\\": \\\"Will Casey\\\"}, {\\\"credit_id\\\": \\\"553dc3af92514135c8005614\\\", \\\"department\\\": \\\"Lighting\\\", \\\"gender\\\": 0, \\\"id\\\": 1453943, \\\"job\\\": \\\"Lighting Technician\\\", \\\"name\\\": \\\"Howard R. Campbell\\\"}, {\\\"credit_id\\\": \\\"570f0c97c3a368536d001c9a\\\", \\\"department\\\": \\\"Editing\\\", \\\"gender\\\": 0, \\\"id\\\": 1457666, \\\"job\\\": \\\"Assistant Editor\\\", \\\"name\\\": \\\"Kris Cole\\\"}]\"\n        ],\n        \"semantic_type\": \"\",\n        \"description\": \"\"\n      }\n    }\n  ]\n}"
            }
          },
          "metadata": {},
          "execution_count": 16
        }
      ]
    },
    {
      "cell_type": "code",
      "source": [
        "movies['keywords']=movies['keywords'].apply(convert)"
      ],
      "metadata": {
        "id": "okPxi0hzeYWd"
      },
      "execution_count": null,
      "outputs": []
    },
    {
      "cell_type": "code",
      "source": [
        "movies.sample(1)"
      ],
      "metadata": {
        "colab": {
          "base_uri": "https://localhost:8080/",
          "height": 115
        },
        "id": "melfq1RpefFb",
        "outputId": "7cf20513-9726-4748-efd3-1a50345a77ff"
      },
      "execution_count": null,
      "outputs": [
        {
          "output_type": "execute_result",
          "data": {
            "text/plain": [
              "                 genres            title      id  \\\n",
              "1187  [Thriller, Drama]  Bridge of Spies  296098   \n",
              "\n",
              "                                               keywords  \\\n",
              "1187  [spy, cia, cold war, soviet union, pilot, lawy...   \n",
              "\n",
              "                                               overview  \\\n",
              "1187  During the Cold War, the Soviet Union captures...   \n",
              "\n",
              "                                                   cast  \\\n",
              "1187  [{\"cast_id\": 0, \"character\": \"James B. Donovan...   \n",
              "\n",
              "                                                   crew  \n",
              "1187  [{\"credit_id\": \"564b24409251414dd1003509\", \"de...  "
            ],
            "text/html": [
              "\n",
              "  <div id=\"df-f31e22e5-7116-4222-84fb-bb3aafe0ca00\" class=\"colab-df-container\">\n",
              "    <div>\n",
              "<style scoped>\n",
              "    .dataframe tbody tr th:only-of-type {\n",
              "        vertical-align: middle;\n",
              "    }\n",
              "\n",
              "    .dataframe tbody tr th {\n",
              "        vertical-align: top;\n",
              "    }\n",
              "\n",
              "    .dataframe thead th {\n",
              "        text-align: right;\n",
              "    }\n",
              "</style>\n",
              "<table border=\"1\" class=\"dataframe\">\n",
              "  <thead>\n",
              "    <tr style=\"text-align: right;\">\n",
              "      <th></th>\n",
              "      <th>genres</th>\n",
              "      <th>title</th>\n",
              "      <th>id</th>\n",
              "      <th>keywords</th>\n",
              "      <th>overview</th>\n",
              "      <th>cast</th>\n",
              "      <th>crew</th>\n",
              "    </tr>\n",
              "  </thead>\n",
              "  <tbody>\n",
              "    <tr>\n",
              "      <th>1187</th>\n",
              "      <td>[Thriller, Drama]</td>\n",
              "      <td>Bridge of Spies</td>\n",
              "      <td>296098</td>\n",
              "      <td>[spy, cia, cold war, soviet union, pilot, lawy...</td>\n",
              "      <td>During the Cold War, the Soviet Union captures...</td>\n",
              "      <td>[{\"cast_id\": 0, \"character\": \"James B. Donovan...</td>\n",
              "      <td>[{\"credit_id\": \"564b24409251414dd1003509\", \"de...</td>\n",
              "    </tr>\n",
              "  </tbody>\n",
              "</table>\n",
              "</div>\n",
              "    <div class=\"colab-df-buttons\">\n",
              "\n",
              "  <div class=\"colab-df-container\">\n",
              "    <button class=\"colab-df-convert\" onclick=\"convertToInteractive('df-f31e22e5-7116-4222-84fb-bb3aafe0ca00')\"\n",
              "            title=\"Convert this dataframe to an interactive table.\"\n",
              "            style=\"display:none;\">\n",
              "\n",
              "  <svg xmlns=\"http://www.w3.org/2000/svg\" height=\"24px\" viewBox=\"0 -960 960 960\">\n",
              "    <path d=\"M120-120v-720h720v720H120Zm60-500h600v-160H180v160Zm220 220h160v-160H400v160Zm0 220h160v-160H400v160ZM180-400h160v-160H180v160Zm440 0h160v-160H620v160ZM180-180h160v-160H180v160Zm440 0h160v-160H620v160Z\"/>\n",
              "  </svg>\n",
              "    </button>\n",
              "\n",
              "  <style>\n",
              "    .colab-df-container {\n",
              "      display:flex;\n",
              "      gap: 12px;\n",
              "    }\n",
              "\n",
              "    .colab-df-convert {\n",
              "      background-color: #E8F0FE;\n",
              "      border: none;\n",
              "      border-radius: 50%;\n",
              "      cursor: pointer;\n",
              "      display: none;\n",
              "      fill: #1967D2;\n",
              "      height: 32px;\n",
              "      padding: 0 0 0 0;\n",
              "      width: 32px;\n",
              "    }\n",
              "\n",
              "    .colab-df-convert:hover {\n",
              "      background-color: #E2EBFA;\n",
              "      box-shadow: 0px 1px 2px rgba(60, 64, 67, 0.3), 0px 1px 3px 1px rgba(60, 64, 67, 0.15);\n",
              "      fill: #174EA6;\n",
              "    }\n",
              "\n",
              "    .colab-df-buttons div {\n",
              "      margin-bottom: 4px;\n",
              "    }\n",
              "\n",
              "    [theme=dark] .colab-df-convert {\n",
              "      background-color: #3B4455;\n",
              "      fill: #D2E3FC;\n",
              "    }\n",
              "\n",
              "    [theme=dark] .colab-df-convert:hover {\n",
              "      background-color: #434B5C;\n",
              "      box-shadow: 0px 1px 3px 1px rgba(0, 0, 0, 0.15);\n",
              "      filter: drop-shadow(0px 1px 2px rgba(0, 0, 0, 0.3));\n",
              "      fill: #FFFFFF;\n",
              "    }\n",
              "  </style>\n",
              "\n",
              "    <script>\n",
              "      const buttonEl =\n",
              "        document.querySelector('#df-f31e22e5-7116-4222-84fb-bb3aafe0ca00 button.colab-df-convert');\n",
              "      buttonEl.style.display =\n",
              "        google.colab.kernel.accessAllowed ? 'block' : 'none';\n",
              "\n",
              "      async function convertToInteractive(key) {\n",
              "        const element = document.querySelector('#df-f31e22e5-7116-4222-84fb-bb3aafe0ca00');\n",
              "        const dataTable =\n",
              "          await google.colab.kernel.invokeFunction('convertToInteractive',\n",
              "                                                    [key], {});\n",
              "        if (!dataTable) return;\n",
              "\n",
              "        const docLinkHtml = 'Like what you see? Visit the ' +\n",
              "          '<a target=\"_blank\" href=https://colab.research.google.com/notebooks/data_table.ipynb>data table notebook</a>'\n",
              "          + ' to learn more about interactive tables.';\n",
              "        element.innerHTML = '';\n",
              "        dataTable['output_type'] = 'display_data';\n",
              "        await google.colab.output.renderOutput(dataTable, element);\n",
              "        const docLink = document.createElement('div');\n",
              "        docLink.innerHTML = docLinkHtml;\n",
              "        element.appendChild(docLink);\n",
              "      }\n",
              "    </script>\n",
              "  </div>\n",
              "\n",
              "\n",
              "    </div>\n",
              "  </div>\n"
            ],
            "application/vnd.google.colaboratory.intrinsic+json": {
              "type": "dataframe",
              "summary": "{\n  \"name\": \"movies\",\n  \"rows\": 1,\n  \"fields\": [\n    {\n      \"column\": \"genres\",\n      \"properties\": {\n        \"dtype\": \"object\",\n        \"semantic_type\": \"\",\n        \"description\": \"\"\n      }\n    },\n    {\n      \"column\": \"title\",\n      \"properties\": {\n        \"dtype\": \"string\",\n        \"num_unique_values\": 1,\n        \"samples\": [\n          \"Bridge of Spies\"\n        ],\n        \"semantic_type\": \"\",\n        \"description\": \"\"\n      }\n    },\n    {\n      \"column\": \"id\",\n      \"properties\": {\n        \"dtype\": \"number\",\n        \"std\": null,\n        \"min\": 296098,\n        \"max\": 296098,\n        \"num_unique_values\": 1,\n        \"samples\": [\n          296098\n        ],\n        \"semantic_type\": \"\",\n        \"description\": \"\"\n      }\n    },\n    {\n      \"column\": \"keywords\",\n      \"properties\": {\n        \"dtype\": \"object\",\n        \"semantic_type\": \"\",\n        \"description\": \"\"\n      }\n    },\n    {\n      \"column\": \"overview\",\n      \"properties\": {\n        \"dtype\": \"string\",\n        \"num_unique_values\": 1,\n        \"samples\": [\n          \"During the Cold War, the Soviet Union captures U.S. pilot Francis Gary Powers after shooting down his U-2 spy plane. Sentenced to 10 years in prison, Powers' only hope is New York lawyer James Donovan, recruited by a CIA operative to negotiate his release. Donovan boards a plane to Berlin, hoping to win the young man's freedom through a prisoner exchange. If all goes well, the Russians would get Rudolf Abel, the convicted spy who Donovan defended in court.\"\n        ],\n        \"semantic_type\": \"\",\n        \"description\": \"\"\n      }\n    },\n    {\n      \"column\": \"cast\",\n      \"properties\": {\n        \"dtype\": \"string\",\n        \"num_unique_values\": 1,\n        \"samples\": [\n          \"[{\\\"cast_id\\\": 0, \\\"character\\\": \\\"James B. Donovan\\\", \\\"credit_id\\\": \\\"54304fd80e0a26464c000ffd\\\", \\\"gender\\\": 2, \\\"id\\\": 31, \\\"name\\\": \\\"Tom Hanks\\\", \\\"order\\\": 0}, {\\\"cast_id\\\": 6, \\\"character\\\": \\\"Rudolf Abel\\\", \\\"credit_id\\\": \\\"543050090e0a26464c001002\\\", \\\"gender\\\": 2, \\\"id\\\": 40900, \\\"name\\\": \\\"Mark Rylance\\\", \\\"order\\\": 1}, {\\\"cast_id\\\": 2, \\\"character\\\": \\\"Mary Donovan\\\", \\\"credit_id\\\": \\\"54304fe90e0a26464300102d\\\", \\\"gender\\\": 1, \\\"id\\\": 39388, \\\"name\\\": \\\"Amy Ryan\\\", \\\"order\\\": 2}, {\\\"cast_id\\\": 3, \\\"character\\\": \\\"Thomas Watters Jr.\\\", \\\"credit_id\\\": \\\"54304ff1c3a36831b20010f6\\\", \\\"gender\\\": 2, \\\"id\\\": 21278, \\\"name\\\": \\\"Alan Alda\\\", \\\"order\\\": 3}, {\\\"cast_id\\\": 30, \\\"character\\\": \\\"Wolfgang Vogel\\\", \\\"credit_id\\\": \\\"562aa23892514140060014a1\\\", \\\"gender\\\": 2, \\\"id\\\": 8197, \\\"name\\\": \\\"Sebastian Koch\\\", \\\"order\\\": 4}, {\\\"cast_id\\\": 26, \\\"character\\\": \\\"Francis Gary Powers\\\", \\\"credit_id\\\": \\\"55f009a69251413e4501d3ad\\\", \\\"gender\\\": 2, \\\"id\\\": 970216, \\\"name\\\": \\\"Austin Stowell\\\", \\\"order\\\": 5}, {\\\"cast_id\\\": 4, \\\"character\\\": \\\"Doug Forrester\\\", \\\"credit_id\\\": \\\"54304ff80e0a26464300102f\\\", \\\"gender\\\": 2, \\\"id\\\": 141034, \\\"name\\\": \\\"Billy Magnussen\\\", \\\"order\\\": 6}, {\\\"cast_id\\\": 5, \\\"character\\\": \\\"Reporter\\\", \\\"credit_id\\\": \\\"54305001c3a36831a6001120\\\", \\\"gender\\\": 0, \\\"id\\\": 1371012, \\\"name\\\": \\\"Michael Simon Hall\\\", \\\"order\\\": 7}, {\\\"cast_id\\\": 7, \\\"character\\\": \\\"Chief Justice Earl Warren\\\", \\\"credit_id\\\": \\\"54305016c3a36831ac001064\\\", \\\"gender\\\": 2, \\\"id\\\": 91453, \\\"name\\\": \\\"Edward James Hyland\\\", \\\"order\\\": 8}, {\\\"cast_id\\\": 8, \\\"character\\\": \\\"William Tompkins\\\", \\\"credit_id\\\": \\\"54305021c3a36831a9000ff3\\\", \\\"gender\\\": 2, \\\"id\\\": 79991, \\\"name\\\": \\\"Stephen Kunken\\\", \\\"order\\\": 9}, {\\\"cast_id\\\": 9, \\\"character\\\": \\\"Man in Courtroom\\\", \\\"credit_id\\\": \\\"543050270e0a264643001032\\\", \\\"gender\\\": 2, \\\"id\\\": 205128, \\\"name\\\": \\\"Mike Houston\\\", \\\"order\\\": 10}, {\\\"cast_id\\\": 10, \\\"character\\\": \\\"Gentleman on Subway #2\\\", \\\"credit_id\\\": \\\"54305031c3a36831a9000ff5\\\", \\\"gender\\\": 2, \\\"id\\\": 167080, \\\"name\\\": \\\"James Lorinz\\\", \\\"order\\\": 11}, {\\\"cast_id\\\": 11, \\\"character\\\": \\\"NYPD\\\", \\\"credit_id\\\": \\\"5430503bc3a36831bb00105f\\\", \\\"gender\\\": 0, \\\"id\\\": 1066138, \\\"name\\\": \\\"Michael Power\\\", \\\"order\\\": 12}, {\\\"cast_id\\\": 12, \\\"character\\\": \\\"Courthouse Reporter #1\\\", \\\"credit_id\\\": \\\"5430504e0e0a26464f0010f0\\\", \\\"gender\\\": 0, \\\"id\\\": 1083807, \\\"name\\\": \\\"Joe Starr\\\", \\\"order\\\": 13}, {\\\"cast_id\\\": 13, \\\"character\\\": \\\"Soviet Main Interrogator\\\", \\\"credit_id\\\": \\\"543050570e0a26463d001093\\\", \\\"gender\\\": 2, \\\"id\\\": 17817, \\\"name\\\": \\\"Merab Ninidze\\\", \\\"order\\\": 14}, {\\\"cast_id\\\": 14, \\\"character\\\": \\\"NYPD Lieutenant James\\\", \\\"credit_id\\\": \\\"5430505f0e0a26464f0010f5\\\", \\\"gender\\\": 2, \\\"id\\\": 968746, \\\"name\\\": \\\"Greg Nutcher\\\", \\\"order\\\": 15}, {\\\"cast_id\\\": 58, \\\"character\\\": \\\"Hoffman\\\", \\\"credit_id\\\": \\\"56928041c3a3684cf800234b\\\", \\\"gender\\\": 0, \\\"id\\\": 1475960, \\\"name\\\": \\\"Scott Shepherd\\\", \\\"order\\\": 16}, {\\\"cast_id\\\": 28, \\\"character\\\": \\\"Joe Murphy\\\", \\\"credit_id\\\": \\\"562aa1af9251414ad80012ab\\\", \\\"gender\\\": 2, \\\"id\\\": 88124, \\\"name\\\": \\\"Jesse Plemons\\\", \\\"order\\\": 17}, {\\\"cast_id\\\": 29, \\\"character\\\": \\\"Agent Blasco\\\", \\\"credit_id\\\": \\\"562aa1d5c3a3681b54002e06\\\", \\\"gender\\\": 2, \\\"id\\\": 17941, \\\"name\\\": \\\"Domenick Lombardozzi\\\", \\\"order\\\": 18}, {\\\"cast_id\\\": 31, \\\"character\\\": \\\"Carol Donovan\\\", \\\"credit_id\\\": \\\"562aa257c3a3681b59002c6e\\\", \\\"gender\\\": 1, \\\"id\\\": 933271, \\\"name\\\": \\\"Eve Hewson\\\", \\\"order\\\": 19}, {\\\"cast_id\\\": 83, \\\"character\\\": \\\"Roger Donovan\\\", \\\"credit_id\\\": \\\"56bf461bc3a368180a009101\\\", \\\"gender\\\": 2, \\\"id\\\": 1393177, \\\"name\\\": \\\"Noah Schnapp\\\", \\\"order\\\": 20}, {\\\"cast_id\\\": 85, \\\"character\\\": \\\"Peggy Donovan\\\", \\\"credit_id\\\": \\\"56bf4834c3a36817f9008192\\\", \\\"gender\\\": 1, \\\"id\\\": 1576820, \\\"name\\\": \\\"Jillian Lebling\\\", \\\"order\\\": 21}, {\\\"cast_id\\\": 32, \\\"character\\\": \\\"Agent Williams\\\", \\\"credit_id\\\": \\\"562aa2989251412845002ac0\\\", \\\"gender\\\": 2, \\\"id\\\": 33241, \\\"name\\\": \\\"Michael Gaston\\\", \\\"order\\\": 22}, {\\\"cast_id\\\": 33, \\\"character\\\": \\\"Allen Dulles\\\", \\\"credit_id\\\": \\\"562aa2bac3a3681b4d003496\\\", \\\"gender\\\": 2, \\\"id\\\": 19489, \\\"name\\\": \\\"Peter McRobbie\\\", \\\"order\\\": 23}, {\\\"cast_id\\\": 34, \\\"character\\\": \\\"Bates\\\", \\\"credit_id\\\": \\\"562aa2d9925141284c002e9d\\\", \\\"gender\\\": 2, \\\"id\\\": 34544, \\\"name\\\": \\\"Joshua Harto\\\", \\\"order\\\": 24}, {\\\"cast_id\\\": 35, \\\"character\\\": \\\"Soviet Judge - Powers' Trial\\\", \\\"credit_id\\\": \\\"562aa2f6c3a3681b4d00349e\\\", \\\"gender\\\": 2, \\\"id\\\": 28345, \\\"name\\\": \\\"Mark Zak\\\", \\\"order\\\": 25}, {\\\"cast_id\\\": 36, \\\"character\\\": \\\"Reporter\\\", \\\"credit_id\\\": \\\"562aa321c3a3681b61002f3f\\\", \\\"gender\\\": 2, \\\"id\\\": 1526122, \\\"name\\\": \\\"Marko Caka\\\", \\\"order\\\": 26}, {\\\"cast_id\\\": 37, \\\"character\\\": \\\"FBI Agent\\\", \\\"credit_id\\\": \\\"562aa338c3a3681b4b002993\\\", \\\"gender\\\": 2, \\\"id\\\": 1526123, \\\"name\\\": \\\"John Ohkuma\\\", \\\"order\\\": 27}, {\\\"cast_id\\\": 55, \\\"character\\\": \\\"Harald Ott\\\", \\\"credit_id\\\": \\\"565cd7d492514112d90002fb\\\", \\\"gender\\\": 2, \\\"id\\\": 3934, \\\"name\\\": \\\"Burghart Klau\\\\u00dfner\\\", \\\"order\\\": 28}, {\\\"cast_id\\\": 56, \\\"character\\\": \\\"Ivan Schischkin\\\", \\\"credit_id\\\": \\\"566155ab925141790c0063fe\\\", \\\"gender\\\": 2, \\\"id\\\": 115876, \\\"name\\\": \\\"Mikhail Gorevoy\\\", \\\"order\\\": 29}, {\\\"cast_id\\\": 57, \\\"character\\\": \\\"Ott's Secretary\\\", \\\"credit_id\\\": \\\"568b01e092514132db02a16c\\\", \\\"gender\\\": 2, \\\"id\\\": 28432, \\\"name\\\": \\\"Max Mauff\\\", \\\"order\\\": 30}, {\\\"cast_id\\\": 59, \\\"character\\\": \\\"Agent Gamber\\\", \\\"credit_id\\\": \\\"569281c792514115c2002248\\\", \\\"gender\\\": 2, \\\"id\\\": 171701, \\\"name\\\": \\\"Victor Verhaeghe\\\", \\\"order\\\": 31}, {\\\"cast_id\\\": 60, \\\"character\\\": \\\"FBI Agent #1\\\", \\\"credit_id\\\": \\\"569281c892514115bc0022fa\\\", \\\"gender\\\": 2, \\\"id\\\": 1544395, \\\"name\\\": \\\"Mark Fichera\\\", \\\"order\\\": 32}, {\\\"cast_id\\\": 61, \\\"character\\\": \\\"FBI Agent #2\\\", \\\"credit_id\\\": \\\"569281c8c3a3684cfc00252a\\\", \\\"gender\\\": 2, \\\"id\\\": 77093, \\\"name\\\": \\\"Brian Hutchison\\\", \\\"order\\\": 33}, {\\\"cast_id\\\": 84, \\\"character\\\": \\\"Judge Byers\\\", \\\"credit_id\\\": \\\"56bf4802c3a368180600812b\\\", \\\"gender\\\": 2, \\\"id\\\": 43364, \\\"name\\\": \\\"Dakin Matthews\\\", \\\"order\\\": 34}, {\\\"cast_id\\\": 86, \\\"character\\\": \\\"Police Officer - Brooklyn Courthouse\\\", \\\"credit_id\\\": \\\"56bf493592514170aa00231e\\\", \\\"gender\\\": 2, \\\"id\\\": 1472780, \\\"name\\\": \\\"Joel Brady\\\", \\\"order\\\": 35}, {\\\"cast_id\\\": 87, \\\"character\\\": \\\"Lynn Goodnough\\\", \\\"credit_id\\\": \\\"56bf4bec9251417344008253\\\", \\\"gender\\\": 2, \\\"id\\\": 1000883, \\\"name\\\": \\\"John Rue\\\", \\\"order\\\": 36}, {\\\"cast_id\\\": 88, \\\"character\\\": \\\"Lie Detector Test Administrator\\\", \\\"credit_id\\\": \\\"56bf4c6092514173590086cd\\\", \\\"gender\\\": 0, \\\"id\\\": 1320502, \\\"name\\\": \\\"Michael Pemberton\\\", \\\"order\\\": 37}, {\\\"cast_id\\\": 89, \\\"character\\\": \\\"Agent Somner\\\", \\\"credit_id\\\": \\\"56bf4d81c3a36817fd008250\\\", \\\"gender\\\": 2, \\\"id\\\": 169676, \\\"name\\\": \\\"Jon Curry\\\", \\\"order\\\": 38}, {\\\"cast_id\\\": 90, \\\"character\\\": \\\"U2 Pilot\\\", \\\"credit_id\\\": \\\"56bf4daf925141734700862b\\\", \\\"gender\\\": 2, \\\"id\\\": 1422662, \\\"name\\\": \\\"Wes McGee\\\", \\\"order\\\": 39}, {\\\"cast_id\\\": 91, \\\"character\\\": \\\"Bailiff\\\", \\\"credit_id\\\": \\\"56bf52669251417356008659\\\", \\\"gender\\\": 2, \\\"id\\\": 1576851, \\\"name\\\": \\\"Jim C. Ferris\\\", \\\"order\\\": 40}, {\\\"cast_id\\\": 92, \\\"character\\\": \\\"Teacher\\\", \\\"credit_id\\\": \\\"56bf5301c3a36817ef008a5c\\\", \\\"gender\\\": 1, \\\"id\\\": 1576857, \\\"name\\\": \\\"Haley Rawson\\\", \\\"order\\\": 41}, {\\\"cast_id\\\": 93, \\\"character\\\": \\\"Classroom Teacher\\\", \\\"credit_id\\\": \\\"56bf53689251414601002ddb\\\", \\\"gender\\\": 1, \\\"id\\\": 77264, \\\"name\\\": \\\"Ashlie Atkinson\\\", \\\"order\\\": 42}, {\\\"cast_id\\\": 94, \\\"character\\\": \\\"Marty\\\", \\\"credit_id\\\": \\\"56bf556fc3a36817e4000cbd\\\", \\\"gender\\\": 2, \\\"id\\\": 1422571, \\\"name\\\": \\\"Steven Boyer\\\", \\\"order\\\": 43}, {\\\"cast_id\\\": 95, \\\"character\\\": \\\"Partner at Watters Law Firm\\\", \\\"credit_id\\\": \\\"56bf5ab0925141398a000319\\\", \\\"gender\\\": 2, \\\"id\\\": 1218217, \\\"name\\\": \\\"John Henry Cox\\\", \\\"order\\\": 44}, {\\\"cast_id\\\": 96, \\\"character\\\": \\\"Frederic Pryor\\\", \\\"credit_id\\\": \\\"56bf5deb9251414ba9000027\\\", \\\"gender\\\": 0, \\\"id\\\": 1188239, \\\"name\\\": \\\"Will Rogers\\\", \\\"order\\\": 45}, {\\\"cast_id\\\": 97, \\\"character\\\": \\\"Family #1 at Berlin Wall Construction\\\", \\\"credit_id\\\": \\\"56bf5e0ec3a368180600872d\\\", \\\"gender\\\": 1, \\\"id\\\": 149126, \\\"name\\\": \\\"Daniela Schulz\\\", \\\"order\\\": 46}, {\\\"cast_id\\\": 98, \\\"character\\\": \\\"Katje\\\", \\\"credit_id\\\": \\\"56bf5e84c3a36817fd008712\\\", \\\"gender\\\": 1, \\\"id\\\": 34353, \\\"name\\\": \\\"Nadja Bobyleva\\\", \\\"order\\\": 47}, {\\\"cast_id\\\": 99, \\\"character\\\": \\\"Pinker\\\", \\\"credit_id\\\": \\\"56bf5f5ac3a36817f4009253\\\", \\\"gender\\\": 2, \\\"id\\\": 61016, \\\"name\\\": \\\"Joe Forbrich\\\", \\\"order\\\": 48}, {\\\"cast_id\\\": 100, \\\"character\\\": \\\"Older Lady on Subway\\\", \\\"credit_id\\\": \\\"56d5a652c3a3681e3c019396\\\", \\\"gender\\\": 1, \\\"id\\\": 1405915, \\\"name\\\": \\\"Patricia Squire\\\", \\\"order\\\": 49}, {\\\"cast_id\\\": 153, \\\"character\\\": \\\"Receptionist\\\", \\\"credit_id\\\": \\\"570614acc3a3685d38001db0\\\", \\\"gender\\\": 1, \\\"id\\\": 209503, \\\"name\\\": \\\"Henny Russell\\\", \\\"order\\\": 50}, {\\\"cast_id\\\": 154, \\\"character\\\": \\\"Classroom Boy #1\\\", \\\"credit_id\\\": \\\"570614acc3a3685d4400192a\\\", \\\"gender\\\": 0, \\\"id\\\": 1600084, \\\"name\\\": \\\"Nolan Lyons\\\", \\\"order\\\": 51}, {\\\"cast_id\\\": 155, \\\"character\\\": \\\"Classroom Girl #1\\\", \\\"credit_id\\\": \\\"570614adc3a3685d3e001a67\\\", \\\"gender\\\": 0, \\\"id\\\": 1602044, \\\"name\\\": \\\"Hayley Feinstein\\\", \\\"order\\\": 52}, {\\\"cast_id\\\": 156, \\\"character\\\": \\\"Classroom Girl #2\\\", \\\"credit_id\\\": \\\"570614adc3a3685d4c001979\\\", \\\"gender\\\": 1, \\\"id\\\": 928909, \\\"name\\\": \\\"Victoria Leigh\\\", \\\"order\\\": 53}, {\\\"cast_id\\\": 157, \\\"character\\\": \\\"Agent Faye\\\", \\\"credit_id\\\": \\\"5863af0cc3a3680ab6007679\\\", \\\"gender\\\": 2, \\\"id\\\": 1465283, \\\"name\\\": \\\"Jon Donahue\\\", \\\"order\\\": 54}, {\\\"cast_id\\\": 158, \\\"character\\\": \\\"Soviet Translator\\\", \\\"credit_id\\\": \\\"5863b06d9251413cd6007ce3\\\", \\\"gender\\\": 0, \\\"id\\\": 48393, \\\"name\\\": \\\"Victor Schef\\\\u00e9\\\", \\\"order\\\": 55}, {\\\"cast_id\\\": 159, \\\"character\\\": \\\"East German Officer (uncredited)\\\", \\\"credit_id\\\": \\\"5863b12c9251412b8700bdd9\\\", \\\"gender\\\": 0, \\\"id\\\": 51651, \\\"name\\\": \\\"Joachim Paul Assb\\\\u00f6ck\\\", \\\"order\\\": 56}, {\\\"cast_id\\\": 160, \\\"character\\\": \\\"Cab Driver (uncredited)\\\", \\\"credit_id\\\": \\\"5863b14cc3a36852c900bbdd\\\", \\\"gender\\\": 2, \\\"id\\\": 1309014, \\\"name\\\": \\\"Rainer Reiners\\\", \\\"order\\\": 57}, {\\\"cast_id\\\": 161, \\\"character\\\": \\\"Courthouse Reporter\\\", \\\"credit_id\\\": \\\"5863b17cc3a36852d200afeb\\\", \\\"gender\\\": 0, \\\"id\\\": 176777, \\\"name\\\": \\\"Hamilton Clancy\\\", \\\"order\\\": 58}, {\\\"cast_id\\\": 162, \\\"character\\\": \\\"Angry NYPD Cop\\\", \\\"credit_id\\\": \\\"5863b1c4c3a36852e000c144\\\", \\\"gender\\\": 0, \\\"id\\\": 146367, \\\"name\\\": \\\"Tracy Howe\\\", \\\"order\\\": 59}, {\\\"cast_id\\\": 163, \\\"character\\\": \\\"Lunch Box Neighbor (uncredited)\\\", \\\"credit_id\\\": \\\"5863b1e4c3a36852c000d409\\\", \\\"gender\\\": 0, \\\"id\\\": 1446471, \\\"name\\\": \\\"Paul Jude Letersky\\\", \\\"order\\\": 60}, {\\\"cast_id\\\": 164, \\\"character\\\": \\\"Courtroom Reporter (uncredited)\\\", \\\"credit_id\\\": \\\"5863b24ec3a36852c000d459\\\", \\\"gender\\\": 2, \\\"id\\\": 1509064, \\\"name\\\": \\\"Michael Wren Gucciardo\\\", \\\"order\\\": 61}, {\\\"cast_id\\\": 165, \\\"character\\\": \\\"East German Youth\\\", \\\"credit_id\\\": \\\"5863b2ce9251412b9000cb1b\\\", \\\"gender\\\": 2, \\\"id\\\": 1086352, \\\"name\\\": \\\"Rafael Gareisen\\\", \\\"order\\\": 62}, {\\\"cast_id\\\": 166, \\\"character\\\": \\\"Neighbor (uncredited)\\\", \\\"credit_id\\\": \\\"5863b2e79251412b8700beff\\\", \\\"gender\\\": 2, \\\"id\\\": 1202712, \\\"name\\\": \\\"Peter Conboy\\\", \\\"order\\\": 63}, {\\\"cast_id\\\": 167, \\\"character\\\": \\\"Justice Lafayette Black (uncredited)\\\", \\\"credit_id\\\": \\\"5863b38a9251412b8400c40e\\\", \\\"gender\\\": 2, \\\"id\\\": 1695767, \\\"name\\\": \\\"Ron Komora\\\", \\\"order\\\": 64}, {\\\"cast_id\\\": 168, \\\"character\\\": \\\"Cousin Drews\\\", \\\"credit_id\\\": \\\"5863b3eac3a36852c000d5a9\\\", \\\"gender\\\": 2, \\\"id\\\": 45953, \\\"name\\\": \\\"Michael Schenk\\\", \\\"order\\\": 65}]\"\n        ],\n        \"semantic_type\": \"\",\n        \"description\": \"\"\n      }\n    },\n    {\n      \"column\": \"crew\",\n      \"properties\": {\n        \"dtype\": \"string\",\n        \"num_unique_values\": 1,\n        \"samples\": [\n          \"[{\\\"credit_id\\\": \\\"564b24409251414dd1003509\\\", \\\"department\\\": \\\"Sound\\\", \\\"gender\\\": 2, \\\"id\\\": 153, \\\"job\\\": \\\"Original Music Composer\\\", \\\"name\\\": \\\"Thomas Newman\\\"}, {\\\"credit_id\\\": \\\"5430507dc3a36831ac001073\\\", \\\"department\\\": \\\"Directing\\\", \\\"gender\\\": 2, \\\"id\\\": 488, \\\"job\\\": \\\"Director\\\", \\\"name\\\": \\\"Steven Spielberg\\\"}, {\\\"credit_id\\\": \\\"543050e4c3a36831b50010a0\\\", \\\"department\\\": \\\"Production\\\", \\\"gender\\\": 2, \\\"id\\\": 488, \\\"job\\\": \\\"Producer\\\", \\\"name\\\": \\\"Steven Spielberg\\\"}, {\\\"credit_id\\\": \\\"564b24679251414dcb003492\\\", \\\"department\\\": \\\"Camera\\\", \\\"gender\\\": 2, \\\"id\\\": 492, \\\"job\\\": \\\"Director of Photography\\\", \\\"name\\\": \\\"Janusz Kami\\\\u0144ski\\\"}, {\\\"credit_id\\\": \\\"564b26449251414dcd0033b6\\\", \\\"department\\\": \\\"Editing\\\", \\\"gender\\\": 2, \\\"id\\\": 493, \\\"job\\\": \\\"Editor\\\", \\\"name\\\": \\\"Michael Kahn\\\"}, {\\\"credit_id\\\": \\\"543050a2c3a36831af001075\\\", \\\"department\\\": \\\"Writing\\\", \\\"gender\\\": 0, \\\"id\\\": 1223, \\\"job\\\": \\\"Writer\\\", \\\"name\\\": \\\"Joel Coen\\\"}, {\\\"credit_id\\\": \\\"5588a061c3a3683d500007cf\\\", \\\"department\\\": \\\"Writing\\\", \\\"gender\\\": 0, \\\"id\\\": 1224, \\\"job\\\": \\\"Writer\\\", \\\"name\\\": \\\"Ethan Coen\\\"}, {\\\"credit_id\\\": \\\"564b247a9251414dc2003395\\\", \\\"department\\\": \\\"Production\\\", \\\"gender\\\": 1, \\\"id\\\": 2242, \\\"job\\\": \\\"Casting\\\", \\\"name\\\": \\\"Ellen Lewis\\\"}, {\\\"credit_id\\\": \\\"56fa49029251414df4001f04\\\", \\\"department\\\": \\\"Sound\\\", \\\"gender\\\": 2, \\\"id\\\": 2216, \\\"job\\\": \\\"Sound Re-Recording Mixer\\\", \\\"name\\\": \\\"Gary Rydstrom\\\"}, {\\\"credit_id\\\": \\\"564b240dc3a3686031003180\\\", \\\"department\\\": \\\"Production\\\", \\\"gender\\\": 2, \\\"id\\\": 4769, \\\"job\\\": \\\"Executive Producer\\\", \\\"name\\\": \\\"Daniel Lupi\\\"}, {\\\"credit_id\\\": \\\"56fa489f9251414ddf001ea0\\\", \\\"department\\\": \\\"Sound\\\", \\\"gender\\\": 0, \\\"id\\\": 5338, \\\"job\\\": \\\"Sound Effects Editor\\\", \\\"name\\\": \\\"Kyrsten Mate\\\"}, {\\\"credit_id\\\": \\\"56fa4926c3a368192e002184\\\", \\\"department\\\": \\\"Sound\\\", \\\"gender\\\": 0, \\\"id\\\": 7764, \\\"job\\\": \\\"Supervising Sound Editor\\\", \\\"name\\\": \\\"Richard Hymns\\\"}, {\\\"credit_id\\\": \\\"56fa48729251414ddf001e98\\\", \\\"department\\\": \\\"Sound\\\", \\\"gender\\\": 0, \\\"id\\\": 8160, \\\"job\\\": \\\"Foley\\\", \\\"name\\\": \\\"Dennie Thorpe\\\"}, {\\\"credit_id\\\": \\\"56fa485f9251414ded001efb\\\", \\\"department\\\": \\\"Sound\\\", \\\"gender\\\": 0, \\\"id\\\": 8163, \\\"job\\\": \\\"Foley\\\", \\\"name\\\": \\\"Jana Vance\\\"}, {\\\"credit_id\\\": \\\"564b239dc3a3686031003173\\\", \\\"department\\\": \\\"Production\\\", \\\"gender\\\": 0, \\\"id\\\": 10684, \\\"job\\\": \\\"Executive Producer\\\", \\\"name\\\": \\\"Jonathan King\\\"}, {\\\"credit_id\\\": \\\"56fa4a489251414de6001e56\\\", \\\"department\\\": \\\"Art\\\", \\\"gender\\\": 0, \\\"id\\\": 11272, \\\"job\\\": \\\"Supervising Art Director\\\", \\\"name\\\": \\\"Marco Bittner Rosser\\\"}, {\\\"credit_id\\\": \\\"56fa43859251414de6001cca\\\", \\\"department\\\": \\\"Lighting\\\", \\\"gender\\\": 0, \\\"id\\\": 40778, \\\"job\\\": \\\"Gaffer\\\", \\\"name\\\": \\\"Albrecht Silberberger\\\"}, {\\\"credit_id\\\": \\\"56fa43df9251414df1001d8a\\\", \\\"department\\\": \\\"Lighting\\\", \\\"gender\\\": 0, \\\"id\\\": 40789, \\\"job\\\": \\\"Rigging Gaffer\\\", \\\"name\\\": \\\"Dietmar Haupt\\\"}, {\\\"credit_id\\\": \\\"569e538fc3a36858cb0062e1\\\", \\\"department\\\": \\\"Costume & Make-Up\\\", \\\"gender\\\": 0, \\\"id\\\": 40803, \\\"job\\\": \\\"Key Hair Stylist\\\", \\\"name\\\": \\\"Petra Schaumann\\\"}, {\\\"credit_id\\\": \\\"56fa45b5c3a3681935001f6a\\\", \\\"department\\\": \\\"Crew\\\", \\\"gender\\\": 0, \\\"id\\\": 15528, \\\"job\\\": \\\"Special Effects Coordinator\\\", \\\"name\\\": \\\"Steven Kirshoff\\\"}, {\\\"credit_id\\\": \\\"564b273c9251414dd1003556\\\", \\\"department\\\": \\\"Art\\\", \\\"gender\\\": 2, \\\"id\\\": 21846, \\\"job\\\": \\\"Set Decoration\\\", \\\"name\\\": \\\"Bernhard Henrich\\\"}, {\\\"credit_id\\\": \\\"543050ccc3a36831a9001006\\\", \\\"department\\\": \\\"Production\\\", \\\"gender\\\": 2, \\\"id\\\": 23485, \\\"job\\\": \\\"Producer\\\", \\\"name\\\": \\\"Marc Platt\\\"}, {\\\"credit_id\\\": \\\"564b23d4c3a3686028003487\\\", \\\"department\\\": \\\"Production\\\", \\\"gender\\\": 0, \\\"id\\\": 31519, \\\"job\\\": \\\"Executive Producer\\\", \\\"name\\\": \\\"Jeff Skoll\\\"}, {\\\"credit_id\\\": \\\"564b26f8c3a368602b0034a3\\\", \\\"department\\\": \\\"Art\\\", \\\"gender\\\": 0, \\\"id\\\": 36924, \\\"job\\\": \\\"Art Direction\\\", \\\"name\\\": \\\"Anja M\\\\u00fcller\\\"}, {\\\"credit_id\\\": \\\"569e512ac3a36858e5006eeb\\\", \\\"department\\\": \\\"Art\\\", \\\"gender\\\": 0, \\\"id\\\": 53735, \\\"job\\\": \\\"Art Department Coordinator\\\", \\\"name\\\": \\\"Cathleen Hoffmann\\\"}, {\\\"credit_id\\\": \\\"56a748049251412a0400291f\\\", \\\"department\\\": \\\"Costume & Make-Up\\\", \\\"gender\\\": 0, \\\"id\\\": 117206, \\\"job\\\": \\\"Hair Department Head\\\", \\\"name\\\": \\\"Kay Georgiou\\\"}, {\\\"credit_id\\\": \\\"564b27309251414dc8003336\\\", \\\"department\\\": \\\"Art\\\", \\\"gender\\\": 1, \\\"id\\\": 970192, \\\"job\\\": \\\"Set Decoration\\\", \\\"name\\\": \\\"Rena DeAngelo\\\"}, {\\\"credit_id\\\": \\\"56fa4a5c9251414df1001ed3\\\", \\\"department\\\": \\\"Art\\\", \\\"gender\\\": 0, \\\"id\\\": 970199, \\\"job\\\": \\\"Supervising Art Director\\\", \\\"name\\\": \\\"Kim Jennings\\\"}, {\\\"credit_id\\\": \\\"564b265dc3a36860260035d1\\\", \\\"department\\\": \\\"Art\\\", \\\"gender\\\": 0, \\\"id\\\": 1023711, \\\"job\\\": \\\"Production Design\\\", \\\"name\\\": \\\"Adam Stockhausen\\\"}, {\\\"credit_id\\\": \\\"564b266d9251414dcd0033ba\\\", \\\"department\\\": \\\"Costume & Make-Up\\\", \\\"gender\\\": 0, \\\"id\\\": 1023713, \\\"job\\\": \\\"Costume Design\\\", \\\"name\\\": \\\"Kasia Walicka-Maimone\\\"}, {\\\"credit_id\\\": \\\"56fa3ef6c3a368193d001bb9\\\", \\\"department\\\": \\\"Production\\\", \\\"gender\\\": 0, \\\"id\\\": 1031561, \\\"job\\\": \\\"Casting\\\", \\\"name\\\": \\\"Lucky Englander\\\"}, {\\\"credit_id\\\": \\\"543050db0e0a264646001146\\\", \\\"department\\\": \\\"Production\\\", \\\"gender\\\": 0, \\\"id\\\": 1102140, \\\"job\\\": \\\"Executive Producer\\\", \\\"name\\\": \\\"Adam Somner\\\"}, {\\\"credit_id\\\": \\\"56fa4718c3a3681943002150\\\", \\\"department\\\": \\\"Visual Effects\\\", \\\"gender\\\": 0, \\\"id\\\": 1307621, \\\"job\\\": \\\"Visual Effects Supervisor\\\", \\\"name\\\": \\\"Sven Martin\\\"}, {\\\"credit_id\\\": \\\"569e5217c3a36858e5006f10\\\", \\\"department\\\": \\\"Production\\\", \\\"gender\\\": 0, \\\"id\\\": 1312252, \\\"job\\\": \\\"Casting\\\", \\\"name\\\": \\\"Fritz Fleischhacker\\\"}, {\\\"credit_id\\\": \\\"5588a077c3a3680534001976\\\", \\\"department\\\": \\\"Writing\\\", \\\"gender\\\": 0, \\\"id\\\": 1323533, \\\"job\\\": \\\"Writer\\\", \\\"name\\\": \\\"Matt Charman\\\"}, {\\\"credit_id\\\": \\\"569e52dcc3a36858e5006f3a\\\", \\\"department\\\": \\\"Costume & Make-Up\\\", \\\"gender\\\": 0, \\\"id\\\": 1328380, \\\"job\\\": \\\"Costume Supervisor\\\", \\\"name\\\": \\\"David Davenport\\\"}, {\\\"credit_id\\\": \\\"569e5286c3a36858c300690b\\\", \\\"department\\\": \\\"Costume & Make-Up\\\", \\\"gender\\\": 0, \\\"id\\\": 1335886, \\\"job\\\": \\\"Costume Supervisor\\\", \\\"name\\\": \\\"Meike Schlegel\\\"}, {\\\"credit_id\\\": \\\"56fa48b69251414de6001dec\\\", \\\"department\\\": \\\"Sound\\\", \\\"gender\\\": 2, \\\"id\\\": 1337458, \\\"job\\\": \\\"Sound Mixer\\\", \\\"name\\\": \\\"Drew Kunin\\\"}, {\\\"credit_id\\\": \\\"56fa48d99251414de6001df1\\\", \\\"department\\\": \\\"Sound\\\", \\\"gender\\\": 2, \\\"id\\\": 1338976, \\\"job\\\": \\\"Sound Re-Recording Mixer\\\", \\\"name\\\": \\\"Andy Nelson\\\"}, {\\\"credit_id\\\": \\\"569e53a592514109580031f2\\\", \\\"department\\\": \\\"Costume & Make-Up\\\", \\\"gender\\\": 0, \\\"id\\\": 1347722, \\\"job\\\": \\\"Makeup Department Head\\\", \\\"name\\\": \\\"Judy Chin\\\"}, {\\\"credit_id\\\": \\\"56fa49f59251414deb001fdd\\\", \\\"department\\\": \\\"Crew\\\", \\\"gender\\\": 0, \\\"id\\\": 1347730, \\\"job\\\": \\\"Property Master\\\", \\\"name\\\": \\\"Sandy Hamilton\\\"}, {\\\"credit_id\\\": \\\"569e52b69251415e6a006a19\\\", \\\"department\\\": \\\"Costume & Make-Up\\\", \\\"gender\\\": 0, \\\"id\\\": 1347750, \\\"job\\\": \\\"Costume Supervisor\\\", \\\"name\\\": \\\"Nicole Greenbaum\\\"}, {\\\"credit_id\\\": \\\"569e5313c3a36858ce006d0e\\\", \\\"department\\\": \\\"Directing\\\", \\\"gender\\\": 1, \\\"id\\\": 1347761, \\\"job\\\": \\\"Script Supervisor\\\", \\\"name\\\": \\\"Jessica Lichtner\\\"}, {\\\"credit_id\\\": \\\"543050b30e0a26463a00107b\\\", \\\"department\\\": \\\"Production\\\", \\\"gender\\\": 0, \\\"id\\\": 1371013, \\\"job\\\": \\\"Producer\\\", \\\"name\\\": \\\"Kristie Macosko Krieger\\\"}, {\\\"credit_id\\\": \\\"56fa49b0c3a36819300020a9\\\", \\\"department\\\": \\\"Art\\\", \\\"gender\\\": 2, \\\"id\\\": 1378672, \\\"job\\\": \\\"Construction Coordinator\\\", \\\"name\\\": \\\"Joseph Alfieri\\\"}, {\\\"credit_id\\\": \\\"56fa43499251414deb001e7f\\\", \\\"department\\\": \\\"Camera\\\", \\\"gender\\\": 0, \\\"id\\\": 1380001, \\\"job\\\": \\\"Camera Operator\\\", \\\"name\\\": \\\"Marcus Pohlus\\\"}, {\\\"credit_id\\\": \\\"56fa44839251414ded001dff\\\", \\\"department\\\": \\\"Camera\\\", \\\"gender\\\": 0, \\\"id\\\": 1393448, \\\"job\\\": \\\"Still Photographer\\\", \\\"name\\\": \\\"Jaap Buitendijk\\\"}, {\\\"credit_id\\\": \\\"56fa43359251414ddf001d99\\\", \\\"department\\\": \\\"Camera\\\", \\\"gender\\\": 2, \\\"id\\\": 1395463, \\\"job\\\": \\\"Camera Operator\\\", \\\"name\\\": \\\"Mitch Dubin\\\"}, {\\\"credit_id\\\": \\\"56fa46e39251414deb001f35\\\", \\\"department\\\": \\\"Visual Effects\\\", \\\"gender\\\": 0, \\\"id\\\": 1398100, \\\"job\\\": \\\"Visual Effects Producer\\\", \\\"name\\\": \\\"Kilou Picard\\\"}, {\\\"credit_id\\\": \\\"569e51b6c3a36858dc006aaa\\\", \\\"department\\\": \\\"Art\\\", \\\"gender\\\": 0, \\\"id\\\": 1399447, \\\"job\\\": \\\"Assistant Art Director\\\", \\\"name\\\": \\\"Ryan Heck\\\"}, {\\\"credit_id\\\": \\\"564b26e6c3a36860240037bf\\\", \\\"department\\\": \\\"Art\\\", \\\"gender\\\": 0, \\\"id\\\": 1399455, \\\"job\\\": \\\"Art Direction\\\", \\\"name\\\": \\\"Scott Dougan\\\"}, {\\\"credit_id\\\": \\\"56fa43719251414ddf001d9f\\\", \\\"department\\\": \\\"Lighting\\\", \\\"gender\\\": 0, \\\"id\\\": 1402076, \\\"job\\\": \\\"Gaffer\\\", \\\"name\\\": \\\"Steve Ramsey\\\"}, {\\\"credit_id\\\": \\\"569e53bec3a36858c3006942\\\", \\\"department\\\": \\\"Costume & Make-Up\\\", \\\"gender\\\": 2, \\\"id\\\": 1406584, \\\"job\\\": \\\"Makeup Artist\\\", \\\"name\\\": \\\"Bj\\\\u00f6rn Rehbein\\\"}, {\\\"credit_id\\\": \\\"56fa44709251414df4001dfb\\\", \\\"department\\\": \\\"Camera\\\", \\\"gender\\\": 2, \\\"id\\\": 1407021, \\\"job\\\": \\\"Steadicam Operator\\\", \\\"name\\\": \\\"Maceo Bishop\\\"}, {\\\"credit_id\\\": \\\"56fa47479251414e8e001c0c\\\", \\\"department\\\": \\\"Visual Effects\\\", \\\"gender\\\": 0, \\\"id\\\": 1408384, \\\"job\\\": \\\"Visual Effects Supervisor\\\", \\\"name\\\": \\\"Charlie Noble\\\"}, {\\\"credit_id\\\": \\\"569e5197c3a36858c800675d\\\", \\\"department\\\": \\\"Art\\\", \\\"gender\\\": 0, \\\"id\\\": 1411803, \\\"job\\\": \\\"Assistant Art Director\\\", \\\"name\\\": \\\"Katya Blumenberg\\\"}, {\\\"credit_id\\\": \\\"56fa479e9251414de4001eba\\\", \\\"department\\\": \\\"Sound\\\", \\\"gender\\\": 0, \\\"id\\\": 1428229, \\\"job\\\": \\\"Music Editor\\\", \\\"name\\\": \\\"Jordan Corngold\\\"}, {\\\"credit_id\\\": \\\"56fa46a6c3a3681943002135\\\", \\\"department\\\": \\\"Crew\\\", \\\"gender\\\": 0, \\\"id\\\": 1439067, \\\"job\\\": \\\"Visual Effects Editor\\\", \\\"name\\\": \\\"Tobias Pfeiffer\\\"}, {\\\"credit_id\\\": \\\"56fa475ec3a368193d001d45\\\", \\\"department\\\": \\\"Visual Effects\\\", \\\"gender\\\": 0, \\\"id\\\": 1439740, \\\"job\\\": \\\"Visual Effects Supervisor\\\", \\\"name\\\": \\\"Sean Stranks\\\"}, {\\\"credit_id\\\": \\\"56fa468b9251414de6001d5d\\\", \\\"department\\\": \\\"Crew\\\", \\\"gender\\\": 0, \\\"id\\\": 1447617, \\\"job\\\": \\\"Visual Effects Editor\\\", \\\"name\\\": \\\"Crystal Hadcroft\\\"}, {\\\"credit_id\\\": \\\"56fa4950c3a36819430021d1\\\", \\\"department\\\": \\\"Editing\\\", \\\"gender\\\": 0, \\\"id\\\": 1458583, \\\"job\\\": \\\"Digital Intermediate\\\", \\\"name\\\": \\\"Bob Peishel\\\"}, {\\\"credit_id\\\": \\\"56fa46739251414deb001f17\\\", \\\"department\\\": \\\"Crew\\\", \\\"gender\\\": 0, \\\"id\\\": 1459899, \\\"job\\\": \\\"Visual Effects Editor\\\", \\\"name\\\": \\\"Struan Farquhar\\\"}, {\\\"credit_id\\\": \\\"56fa45599251414df4001e2b\\\", \\\"department\\\": \\\"Crew\\\", \\\"gender\\\": 0, \\\"id\\\": 1459925, \\\"job\\\": \\\"CG Supervisor\\\", \\\"name\\\": \\\"Daniel Pastore\\\"}, {\\\"credit_id\\\": \\\"56fa45cac3a368193d001ce6\\\", \\\"department\\\": \\\"Crew\\\", \\\"gender\\\": 0, \\\"id\\\": 1530231, \\\"job\\\": \\\"Special Effects Coordinator\\\", \\\"name\\\": \\\"Gerd Nefzer\\\"}, {\\\"credit_id\\\": \\\"56fa459f9251414e8e001b96\\\", \\\"department\\\": \\\"Visual Effects\\\", \\\"gender\\\": 0, \\\"id\\\": 1530231, \\\"job\\\": \\\"Special Effects Supervisor\\\", \\\"name\\\": \\\"Gerd Nefzer\\\"}, {\\\"credit_id\\\": \\\"56fa43ca9251414df1001d83\\\", \\\"department\\\": \\\"Lighting\\\", \\\"gender\\\": 0, \\\"id\\\": 1534620, \\\"job\\\": \\\"Rigging Gaffer\\\", \\\"name\\\": \\\"William Hines\\\"}, {\\\"credit_id\\\": \\\"56fa4601c3a3681943002100\\\", \\\"department\\\": \\\"Visual Effects\\\", \\\"gender\\\": 0, \\\"id\\\": 1545978, \\\"job\\\": \\\"Visual Effects Coordinator\\\", \\\"name\\\": \\\"Sze Jia Eng\\\"}, {\\\"credit_id\\\": \\\"56fa4615c3a368192e0020d1\\\", \\\"department\\\": \\\"Visual Effects\\\", \\\"gender\\\": 0, \\\"id\\\": 1545979, \\\"job\\\": \\\"Visual Effects Coordinator\\\", \\\"name\\\": \\\"Ankit Gokani\\\"}, {\\\"credit_id\\\": \\\"56fa43f9c3a368192e002064\\\", \\\"department\\\": \\\"Lighting\\\", \\\"gender\\\": 0, \\\"id\\\": 1546881, \\\"job\\\": \\\"Rigging Grip\\\", \\\"name\\\": \\\"James Boniece\\\"}, {\\\"credit_id\\\": \\\"56fa4397c3a3681935001f04\\\", \\\"department\\\": \\\"Lighting\\\", \\\"gender\\\": 0, \\\"id\\\": 1551516, \\\"job\\\": \\\"Gaffer\\\", \\\"name\\\": \\\"Brian Bartolini\\\"}, {\\\"credit_id\\\": \\\"56fa48329251414e8e001c2e\\\", \\\"department\\\": \\\"Sound\\\", \\\"gender\\\": 0, \\\"id\\\": 1556632, \\\"job\\\": \\\"ADR & Dubbing\\\", \\\"name\\\": \\\"Steve Slanec\\\"}, {\\\"credit_id\\\": \\\"56fa484cc3a368194300218d\\\", \\\"department\\\": \\\"Editing\\\", \\\"gender\\\": 0, \\\"id\\\": 1561360, \\\"job\\\": \\\"Dialogue Editor\\\", \\\"name\\\": \\\"Brian Chumney\\\"}, {\\\"credit_id\\\": \\\"569e5144c3a36858ce006ccf\\\", \\\"department\\\": \\\"Art\\\", \\\"gender\\\": 0, \\\"id\\\": 1565731, \\\"job\\\": \\\"Art Department Coordinator\\\", \\\"name\\\": \\\"Julia Heymans\\\"}, {\\\"credit_id\\\": \\\"569e517cc3a36858c8006756\\\", \\\"department\\\": \\\"Art\\\", \\\"gender\\\": 0, \\\"id\\\": 1565732, \\\"job\\\": \\\"Art Department Coordinator\\\", \\\"name\\\": \\\"Aimee Athnos\\\"}, {\\\"credit_id\\\": \\\"569e522f9251415e6d006498\\\", \\\"department\\\": \\\"Production\\\", \\\"gender\\\": 0, \\\"id\\\": 1565735, \\\"job\\\": \\\"Casting Associate\\\", \\\"name\\\": \\\"Kate Sprance\\\"}, {\\\"credit_id\\\": \\\"569e524fc3a36858dc006abf\\\", \\\"department\\\": \\\"Costume & Make-Up\\\", \\\"gender\\\": 0, \\\"id\\\": 1565736, \\\"job\\\": \\\"Assistant Costume Designer\\\", \\\"name\\\": \\\"Matthew Pachtman\\\"}, {\\\"credit_id\\\": \\\"569e5261c3a36858e5006f1a\\\", \\\"department\\\": \\\"Costume & Make-Up\\\", \\\"gender\\\": 0, \\\"id\\\": 1565737, \\\"job\\\": \\\"Assistant Costume Designer\\\", \\\"name\\\": \\\"Brittany Loar\\\"}, {\\\"credit_id\\\": \\\"569e529dc3a36858c3006912\\\", \\\"department\\\": \\\"Costume & Make-Up\\\", \\\"gender\\\": 0, \\\"id\\\": 1565738, \\\"job\\\": \\\"Costume Supervisor\\\", \\\"name\\\": \\\"Bettina Seifert\\\"}, {\\\"credit_id\\\": \\\"569e5379c3a36858c3006936\\\", \\\"department\\\": \\\"Costume & Make-Up\\\", \\\"gender\\\": 0, \\\"id\\\": 1565739, \\\"job\\\": \\\"Key Hair Stylist\\\", \\\"name\\\": \\\"Mitchell Beck\\\"}, {\\\"credit_id\\\": \\\"56fa4a13c3a36819300020b9\\\", \\\"department\\\": \\\"Crew\\\", \\\"gender\\\": 2, \\\"id\\\": 1590390, \\\"job\\\": \\\"Property Master\\\", \\\"name\\\": \\\"Eckart Friz\\\"}, {\\\"credit_id\\\": \\\"56fa441dc3a36819430020a8\\\", \\\"department\\\": \\\"Camera\\\", \\\"gender\\\": 0, \\\"id\\\": 1597956, \\\"job\\\": \\\"First Assistant Camera\\\", \\\"name\\\": \\\"Mark Spath\\\"}, {\\\"credit_id\\\": \\\"56fa442dc3a368193b001ef9\\\", \\\"department\\\": \\\"Camera\\\", \\\"gender\\\": 0, \\\"id\\\": 1597957, \\\"job\\\": \\\"First Assistant Camera\\\", \\\"name\\\": \\\"Denny Kortze\\\"}, {\\\"credit_id\\\": \\\"56fa44479251414e8e001b4e\\\", \\\"department\\\": \\\"Camera\\\", \\\"gender\\\": 0, \\\"id\\\": 1597958, \\\"job\\\": \\\"First Assistant Camera\\\", \\\"name\\\": \\\"Lars Richter\\\"}, {\\\"credit_id\\\": \\\"56fa44c5c3a36819370021d6\\\", \\\"department\\\": \\\"Visual Effects\\\", \\\"gender\\\": 0, \\\"id\\\": 1597959, \\\"job\\\": \\\"Animation\\\", \\\"name\\\": \\\"Nafisah Mohamed\\\"}, {\\\"credit_id\\\": \\\"56fa45409251414df1001dbd\\\", \\\"department\\\": \\\"Visual Effects\\\", \\\"gender\\\": 0, \\\"id\\\": 1597960, \\\"job\\\": \\\"Animation\\\", \\\"name\\\": \\\"Walter Goh\\\"}, {\\\"credit_id\\\": \\\"56fa45edc3a3681941002056\\\", \\\"department\\\": \\\"Visual Effects\\\", \\\"gender\\\": 0, \\\"id\\\": 1597961, \\\"job\\\": \\\"Visual Effects Coordinator\\\", \\\"name\\\": \\\"Kimberly Aller\\\"}, {\\\"credit_id\\\": \\\"56fa462a9251414df1001de6\\\", \\\"department\\\": \\\"Visual Effects\\\", \\\"gender\\\": 0, \\\"id\\\": 1597962, \\\"job\\\": \\\"Visual Effects Coordinator\\\", \\\"name\\\": \\\"Alene Tan\\\"}, {\\\"credit_id\\\": \\\"56fa4644c3a368194100206c\\\", \\\"department\\\": \\\"Visual Effects\\\", \\\"gender\\\": 0, \\\"id\\\": 1597963, \\\"job\\\": \\\"Visual Effects Coordinator\\\", \\\"name\\\": \\\"Chan Ee Jien\\\"}, {\\\"credit_id\\\": \\\"56fa4659c3a368193d001cfe\\\", \\\"department\\\": \\\"Visual Effects\\\", \\\"gender\\\": 0, \\\"id\\\": 1597964, \\\"job\\\": \\\"Visual Effects Coordinator\\\", \\\"name\\\": \\\"Vanessa Seow\\\"}, {\\\"credit_id\\\": \\\"56fa46c39251414ded001e89\\\", \\\"department\\\": \\\"Visual Effects\\\", \\\"gender\\\": 0, \\\"id\\\": 1597965, \\\"job\\\": \\\"Visual Effects Producer\\\", \\\"name\\\": \\\"Jennifer Meislohn\\\"}, {\\\"credit_id\\\": \\\"56fa46fec3a368193d001d2c\\\", \\\"department\\\": \\\"Visual Effects\\\", \\\"gender\\\": 0, \\\"id\\\": 1597966, \\\"job\\\": \\\"Visual Effects Producer\\\", \\\"name\\\": \\\"Sebastian Meszmann\\\"}, {\\\"credit_id\\\": \\\"56fa472fc3a368193d001d3a\\\", \\\"department\\\": \\\"Visual Effects\\\", \\\"gender\\\": 0, \\\"id\\\": 1597967, \\\"job\\\": \\\"Visual Effects Supervisor\\\", \\\"name\\\": \\\"Dinesh K. Bishnoi\\\"}]\"\n        ],\n        \"semantic_type\": \"\",\n        \"description\": \"\"\n      }\n    }\n  ]\n}"
            }
          },
          "metadata": {},
          "execution_count": 18
        }
      ]
    },
    {
      "cell_type": "code",
      "source": [
        "def convert3(obj):\n",
        "    l=[]\n",
        "    c=0\n",
        "    for i in ast.literal_eval(obj):\n",
        "        if c!=3:\n",
        "            l.append(i['name'])\n",
        "            c+=1\n",
        "        else:\n",
        "            break\n",
        "    return l\n"
      ],
      "metadata": {
        "id": "O9WWOB8Jem0w"
      },
      "execution_count": null,
      "outputs": []
    },
    {
      "cell_type": "code",
      "source": [
        "movies['cast']=movies['cast'].apply(convert3)"
      ],
      "metadata": {
        "id": "r6sdgBTueqG7"
      },
      "execution_count": null,
      "outputs": []
    },
    {
      "cell_type": "code",
      "source": [
        "movies['cast']"
      ],
      "metadata": {
        "colab": {
          "base_uri": "https://localhost:8080/",
          "height": 458
        },
        "id": "wNcgJ1ROfRG6",
        "outputId": "c6b70d06-5496-47ea-9b58-2b914236fb53"
      },
      "execution_count": null,
      "outputs": [
        {
          "output_type": "execute_result",
          "data": {
            "text/plain": [
              "0        [Sam Worthington, Zoe Saldana, Sigourney Weaver]\n",
              "1           [Johnny Depp, Orlando Bloom, Keira Knightley]\n",
              "2            [Daniel Craig, Christoph Waltz, Léa Seydoux]\n",
              "3            [Christian Bale, Michael Caine, Gary Oldman]\n",
              "4          [Taylor Kitsch, Lynn Collins, Samantha Morton]\n",
              "                              ...                        \n",
              "1826        [Lizzy Caplan, Jessica Lucas, Odette Annable]\n",
              "1827          [Paige Turco, David Warner, Michelan Sisti]\n",
              "1828    [Kevin Costner, Sean Connery, Charles Martin S...\n",
              "1830             [Saoirse Ronan, Diane Kruger, Jake Abel]\n",
              "1831       [Jack Nicholson, Michael Keaton, Kim Basinger]\n",
              "Name: cast, Length: 1831, dtype: object"
            ],
            "text/html": [
              "<div>\n",
              "<style scoped>\n",
              "    .dataframe tbody tr th:only-of-type {\n",
              "        vertical-align: middle;\n",
              "    }\n",
              "\n",
              "    .dataframe tbody tr th {\n",
              "        vertical-align: top;\n",
              "    }\n",
              "\n",
              "    .dataframe thead th {\n",
              "        text-align: right;\n",
              "    }\n",
              "</style>\n",
              "<table border=\"1\" class=\"dataframe\">\n",
              "  <thead>\n",
              "    <tr style=\"text-align: right;\">\n",
              "      <th></th>\n",
              "      <th>cast</th>\n",
              "    </tr>\n",
              "  </thead>\n",
              "  <tbody>\n",
              "    <tr>\n",
              "      <th>0</th>\n",
              "      <td>[Sam Worthington, Zoe Saldana, Sigourney Weaver]</td>\n",
              "    </tr>\n",
              "    <tr>\n",
              "      <th>1</th>\n",
              "      <td>[Johnny Depp, Orlando Bloom, Keira Knightley]</td>\n",
              "    </tr>\n",
              "    <tr>\n",
              "      <th>2</th>\n",
              "      <td>[Daniel Craig, Christoph Waltz, Léa Seydoux]</td>\n",
              "    </tr>\n",
              "    <tr>\n",
              "      <th>3</th>\n",
              "      <td>[Christian Bale, Michael Caine, Gary Oldman]</td>\n",
              "    </tr>\n",
              "    <tr>\n",
              "      <th>4</th>\n",
              "      <td>[Taylor Kitsch, Lynn Collins, Samantha Morton]</td>\n",
              "    </tr>\n",
              "    <tr>\n",
              "      <th>...</th>\n",
              "      <td>...</td>\n",
              "    </tr>\n",
              "    <tr>\n",
              "      <th>1826</th>\n",
              "      <td>[Lizzy Caplan, Jessica Lucas, Odette Annable]</td>\n",
              "    </tr>\n",
              "    <tr>\n",
              "      <th>1827</th>\n",
              "      <td>[Paige Turco, David Warner, Michelan Sisti]</td>\n",
              "    </tr>\n",
              "    <tr>\n",
              "      <th>1828</th>\n",
              "      <td>[Kevin Costner, Sean Connery, Charles Martin S...</td>\n",
              "    </tr>\n",
              "    <tr>\n",
              "      <th>1830</th>\n",
              "      <td>[Saoirse Ronan, Diane Kruger, Jake Abel]</td>\n",
              "    </tr>\n",
              "    <tr>\n",
              "      <th>1831</th>\n",
              "      <td>[Jack Nicholson, Michael Keaton, Kim Basinger]</td>\n",
              "    </tr>\n",
              "  </tbody>\n",
              "</table>\n",
              "<p>1831 rows × 1 columns</p>\n",
              "</div><br><label><b>dtype:</b> object</label>"
            ]
          },
          "metadata": {},
          "execution_count": 21
        }
      ]
    },
    {
      "cell_type": "code",
      "source": [
        "def fetch_director(obj):\n",
        "    l=[]\n",
        "    for i in ast.literal_eval(obj):\n",
        "        if i['job']=='Director':\n",
        "            l.append(i['name'])\n",
        "            break\n",
        "    return l"
      ],
      "metadata": {
        "id": "LkRmaigsf8KK"
      },
      "execution_count": null,
      "outputs": []
    },
    {
      "cell_type": "code",
      "source": [
        "movies['crew']=movies['crew'].apply(fetch_director)"
      ],
      "metadata": {
        "id": "CO5un9BAg4bp"
      },
      "execution_count": null,
      "outputs": []
    },
    {
      "cell_type": "code",
      "source": [
        "movies['overview']=movies['overview'].apply(lambda x:x.split())"
      ],
      "metadata": {
        "id": "iZI8WUxKhBFh"
      },
      "execution_count": null,
      "outputs": []
    },
    {
      "cell_type": "code",
      "source": [
        "movies.sample(1)"
      ],
      "metadata": {
        "colab": {
          "base_uri": "https://localhost:8080/",
          "height": 98
        },
        "id": "ZAPJHZeUhWUA",
        "outputId": "bd6985fc-b7cc-4578-e506-328035901195"
      },
      "execution_count": null,
      "outputs": [
        {
          "output_type": "execute_result",
          "data": {
            "text/plain": [
              "                                genres        title    id  \\\n",
              "345  [Action, Comedy, Crime, Thriller]  Rush Hour 2  5175   \n",
              "\n",
              "                   keywords  \\\n",
              "345  [duringcreditsstinger]   \n",
              "\n",
              "                                              overview  \\\n",
              "345  [It's, vacation, time, for, Carter, as, he, fi...   \n",
              "\n",
              "                                        cast            crew  \n",
              "345  [Chris Tucker, Jackie Chan, Zhang Ziyi]  [Brett Ratner]  "
            ],
            "text/html": [
              "\n",
              "  <div id=\"df-07bed738-f0d5-45d2-9317-d078fa53face\" class=\"colab-df-container\">\n",
              "    <div>\n",
              "<style scoped>\n",
              "    .dataframe tbody tr th:only-of-type {\n",
              "        vertical-align: middle;\n",
              "    }\n",
              "\n",
              "    .dataframe tbody tr th {\n",
              "        vertical-align: top;\n",
              "    }\n",
              "\n",
              "    .dataframe thead th {\n",
              "        text-align: right;\n",
              "    }\n",
              "</style>\n",
              "<table border=\"1\" class=\"dataframe\">\n",
              "  <thead>\n",
              "    <tr style=\"text-align: right;\">\n",
              "      <th></th>\n",
              "      <th>genres</th>\n",
              "      <th>title</th>\n",
              "      <th>id</th>\n",
              "      <th>keywords</th>\n",
              "      <th>overview</th>\n",
              "      <th>cast</th>\n",
              "      <th>crew</th>\n",
              "    </tr>\n",
              "  </thead>\n",
              "  <tbody>\n",
              "    <tr>\n",
              "      <th>345</th>\n",
              "      <td>[Action, Comedy, Crime, Thriller]</td>\n",
              "      <td>Rush Hour 2</td>\n",
              "      <td>5175</td>\n",
              "      <td>[duringcreditsstinger]</td>\n",
              "      <td>[It's, vacation, time, for, Carter, as, he, fi...</td>\n",
              "      <td>[Chris Tucker, Jackie Chan, Zhang Ziyi]</td>\n",
              "      <td>[Brett Ratner]</td>\n",
              "    </tr>\n",
              "  </tbody>\n",
              "</table>\n",
              "</div>\n",
              "    <div class=\"colab-df-buttons\">\n",
              "\n",
              "  <div class=\"colab-df-container\">\n",
              "    <button class=\"colab-df-convert\" onclick=\"convertToInteractive('df-07bed738-f0d5-45d2-9317-d078fa53face')\"\n",
              "            title=\"Convert this dataframe to an interactive table.\"\n",
              "            style=\"display:none;\">\n",
              "\n",
              "  <svg xmlns=\"http://www.w3.org/2000/svg\" height=\"24px\" viewBox=\"0 -960 960 960\">\n",
              "    <path d=\"M120-120v-720h720v720H120Zm60-500h600v-160H180v160Zm220 220h160v-160H400v160Zm0 220h160v-160H400v160ZM180-400h160v-160H180v160Zm440 0h160v-160H620v160ZM180-180h160v-160H180v160Zm440 0h160v-160H620v160Z\"/>\n",
              "  </svg>\n",
              "    </button>\n",
              "\n",
              "  <style>\n",
              "    .colab-df-container {\n",
              "      display:flex;\n",
              "      gap: 12px;\n",
              "    }\n",
              "\n",
              "    .colab-df-convert {\n",
              "      background-color: #E8F0FE;\n",
              "      border: none;\n",
              "      border-radius: 50%;\n",
              "      cursor: pointer;\n",
              "      display: none;\n",
              "      fill: #1967D2;\n",
              "      height: 32px;\n",
              "      padding: 0 0 0 0;\n",
              "      width: 32px;\n",
              "    }\n",
              "\n",
              "    .colab-df-convert:hover {\n",
              "      background-color: #E2EBFA;\n",
              "      box-shadow: 0px 1px 2px rgba(60, 64, 67, 0.3), 0px 1px 3px 1px rgba(60, 64, 67, 0.15);\n",
              "      fill: #174EA6;\n",
              "    }\n",
              "\n",
              "    .colab-df-buttons div {\n",
              "      margin-bottom: 4px;\n",
              "    }\n",
              "\n",
              "    [theme=dark] .colab-df-convert {\n",
              "      background-color: #3B4455;\n",
              "      fill: #D2E3FC;\n",
              "    }\n",
              "\n",
              "    [theme=dark] .colab-df-convert:hover {\n",
              "      background-color: #434B5C;\n",
              "      box-shadow: 0px 1px 3px 1px rgba(0, 0, 0, 0.15);\n",
              "      filter: drop-shadow(0px 1px 2px rgba(0, 0, 0, 0.3));\n",
              "      fill: #FFFFFF;\n",
              "    }\n",
              "  </style>\n",
              "\n",
              "    <script>\n",
              "      const buttonEl =\n",
              "        document.querySelector('#df-07bed738-f0d5-45d2-9317-d078fa53face button.colab-df-convert');\n",
              "      buttonEl.style.display =\n",
              "        google.colab.kernel.accessAllowed ? 'block' : 'none';\n",
              "\n",
              "      async function convertToInteractive(key) {\n",
              "        const element = document.querySelector('#df-07bed738-f0d5-45d2-9317-d078fa53face');\n",
              "        const dataTable =\n",
              "          await google.colab.kernel.invokeFunction('convertToInteractive',\n",
              "                                                    [key], {});\n",
              "        if (!dataTable) return;\n",
              "\n",
              "        const docLinkHtml = 'Like what you see? Visit the ' +\n",
              "          '<a target=\"_blank\" href=https://colab.research.google.com/notebooks/data_table.ipynb>data table notebook</a>'\n",
              "          + ' to learn more about interactive tables.';\n",
              "        element.innerHTML = '';\n",
              "        dataTable['output_type'] = 'display_data';\n",
              "        await google.colab.output.renderOutput(dataTable, element);\n",
              "        const docLink = document.createElement('div');\n",
              "        docLink.innerHTML = docLinkHtml;\n",
              "        element.appendChild(docLink);\n",
              "      }\n",
              "    </script>\n",
              "  </div>\n",
              "\n",
              "\n",
              "    </div>\n",
              "  </div>\n"
            ],
            "application/vnd.google.colaboratory.intrinsic+json": {
              "type": "dataframe",
              "summary": "{\n  \"name\": \"movies\",\n  \"rows\": 1,\n  \"fields\": [\n    {\n      \"column\": \"genres\",\n      \"properties\": {\n        \"dtype\": \"object\",\n        \"semantic_type\": \"\",\n        \"description\": \"\"\n      }\n    },\n    {\n      \"column\": \"title\",\n      \"properties\": {\n        \"dtype\": \"string\",\n        \"num_unique_values\": 1,\n        \"samples\": [\n          \"Rush Hour 2\"\n        ],\n        \"semantic_type\": \"\",\n        \"description\": \"\"\n      }\n    },\n    {\n      \"column\": \"id\",\n      \"properties\": {\n        \"dtype\": \"number\",\n        \"std\": null,\n        \"min\": 5175,\n        \"max\": 5175,\n        \"num_unique_values\": 1,\n        \"samples\": [\n          5175\n        ],\n        \"semantic_type\": \"\",\n        \"description\": \"\"\n      }\n    },\n    {\n      \"column\": \"keywords\",\n      \"properties\": {\n        \"dtype\": \"object\",\n        \"semantic_type\": \"\",\n        \"description\": \"\"\n      }\n    },\n    {\n      \"column\": \"overview\",\n      \"properties\": {\n        \"dtype\": \"object\",\n        \"semantic_type\": \"\",\n        \"description\": \"\"\n      }\n    },\n    {\n      \"column\": \"cast\",\n      \"properties\": {\n        \"dtype\": \"object\",\n        \"semantic_type\": \"\",\n        \"description\": \"\"\n      }\n    },\n    {\n      \"column\": \"crew\",\n      \"properties\": {\n        \"dtype\": \"object\",\n        \"semantic_type\": \"\",\n        \"description\": \"\"\n      }\n    }\n  ]\n}"
            }
          },
          "metadata": {},
          "execution_count": 25
        }
      ]
    },
    {
      "cell_type": "code",
      "source": [
        "movies['genres']=movies['genres'].apply(lambda x:[i.replace(\" \",\"\") for i in x])\n",
        "movies['keywords']=movies['keywords'].apply(lambda x:[i.replace(\" \",\"\") for i in x])\n",
        "movies['cast']=movies['cast'].apply(lambda x:[i.replace(\" \",\"\") for i in x])\n",
        "movies['crew']=movies['crew'].apply(lambda x:[i.replace(\" \",\"\") for i in x])"
      ],
      "metadata": {
        "id": "CmfICYtTiYEH"
      },
      "execution_count": null,
      "outputs": []
    },
    {
      "cell_type": "code",
      "source": [
        "movies['tags']=movies['overview']+movies['genres']+movies['keywords']+movies['cast']+movies['crew']"
      ],
      "metadata": {
        "id": "tS5Vkq5gi8ov"
      },
      "execution_count": null,
      "outputs": []
    },
    {
      "cell_type": "code",
      "source": [
        "movies.sample(1)"
      ],
      "metadata": {
        "colab": {
          "base_uri": "https://localhost:8080/",
          "height": 133
        },
        "id": "kiylffqkjE4K",
        "outputId": "65fd493f-1b4a-4689-b5bd-b6c5f918f9ce"
      },
      "execution_count": null,
      "outputs": [
        {
          "output_type": "execute_result",
          "data": {
            "text/plain": [
              "                                 genres           title     id  \\\n",
              "555  [Comedy, Family, Romance, Fantasy]  Dr. Dolittle 2  10808   \n",
              "\n",
              "                                              keywords  \\\n",
              "555  [veterinarian, forest, bear, animal, animalpro...   \n",
              "\n",
              "                                              overview  \\\n",
              "555  [Dr., John, Dolittle, the, beloved, doctor, is...   \n",
              "\n",
              "                                           cast         crew  \\\n",
              "555  [EddieMurphy, KristenWilson, Raven-Symoné]  [SteveCarr]   \n",
              "\n",
              "                                                  tags  \n",
              "555  [Dr., John, Dolittle, the, beloved, doctor, is...  "
            ],
            "text/html": [
              "\n",
              "  <div id=\"df-7899c57e-7b6f-4136-b2dc-6629f1afb547\" class=\"colab-df-container\">\n",
              "    <div>\n",
              "<style scoped>\n",
              "    .dataframe tbody tr th:only-of-type {\n",
              "        vertical-align: middle;\n",
              "    }\n",
              "\n",
              "    .dataframe tbody tr th {\n",
              "        vertical-align: top;\n",
              "    }\n",
              "\n",
              "    .dataframe thead th {\n",
              "        text-align: right;\n",
              "    }\n",
              "</style>\n",
              "<table border=\"1\" class=\"dataframe\">\n",
              "  <thead>\n",
              "    <tr style=\"text-align: right;\">\n",
              "      <th></th>\n",
              "      <th>genres</th>\n",
              "      <th>title</th>\n",
              "      <th>id</th>\n",
              "      <th>keywords</th>\n",
              "      <th>overview</th>\n",
              "      <th>cast</th>\n",
              "      <th>crew</th>\n",
              "      <th>tags</th>\n",
              "    </tr>\n",
              "  </thead>\n",
              "  <tbody>\n",
              "    <tr>\n",
              "      <th>555</th>\n",
              "      <td>[Comedy, Family, Romance, Fantasy]</td>\n",
              "      <td>Dr. Dolittle 2</td>\n",
              "      <td>10808</td>\n",
              "      <td>[veterinarian, forest, bear, animal, animalpro...</td>\n",
              "      <td>[Dr., John, Dolittle, the, beloved, doctor, is...</td>\n",
              "      <td>[EddieMurphy, KristenWilson, Raven-Symoné]</td>\n",
              "      <td>[SteveCarr]</td>\n",
              "      <td>[Dr., John, Dolittle, the, beloved, doctor, is...</td>\n",
              "    </tr>\n",
              "  </tbody>\n",
              "</table>\n",
              "</div>\n",
              "    <div class=\"colab-df-buttons\">\n",
              "\n",
              "  <div class=\"colab-df-container\">\n",
              "    <button class=\"colab-df-convert\" onclick=\"convertToInteractive('df-7899c57e-7b6f-4136-b2dc-6629f1afb547')\"\n",
              "            title=\"Convert this dataframe to an interactive table.\"\n",
              "            style=\"display:none;\">\n",
              "\n",
              "  <svg xmlns=\"http://www.w3.org/2000/svg\" height=\"24px\" viewBox=\"0 -960 960 960\">\n",
              "    <path d=\"M120-120v-720h720v720H120Zm60-500h600v-160H180v160Zm220 220h160v-160H400v160Zm0 220h160v-160H400v160ZM180-400h160v-160H180v160Zm440 0h160v-160H620v160ZM180-180h160v-160H180v160Zm440 0h160v-160H620v160Z\"/>\n",
              "  </svg>\n",
              "    </button>\n",
              "\n",
              "  <style>\n",
              "    .colab-df-container {\n",
              "      display:flex;\n",
              "      gap: 12px;\n",
              "    }\n",
              "\n",
              "    .colab-df-convert {\n",
              "      background-color: #E8F0FE;\n",
              "      border: none;\n",
              "      border-radius: 50%;\n",
              "      cursor: pointer;\n",
              "      display: none;\n",
              "      fill: #1967D2;\n",
              "      height: 32px;\n",
              "      padding: 0 0 0 0;\n",
              "      width: 32px;\n",
              "    }\n",
              "\n",
              "    .colab-df-convert:hover {\n",
              "      background-color: #E2EBFA;\n",
              "      box-shadow: 0px 1px 2px rgba(60, 64, 67, 0.3), 0px 1px 3px 1px rgba(60, 64, 67, 0.15);\n",
              "      fill: #174EA6;\n",
              "    }\n",
              "\n",
              "    .colab-df-buttons div {\n",
              "      margin-bottom: 4px;\n",
              "    }\n",
              "\n",
              "    [theme=dark] .colab-df-convert {\n",
              "      background-color: #3B4455;\n",
              "      fill: #D2E3FC;\n",
              "    }\n",
              "\n",
              "    [theme=dark] .colab-df-convert:hover {\n",
              "      background-color: #434B5C;\n",
              "      box-shadow: 0px 1px 3px 1px rgba(0, 0, 0, 0.15);\n",
              "      filter: drop-shadow(0px 1px 2px rgba(0, 0, 0, 0.3));\n",
              "      fill: #FFFFFF;\n",
              "    }\n",
              "  </style>\n",
              "\n",
              "    <script>\n",
              "      const buttonEl =\n",
              "        document.querySelector('#df-7899c57e-7b6f-4136-b2dc-6629f1afb547 button.colab-df-convert');\n",
              "      buttonEl.style.display =\n",
              "        google.colab.kernel.accessAllowed ? 'block' : 'none';\n",
              "\n",
              "      async function convertToInteractive(key) {\n",
              "        const element = document.querySelector('#df-7899c57e-7b6f-4136-b2dc-6629f1afb547');\n",
              "        const dataTable =\n",
              "          await google.colab.kernel.invokeFunction('convertToInteractive',\n",
              "                                                    [key], {});\n",
              "        if (!dataTable) return;\n",
              "\n",
              "        const docLinkHtml = 'Like what you see? Visit the ' +\n",
              "          '<a target=\"_blank\" href=https://colab.research.google.com/notebooks/data_table.ipynb>data table notebook</a>'\n",
              "          + ' to learn more about interactive tables.';\n",
              "        element.innerHTML = '';\n",
              "        dataTable['output_type'] = 'display_data';\n",
              "        await google.colab.output.renderOutput(dataTable, element);\n",
              "        const docLink = document.createElement('div');\n",
              "        docLink.innerHTML = docLinkHtml;\n",
              "        element.appendChild(docLink);\n",
              "      }\n",
              "    </script>\n",
              "  </div>\n",
              "\n",
              "\n",
              "    </div>\n",
              "  </div>\n"
            ],
            "application/vnd.google.colaboratory.intrinsic+json": {
              "type": "dataframe",
              "summary": "{\n  \"name\": \"movies\",\n  \"rows\": 1,\n  \"fields\": [\n    {\n      \"column\": \"genres\",\n      \"properties\": {\n        \"dtype\": \"object\",\n        \"semantic_type\": \"\",\n        \"description\": \"\"\n      }\n    },\n    {\n      \"column\": \"title\",\n      \"properties\": {\n        \"dtype\": \"string\",\n        \"num_unique_values\": 1,\n        \"samples\": [\n          \"Dr. Dolittle 2\"\n        ],\n        \"semantic_type\": \"\",\n        \"description\": \"\"\n      }\n    },\n    {\n      \"column\": \"id\",\n      \"properties\": {\n        \"dtype\": \"number\",\n        \"std\": null,\n        \"min\": 10808,\n        \"max\": 10808,\n        \"num_unique_values\": 1,\n        \"samples\": [\n          10808\n        ],\n        \"semantic_type\": \"\",\n        \"description\": \"\"\n      }\n    },\n    {\n      \"column\": \"keywords\",\n      \"properties\": {\n        \"dtype\": \"object\",\n        \"semantic_type\": \"\",\n        \"description\": \"\"\n      }\n    },\n    {\n      \"column\": \"overview\",\n      \"properties\": {\n        \"dtype\": \"object\",\n        \"semantic_type\": \"\",\n        \"description\": \"\"\n      }\n    },\n    {\n      \"column\": \"cast\",\n      \"properties\": {\n        \"dtype\": \"object\",\n        \"semantic_type\": \"\",\n        \"description\": \"\"\n      }\n    },\n    {\n      \"column\": \"crew\",\n      \"properties\": {\n        \"dtype\": \"object\",\n        \"semantic_type\": \"\",\n        \"description\": \"\"\n      }\n    },\n    {\n      \"column\": \"tags\",\n      \"properties\": {\n        \"dtype\": \"object\",\n        \"semantic_type\": \"\",\n        \"description\": \"\"\n      }\n    }\n  ]\n}"
            }
          },
          "metadata": {},
          "execution_count": 28
        }
      ]
    },
    {
      "cell_type": "code",
      "source": [
        "new_df=movies[['id','title','tags']]"
      ],
      "metadata": {
        "id": "0CNvGsB2jIIX"
      },
      "execution_count": null,
      "outputs": []
    },
    {
      "cell_type": "code",
      "source": [
        "new_df['tags']=new_df['tags'].apply(lambda x:\" \".join(x))"
      ],
      "metadata": {
        "colab": {
          "base_uri": "https://localhost:8080/"
        },
        "id": "FBw3iNtbjQQq",
        "outputId": "1dada79d-4a43-4b41-d629-cab2afafe7f2"
      },
      "execution_count": null,
      "outputs": [
        {
          "output_type": "stream",
          "name": "stderr",
          "text": [
            "<ipython-input-30-53a061086f2e>:1: SettingWithCopyWarning: \n",
            "A value is trying to be set on a copy of a slice from a DataFrame.\n",
            "Try using .loc[row_indexer,col_indexer] = value instead\n",
            "\n",
            "See the caveats in the documentation: https://pandas.pydata.org/pandas-docs/stable/user_guide/indexing.html#returning-a-view-versus-a-copy\n",
            "  new_df['tags']=new_df['tags'].apply(lambda x:\" \".join(x))\n"
          ]
        }
      ]
    },
    {
      "cell_type": "code",
      "source": [
        "new_df"
      ],
      "metadata": {
        "colab": {
          "base_uri": "https://localhost:8080/",
          "height": 424
        },
        "id": "Y4duJJNQjcJK",
        "outputId": "b84acc80-6697-44a7-9297-1719b7844b6d"
      },
      "execution_count": null,
      "outputs": [
        {
          "output_type": "execute_result",
          "data": {
            "text/plain": [
              "          id                                              title  \\\n",
              "0      19995                                             Avatar   \n",
              "1        285           Pirates of the Caribbean: At World's End   \n",
              "2     206647                                            Spectre   \n",
              "3      49026                              The Dark Knight Rises   \n",
              "4      49529                                        John Carter   \n",
              "...      ...                                                ...   \n",
              "1826    7191                                        Cloverfield   \n",
              "1827    1497  Teenage Mutant Ninja Turtles II: The Secret of...   \n",
              "1828     117                                   The Untouchables   \n",
              "1830    1255                                           The Host   \n",
              "1831    2661                                             Batman   \n",
              "\n",
              "                                                   tags  \n",
              "0     In the 22nd century, a paraplegic Marine is di...  \n",
              "1     Captain Barbossa, long believed to be dead, ha...  \n",
              "2     A cryptic message from Bond’s past sends him o...  \n",
              "3     Following the death of District Attorney Harve...  \n",
              "4     John Carter is a war-weary, former military ca...  \n",
              "...                                                 ...  \n",
              "1826  Five young New Yorkers throw their friend a go...  \n",
              "1827  The Turtles and the Shredder battle once again...  \n",
              "1828  Young Treasury Agent Elliot Ness arrives in Ch...  \n",
              "1830  Gang-du is a dim-witted man working at his fat...  \n",
              "1831  The Dynamic Duo faces four super-villains who ...  \n",
              "\n",
              "[1831 rows x 3 columns]"
            ],
            "text/html": [
              "\n",
              "  <div id=\"df-00a0198e-5a2a-4bbc-b527-0c2137a743e9\" class=\"colab-df-container\">\n",
              "    <div>\n",
              "<style scoped>\n",
              "    .dataframe tbody tr th:only-of-type {\n",
              "        vertical-align: middle;\n",
              "    }\n",
              "\n",
              "    .dataframe tbody tr th {\n",
              "        vertical-align: top;\n",
              "    }\n",
              "\n",
              "    .dataframe thead th {\n",
              "        text-align: right;\n",
              "    }\n",
              "</style>\n",
              "<table border=\"1\" class=\"dataframe\">\n",
              "  <thead>\n",
              "    <tr style=\"text-align: right;\">\n",
              "      <th></th>\n",
              "      <th>id</th>\n",
              "      <th>title</th>\n",
              "      <th>tags</th>\n",
              "    </tr>\n",
              "  </thead>\n",
              "  <tbody>\n",
              "    <tr>\n",
              "      <th>0</th>\n",
              "      <td>19995</td>\n",
              "      <td>Avatar</td>\n",
              "      <td>In the 22nd century, a paraplegic Marine is di...</td>\n",
              "    </tr>\n",
              "    <tr>\n",
              "      <th>1</th>\n",
              "      <td>285</td>\n",
              "      <td>Pirates of the Caribbean: At World's End</td>\n",
              "      <td>Captain Barbossa, long believed to be dead, ha...</td>\n",
              "    </tr>\n",
              "    <tr>\n",
              "      <th>2</th>\n",
              "      <td>206647</td>\n",
              "      <td>Spectre</td>\n",
              "      <td>A cryptic message from Bond’s past sends him o...</td>\n",
              "    </tr>\n",
              "    <tr>\n",
              "      <th>3</th>\n",
              "      <td>49026</td>\n",
              "      <td>The Dark Knight Rises</td>\n",
              "      <td>Following the death of District Attorney Harve...</td>\n",
              "    </tr>\n",
              "    <tr>\n",
              "      <th>4</th>\n",
              "      <td>49529</td>\n",
              "      <td>John Carter</td>\n",
              "      <td>John Carter is a war-weary, former military ca...</td>\n",
              "    </tr>\n",
              "    <tr>\n",
              "      <th>...</th>\n",
              "      <td>...</td>\n",
              "      <td>...</td>\n",
              "      <td>...</td>\n",
              "    </tr>\n",
              "    <tr>\n",
              "      <th>1826</th>\n",
              "      <td>7191</td>\n",
              "      <td>Cloverfield</td>\n",
              "      <td>Five young New Yorkers throw their friend a go...</td>\n",
              "    </tr>\n",
              "    <tr>\n",
              "      <th>1827</th>\n",
              "      <td>1497</td>\n",
              "      <td>Teenage Mutant Ninja Turtles II: The Secret of...</td>\n",
              "      <td>The Turtles and the Shredder battle once again...</td>\n",
              "    </tr>\n",
              "    <tr>\n",
              "      <th>1828</th>\n",
              "      <td>117</td>\n",
              "      <td>The Untouchables</td>\n",
              "      <td>Young Treasury Agent Elliot Ness arrives in Ch...</td>\n",
              "    </tr>\n",
              "    <tr>\n",
              "      <th>1830</th>\n",
              "      <td>1255</td>\n",
              "      <td>The Host</td>\n",
              "      <td>Gang-du is a dim-witted man working at his fat...</td>\n",
              "    </tr>\n",
              "    <tr>\n",
              "      <th>1831</th>\n",
              "      <td>2661</td>\n",
              "      <td>Batman</td>\n",
              "      <td>The Dynamic Duo faces four super-villains who ...</td>\n",
              "    </tr>\n",
              "  </tbody>\n",
              "</table>\n",
              "<p>1831 rows × 3 columns</p>\n",
              "</div>\n",
              "    <div class=\"colab-df-buttons\">\n",
              "\n",
              "  <div class=\"colab-df-container\">\n",
              "    <button class=\"colab-df-convert\" onclick=\"convertToInteractive('df-00a0198e-5a2a-4bbc-b527-0c2137a743e9')\"\n",
              "            title=\"Convert this dataframe to an interactive table.\"\n",
              "            style=\"display:none;\">\n",
              "\n",
              "  <svg xmlns=\"http://www.w3.org/2000/svg\" height=\"24px\" viewBox=\"0 -960 960 960\">\n",
              "    <path d=\"M120-120v-720h720v720H120Zm60-500h600v-160H180v160Zm220 220h160v-160H400v160Zm0 220h160v-160H400v160ZM180-400h160v-160H180v160Zm440 0h160v-160H620v160ZM180-180h160v-160H180v160Zm440 0h160v-160H620v160Z\"/>\n",
              "  </svg>\n",
              "    </button>\n",
              "\n",
              "  <style>\n",
              "    .colab-df-container {\n",
              "      display:flex;\n",
              "      gap: 12px;\n",
              "    }\n",
              "\n",
              "    .colab-df-convert {\n",
              "      background-color: #E8F0FE;\n",
              "      border: none;\n",
              "      border-radius: 50%;\n",
              "      cursor: pointer;\n",
              "      display: none;\n",
              "      fill: #1967D2;\n",
              "      height: 32px;\n",
              "      padding: 0 0 0 0;\n",
              "      width: 32px;\n",
              "    }\n",
              "\n",
              "    .colab-df-convert:hover {\n",
              "      background-color: #E2EBFA;\n",
              "      box-shadow: 0px 1px 2px rgba(60, 64, 67, 0.3), 0px 1px 3px 1px rgba(60, 64, 67, 0.15);\n",
              "      fill: #174EA6;\n",
              "    }\n",
              "\n",
              "    .colab-df-buttons div {\n",
              "      margin-bottom: 4px;\n",
              "    }\n",
              "\n",
              "    [theme=dark] .colab-df-convert {\n",
              "      background-color: #3B4455;\n",
              "      fill: #D2E3FC;\n",
              "    }\n",
              "\n",
              "    [theme=dark] .colab-df-convert:hover {\n",
              "      background-color: #434B5C;\n",
              "      box-shadow: 0px 1px 3px 1px rgba(0, 0, 0, 0.15);\n",
              "      filter: drop-shadow(0px 1px 2px rgba(0, 0, 0, 0.3));\n",
              "      fill: #FFFFFF;\n",
              "    }\n",
              "  </style>\n",
              "\n",
              "    <script>\n",
              "      const buttonEl =\n",
              "        document.querySelector('#df-00a0198e-5a2a-4bbc-b527-0c2137a743e9 button.colab-df-convert');\n",
              "      buttonEl.style.display =\n",
              "        google.colab.kernel.accessAllowed ? 'block' : 'none';\n",
              "\n",
              "      async function convertToInteractive(key) {\n",
              "        const element = document.querySelector('#df-00a0198e-5a2a-4bbc-b527-0c2137a743e9');\n",
              "        const dataTable =\n",
              "          await google.colab.kernel.invokeFunction('convertToInteractive',\n",
              "                                                    [key], {});\n",
              "        if (!dataTable) return;\n",
              "\n",
              "        const docLinkHtml = 'Like what you see? Visit the ' +\n",
              "          '<a target=\"_blank\" href=https://colab.research.google.com/notebooks/data_table.ipynb>data table notebook</a>'\n",
              "          + ' to learn more about interactive tables.';\n",
              "        element.innerHTML = '';\n",
              "        dataTable['output_type'] = 'display_data';\n",
              "        await google.colab.output.renderOutput(dataTable, element);\n",
              "        const docLink = document.createElement('div');\n",
              "        docLink.innerHTML = docLinkHtml;\n",
              "        element.appendChild(docLink);\n",
              "      }\n",
              "    </script>\n",
              "  </div>\n",
              "\n",
              "\n",
              "<div id=\"df-3ef2c006-e041-464f-9538-36f871450650\">\n",
              "  <button class=\"colab-df-quickchart\" onclick=\"quickchart('df-3ef2c006-e041-464f-9538-36f871450650')\"\n",
              "            title=\"Suggest charts\"\n",
              "            style=\"display:none;\">\n",
              "\n",
              "<svg xmlns=\"http://www.w3.org/2000/svg\" height=\"24px\"viewBox=\"0 0 24 24\"\n",
              "     width=\"24px\">\n",
              "    <g>\n",
              "        <path d=\"M19 3H5c-1.1 0-2 .9-2 2v14c0 1.1.9 2 2 2h14c1.1 0 2-.9 2-2V5c0-1.1-.9-2-2-2zM9 17H7v-7h2v7zm4 0h-2V7h2v10zm4 0h-2v-4h2v4z\"/>\n",
              "    </g>\n",
              "</svg>\n",
              "  </button>\n",
              "\n",
              "<style>\n",
              "  .colab-df-quickchart {\n",
              "      --bg-color: #E8F0FE;\n",
              "      --fill-color: #1967D2;\n",
              "      --hover-bg-color: #E2EBFA;\n",
              "      --hover-fill-color: #174EA6;\n",
              "      --disabled-fill-color: #AAA;\n",
              "      --disabled-bg-color: #DDD;\n",
              "  }\n",
              "\n",
              "  [theme=dark] .colab-df-quickchart {\n",
              "      --bg-color: #3B4455;\n",
              "      --fill-color: #D2E3FC;\n",
              "      --hover-bg-color: #434B5C;\n",
              "      --hover-fill-color: #FFFFFF;\n",
              "      --disabled-bg-color: #3B4455;\n",
              "      --disabled-fill-color: #666;\n",
              "  }\n",
              "\n",
              "  .colab-df-quickchart {\n",
              "    background-color: var(--bg-color);\n",
              "    border: none;\n",
              "    border-radius: 50%;\n",
              "    cursor: pointer;\n",
              "    display: none;\n",
              "    fill: var(--fill-color);\n",
              "    height: 32px;\n",
              "    padding: 0;\n",
              "    width: 32px;\n",
              "  }\n",
              "\n",
              "  .colab-df-quickchart:hover {\n",
              "    background-color: var(--hover-bg-color);\n",
              "    box-shadow: 0 1px 2px rgba(60, 64, 67, 0.3), 0 1px 3px 1px rgba(60, 64, 67, 0.15);\n",
              "    fill: var(--button-hover-fill-color);\n",
              "  }\n",
              "\n",
              "  .colab-df-quickchart-complete:disabled,\n",
              "  .colab-df-quickchart-complete:disabled:hover {\n",
              "    background-color: var(--disabled-bg-color);\n",
              "    fill: var(--disabled-fill-color);\n",
              "    box-shadow: none;\n",
              "  }\n",
              "\n",
              "  .colab-df-spinner {\n",
              "    border: 2px solid var(--fill-color);\n",
              "    border-color: transparent;\n",
              "    border-bottom-color: var(--fill-color);\n",
              "    animation:\n",
              "      spin 1s steps(1) infinite;\n",
              "  }\n",
              "\n",
              "  @keyframes spin {\n",
              "    0% {\n",
              "      border-color: transparent;\n",
              "      border-bottom-color: var(--fill-color);\n",
              "      border-left-color: var(--fill-color);\n",
              "    }\n",
              "    20% {\n",
              "      border-color: transparent;\n",
              "      border-left-color: var(--fill-color);\n",
              "      border-top-color: var(--fill-color);\n",
              "    }\n",
              "    30% {\n",
              "      border-color: transparent;\n",
              "      border-left-color: var(--fill-color);\n",
              "      border-top-color: var(--fill-color);\n",
              "      border-right-color: var(--fill-color);\n",
              "    }\n",
              "    40% {\n",
              "      border-color: transparent;\n",
              "      border-right-color: var(--fill-color);\n",
              "      border-top-color: var(--fill-color);\n",
              "    }\n",
              "    60% {\n",
              "      border-color: transparent;\n",
              "      border-right-color: var(--fill-color);\n",
              "    }\n",
              "    80% {\n",
              "      border-color: transparent;\n",
              "      border-right-color: var(--fill-color);\n",
              "      border-bottom-color: var(--fill-color);\n",
              "    }\n",
              "    90% {\n",
              "      border-color: transparent;\n",
              "      border-bottom-color: var(--fill-color);\n",
              "    }\n",
              "  }\n",
              "</style>\n",
              "\n",
              "  <script>\n",
              "    async function quickchart(key) {\n",
              "      const quickchartButtonEl =\n",
              "        document.querySelector('#' + key + ' button');\n",
              "      quickchartButtonEl.disabled = true;  // To prevent multiple clicks.\n",
              "      quickchartButtonEl.classList.add('colab-df-spinner');\n",
              "      try {\n",
              "        const charts = await google.colab.kernel.invokeFunction(\n",
              "            'suggestCharts', [key], {});\n",
              "      } catch (error) {\n",
              "        console.error('Error during call to suggestCharts:', error);\n",
              "      }\n",
              "      quickchartButtonEl.classList.remove('colab-df-spinner');\n",
              "      quickchartButtonEl.classList.add('colab-df-quickchart-complete');\n",
              "    }\n",
              "    (() => {\n",
              "      let quickchartButtonEl =\n",
              "        document.querySelector('#df-3ef2c006-e041-464f-9538-36f871450650 button');\n",
              "      quickchartButtonEl.style.display =\n",
              "        google.colab.kernel.accessAllowed ? 'block' : 'none';\n",
              "    })();\n",
              "  </script>\n",
              "</div>\n",
              "\n",
              "  <div id=\"id_8c050eb4-704e-4dc1-a5c8-c77db5cf0b69\">\n",
              "    <style>\n",
              "      .colab-df-generate {\n",
              "        background-color: #E8F0FE;\n",
              "        border: none;\n",
              "        border-radius: 50%;\n",
              "        cursor: pointer;\n",
              "        display: none;\n",
              "        fill: #1967D2;\n",
              "        height: 32px;\n",
              "        padding: 0 0 0 0;\n",
              "        width: 32px;\n",
              "      }\n",
              "\n",
              "      .colab-df-generate:hover {\n",
              "        background-color: #E2EBFA;\n",
              "        box-shadow: 0px 1px 2px rgba(60, 64, 67, 0.3), 0px 1px 3px 1px rgba(60, 64, 67, 0.15);\n",
              "        fill: #174EA6;\n",
              "      }\n",
              "\n",
              "      [theme=dark] .colab-df-generate {\n",
              "        background-color: #3B4455;\n",
              "        fill: #D2E3FC;\n",
              "      }\n",
              "\n",
              "      [theme=dark] .colab-df-generate:hover {\n",
              "        background-color: #434B5C;\n",
              "        box-shadow: 0px 1px 3px 1px rgba(0, 0, 0, 0.15);\n",
              "        filter: drop-shadow(0px 1px 2px rgba(0, 0, 0, 0.3));\n",
              "        fill: #FFFFFF;\n",
              "      }\n",
              "    </style>\n",
              "    <button class=\"colab-df-generate\" onclick=\"generateWithVariable('new_df')\"\n",
              "            title=\"Generate code using this dataframe.\"\n",
              "            style=\"display:none;\">\n",
              "\n",
              "  <svg xmlns=\"http://www.w3.org/2000/svg\" height=\"24px\"viewBox=\"0 0 24 24\"\n",
              "       width=\"24px\">\n",
              "    <path d=\"M7,19H8.4L18.45,9,17,7.55,7,17.6ZM5,21V16.75L18.45,3.32a2,2,0,0,1,2.83,0l1.4,1.43a1.91,1.91,0,0,1,.58,1.4,1.91,1.91,0,0,1-.58,1.4L9.25,21ZM18.45,9,17,7.55Zm-12,3A5.31,5.31,0,0,0,4.9,8.1,5.31,5.31,0,0,0,1,6.5,5.31,5.31,0,0,0,4.9,4.9,5.31,5.31,0,0,0,6.5,1,5.31,5.31,0,0,0,8.1,4.9,5.31,5.31,0,0,0,12,6.5,5.46,5.46,0,0,0,6.5,12Z\"/>\n",
              "  </svg>\n",
              "    </button>\n",
              "    <script>\n",
              "      (() => {\n",
              "      const buttonEl =\n",
              "        document.querySelector('#id_8c050eb4-704e-4dc1-a5c8-c77db5cf0b69 button.colab-df-generate');\n",
              "      buttonEl.style.display =\n",
              "        google.colab.kernel.accessAllowed ? 'block' : 'none';\n",
              "\n",
              "      buttonEl.onclick = () => {\n",
              "        google.colab.notebook.generateWithVariable('new_df');\n",
              "      }\n",
              "      })();\n",
              "    </script>\n",
              "  </div>\n",
              "\n",
              "    </div>\n",
              "  </div>\n"
            ],
            "application/vnd.google.colaboratory.intrinsic+json": {
              "type": "dataframe",
              "variable_name": "new_df",
              "summary": "{\n  \"name\": \"new_df\",\n  \"rows\": 1831,\n  \"fields\": [\n    {\n      \"column\": \"id\",\n      \"properties\": {\n        \"dtype\": \"number\",\n        \"std\": 72711,\n        \"min\": 12,\n        \"max\": 417859,\n        \"num_unique_values\": 1831,\n        \"samples\": [\n          163,\n          62214,\n          10333\n        ],\n        \"semantic_type\": \"\",\n        \"description\": \"\"\n      }\n    },\n    {\n      \"column\": \"title\",\n      \"properties\": {\n        \"dtype\": \"string\",\n        \"num_unique_values\": 1829,\n        \"samples\": [\n          \"Ocean's Twelve\",\n          \"Frankenweenie\",\n          \"The Prince of Tides\"\n        ],\n        \"semantic_type\": \"\",\n        \"description\": \"\"\n      }\n    },\n    {\n      \"column\": \"tags\",\n      \"properties\": {\n        \"dtype\": \"string\",\n        \"num_unique_values\": 1831,\n        \"samples\": [\n          \"Danny Ocean reunites with his old flame and the rest of his merry band of thieves in carrying out three huge heists in Rome, Paris and Amsterdam \\u2013 but a Europol agent is hot on their heels. Thriller Crime sequel faberg\\u00e9egg dutcheastindiancompany second part goldenegg goon GeorgeClooney BradPitt CatherineZeta-Jones StevenSoderbergh\",\n          \"When a car hits young Victor's pet dog Sparky, Victor decides to bring him back to life the only way he knows how. But when the bolt-necked \\\"monster\\\" wreaks havoc and terror in the hearts of Victor's neighbors, he has to convince them that Sparky's still the good, loyal friend he was. Animation Comedy Family shyness stopmotion blackandwhite retro dog animaldeath animallover CharlieTahan CatherineO'Hara MartinShort TimBurton\",\n          \"A troubled man talks to his suicidal sister's psychiatrist about their family history and falls in love with her in the process. Drama Romance americanfootball trainer twinsister suppressedpast psychiatrist extramaritalaffair womandirector NickNolte BarbraStreisand BlytheDanner BarbraStreisand\"\n        ],\n        \"semantic_type\": \"\",\n        \"description\": \"\"\n      }\n    }\n  ]\n}"
            }
          },
          "metadata": {},
          "execution_count": 31
        }
      ]
    },
    {
      "cell_type": "code",
      "source": [
        "new_df['tags']=new_df['tags'].apply(lambda x:x.lower())"
      ],
      "metadata": {
        "colab": {
          "base_uri": "https://localhost:8080/"
        },
        "id": "JyL0ax19jrVa",
        "outputId": "3ccefcb2-09cc-408c-9b99-020374136f7e"
      },
      "execution_count": null,
      "outputs": [
        {
          "output_type": "stream",
          "name": "stderr",
          "text": [
            "<ipython-input-32-242d679aab18>:1: SettingWithCopyWarning: \n",
            "A value is trying to be set on a copy of a slice from a DataFrame.\n",
            "Try using .loc[row_indexer,col_indexer] = value instead\n",
            "\n",
            "See the caveats in the documentation: https://pandas.pydata.org/pandas-docs/stable/user_guide/indexing.html#returning-a-view-versus-a-copy\n",
            "  new_df['tags']=new_df['tags'].apply(lambda x:x.lower())\n"
          ]
        }
      ]
    },
    {
      "cell_type": "code",
      "source": [
        "new_df.head(2)"
      ],
      "metadata": {
        "colab": {
          "base_uri": "https://localhost:8080/",
          "height": 112
        },
        "id": "DSQ5SVp-j0Zc",
        "outputId": "6b41d6db-281b-4bb3-8b38-6f7b78034d3f"
      },
      "execution_count": null,
      "outputs": [
        {
          "output_type": "execute_result",
          "data": {
            "text/plain": [
              "      id                                     title  \\\n",
              "0  19995                                    Avatar   \n",
              "1    285  Pirates of the Caribbean: At World's End   \n",
              "\n",
              "                                                tags  \n",
              "0  in the 22nd century, a paraplegic marine is di...  \n",
              "1  captain barbossa, long believed to be dead, ha...  "
            ],
            "text/html": [
              "\n",
              "  <div id=\"df-05997a58-2346-4e43-93f3-fd459b70a7b8\" class=\"colab-df-container\">\n",
              "    <div>\n",
              "<style scoped>\n",
              "    .dataframe tbody tr th:only-of-type {\n",
              "        vertical-align: middle;\n",
              "    }\n",
              "\n",
              "    .dataframe tbody tr th {\n",
              "        vertical-align: top;\n",
              "    }\n",
              "\n",
              "    .dataframe thead th {\n",
              "        text-align: right;\n",
              "    }\n",
              "</style>\n",
              "<table border=\"1\" class=\"dataframe\">\n",
              "  <thead>\n",
              "    <tr style=\"text-align: right;\">\n",
              "      <th></th>\n",
              "      <th>id</th>\n",
              "      <th>title</th>\n",
              "      <th>tags</th>\n",
              "    </tr>\n",
              "  </thead>\n",
              "  <tbody>\n",
              "    <tr>\n",
              "      <th>0</th>\n",
              "      <td>19995</td>\n",
              "      <td>Avatar</td>\n",
              "      <td>in the 22nd century, a paraplegic marine is di...</td>\n",
              "    </tr>\n",
              "    <tr>\n",
              "      <th>1</th>\n",
              "      <td>285</td>\n",
              "      <td>Pirates of the Caribbean: At World's End</td>\n",
              "      <td>captain barbossa, long believed to be dead, ha...</td>\n",
              "    </tr>\n",
              "  </tbody>\n",
              "</table>\n",
              "</div>\n",
              "    <div class=\"colab-df-buttons\">\n",
              "\n",
              "  <div class=\"colab-df-container\">\n",
              "    <button class=\"colab-df-convert\" onclick=\"convertToInteractive('df-05997a58-2346-4e43-93f3-fd459b70a7b8')\"\n",
              "            title=\"Convert this dataframe to an interactive table.\"\n",
              "            style=\"display:none;\">\n",
              "\n",
              "  <svg xmlns=\"http://www.w3.org/2000/svg\" height=\"24px\" viewBox=\"0 -960 960 960\">\n",
              "    <path d=\"M120-120v-720h720v720H120Zm60-500h600v-160H180v160Zm220 220h160v-160H400v160Zm0 220h160v-160H400v160ZM180-400h160v-160H180v160Zm440 0h160v-160H620v160ZM180-180h160v-160H180v160Zm440 0h160v-160H620v160Z\"/>\n",
              "  </svg>\n",
              "    </button>\n",
              "\n",
              "  <style>\n",
              "    .colab-df-container {\n",
              "      display:flex;\n",
              "      gap: 12px;\n",
              "    }\n",
              "\n",
              "    .colab-df-convert {\n",
              "      background-color: #E8F0FE;\n",
              "      border: none;\n",
              "      border-radius: 50%;\n",
              "      cursor: pointer;\n",
              "      display: none;\n",
              "      fill: #1967D2;\n",
              "      height: 32px;\n",
              "      padding: 0 0 0 0;\n",
              "      width: 32px;\n",
              "    }\n",
              "\n",
              "    .colab-df-convert:hover {\n",
              "      background-color: #E2EBFA;\n",
              "      box-shadow: 0px 1px 2px rgba(60, 64, 67, 0.3), 0px 1px 3px 1px rgba(60, 64, 67, 0.15);\n",
              "      fill: #174EA6;\n",
              "    }\n",
              "\n",
              "    .colab-df-buttons div {\n",
              "      margin-bottom: 4px;\n",
              "    }\n",
              "\n",
              "    [theme=dark] .colab-df-convert {\n",
              "      background-color: #3B4455;\n",
              "      fill: #D2E3FC;\n",
              "    }\n",
              "\n",
              "    [theme=dark] .colab-df-convert:hover {\n",
              "      background-color: #434B5C;\n",
              "      box-shadow: 0px 1px 3px 1px rgba(0, 0, 0, 0.15);\n",
              "      filter: drop-shadow(0px 1px 2px rgba(0, 0, 0, 0.3));\n",
              "      fill: #FFFFFF;\n",
              "    }\n",
              "  </style>\n",
              "\n",
              "    <script>\n",
              "      const buttonEl =\n",
              "        document.querySelector('#df-05997a58-2346-4e43-93f3-fd459b70a7b8 button.colab-df-convert');\n",
              "      buttonEl.style.display =\n",
              "        google.colab.kernel.accessAllowed ? 'block' : 'none';\n",
              "\n",
              "      async function convertToInteractive(key) {\n",
              "        const element = document.querySelector('#df-05997a58-2346-4e43-93f3-fd459b70a7b8');\n",
              "        const dataTable =\n",
              "          await google.colab.kernel.invokeFunction('convertToInteractive',\n",
              "                                                    [key], {});\n",
              "        if (!dataTable) return;\n",
              "\n",
              "        const docLinkHtml = 'Like what you see? Visit the ' +\n",
              "          '<a target=\"_blank\" href=https://colab.research.google.com/notebooks/data_table.ipynb>data table notebook</a>'\n",
              "          + ' to learn more about interactive tables.';\n",
              "        element.innerHTML = '';\n",
              "        dataTable['output_type'] = 'display_data';\n",
              "        await google.colab.output.renderOutput(dataTable, element);\n",
              "        const docLink = document.createElement('div');\n",
              "        docLink.innerHTML = docLinkHtml;\n",
              "        element.appendChild(docLink);\n",
              "      }\n",
              "    </script>\n",
              "  </div>\n",
              "\n",
              "\n",
              "<div id=\"df-9719f398-4e99-46cc-8979-8850b39c7688\">\n",
              "  <button class=\"colab-df-quickchart\" onclick=\"quickchart('df-9719f398-4e99-46cc-8979-8850b39c7688')\"\n",
              "            title=\"Suggest charts\"\n",
              "            style=\"display:none;\">\n",
              "\n",
              "<svg xmlns=\"http://www.w3.org/2000/svg\" height=\"24px\"viewBox=\"0 0 24 24\"\n",
              "     width=\"24px\">\n",
              "    <g>\n",
              "        <path d=\"M19 3H5c-1.1 0-2 .9-2 2v14c0 1.1.9 2 2 2h14c1.1 0 2-.9 2-2V5c0-1.1-.9-2-2-2zM9 17H7v-7h2v7zm4 0h-2V7h2v10zm4 0h-2v-4h2v4z\"/>\n",
              "    </g>\n",
              "</svg>\n",
              "  </button>\n",
              "\n",
              "<style>\n",
              "  .colab-df-quickchart {\n",
              "      --bg-color: #E8F0FE;\n",
              "      --fill-color: #1967D2;\n",
              "      --hover-bg-color: #E2EBFA;\n",
              "      --hover-fill-color: #174EA6;\n",
              "      --disabled-fill-color: #AAA;\n",
              "      --disabled-bg-color: #DDD;\n",
              "  }\n",
              "\n",
              "  [theme=dark] .colab-df-quickchart {\n",
              "      --bg-color: #3B4455;\n",
              "      --fill-color: #D2E3FC;\n",
              "      --hover-bg-color: #434B5C;\n",
              "      --hover-fill-color: #FFFFFF;\n",
              "      --disabled-bg-color: #3B4455;\n",
              "      --disabled-fill-color: #666;\n",
              "  }\n",
              "\n",
              "  .colab-df-quickchart {\n",
              "    background-color: var(--bg-color);\n",
              "    border: none;\n",
              "    border-radius: 50%;\n",
              "    cursor: pointer;\n",
              "    display: none;\n",
              "    fill: var(--fill-color);\n",
              "    height: 32px;\n",
              "    padding: 0;\n",
              "    width: 32px;\n",
              "  }\n",
              "\n",
              "  .colab-df-quickchart:hover {\n",
              "    background-color: var(--hover-bg-color);\n",
              "    box-shadow: 0 1px 2px rgba(60, 64, 67, 0.3), 0 1px 3px 1px rgba(60, 64, 67, 0.15);\n",
              "    fill: var(--button-hover-fill-color);\n",
              "  }\n",
              "\n",
              "  .colab-df-quickchart-complete:disabled,\n",
              "  .colab-df-quickchart-complete:disabled:hover {\n",
              "    background-color: var(--disabled-bg-color);\n",
              "    fill: var(--disabled-fill-color);\n",
              "    box-shadow: none;\n",
              "  }\n",
              "\n",
              "  .colab-df-spinner {\n",
              "    border: 2px solid var(--fill-color);\n",
              "    border-color: transparent;\n",
              "    border-bottom-color: var(--fill-color);\n",
              "    animation:\n",
              "      spin 1s steps(1) infinite;\n",
              "  }\n",
              "\n",
              "  @keyframes spin {\n",
              "    0% {\n",
              "      border-color: transparent;\n",
              "      border-bottom-color: var(--fill-color);\n",
              "      border-left-color: var(--fill-color);\n",
              "    }\n",
              "    20% {\n",
              "      border-color: transparent;\n",
              "      border-left-color: var(--fill-color);\n",
              "      border-top-color: var(--fill-color);\n",
              "    }\n",
              "    30% {\n",
              "      border-color: transparent;\n",
              "      border-left-color: var(--fill-color);\n",
              "      border-top-color: var(--fill-color);\n",
              "      border-right-color: var(--fill-color);\n",
              "    }\n",
              "    40% {\n",
              "      border-color: transparent;\n",
              "      border-right-color: var(--fill-color);\n",
              "      border-top-color: var(--fill-color);\n",
              "    }\n",
              "    60% {\n",
              "      border-color: transparent;\n",
              "      border-right-color: var(--fill-color);\n",
              "    }\n",
              "    80% {\n",
              "      border-color: transparent;\n",
              "      border-right-color: var(--fill-color);\n",
              "      border-bottom-color: var(--fill-color);\n",
              "    }\n",
              "    90% {\n",
              "      border-color: transparent;\n",
              "      border-bottom-color: var(--fill-color);\n",
              "    }\n",
              "  }\n",
              "</style>\n",
              "\n",
              "  <script>\n",
              "    async function quickchart(key) {\n",
              "      const quickchartButtonEl =\n",
              "        document.querySelector('#' + key + ' button');\n",
              "      quickchartButtonEl.disabled = true;  // To prevent multiple clicks.\n",
              "      quickchartButtonEl.classList.add('colab-df-spinner');\n",
              "      try {\n",
              "        const charts = await google.colab.kernel.invokeFunction(\n",
              "            'suggestCharts', [key], {});\n",
              "      } catch (error) {\n",
              "        console.error('Error during call to suggestCharts:', error);\n",
              "      }\n",
              "      quickchartButtonEl.classList.remove('colab-df-spinner');\n",
              "      quickchartButtonEl.classList.add('colab-df-quickchart-complete');\n",
              "    }\n",
              "    (() => {\n",
              "      let quickchartButtonEl =\n",
              "        document.querySelector('#df-9719f398-4e99-46cc-8979-8850b39c7688 button');\n",
              "      quickchartButtonEl.style.display =\n",
              "        google.colab.kernel.accessAllowed ? 'block' : 'none';\n",
              "    })();\n",
              "  </script>\n",
              "</div>\n",
              "\n",
              "    </div>\n",
              "  </div>\n"
            ],
            "application/vnd.google.colaboratory.intrinsic+json": {
              "type": "dataframe",
              "variable_name": "new_df",
              "summary": "{\n  \"name\": \"new_df\",\n  \"rows\": 1831,\n  \"fields\": [\n    {\n      \"column\": \"id\",\n      \"properties\": {\n        \"dtype\": \"number\",\n        \"std\": 72711,\n        \"min\": 12,\n        \"max\": 417859,\n        \"num_unique_values\": 1831,\n        \"samples\": [\n          163,\n          62214,\n          10333\n        ],\n        \"semantic_type\": \"\",\n        \"description\": \"\"\n      }\n    },\n    {\n      \"column\": \"title\",\n      \"properties\": {\n        \"dtype\": \"string\",\n        \"num_unique_values\": 1829,\n        \"samples\": [\n          \"Ocean's Twelve\",\n          \"Frankenweenie\",\n          \"The Prince of Tides\"\n        ],\n        \"semantic_type\": \"\",\n        \"description\": \"\"\n      }\n    },\n    {\n      \"column\": \"tags\",\n      \"properties\": {\n        \"dtype\": \"string\",\n        \"num_unique_values\": 1831,\n        \"samples\": [\n          \"danny ocean reunites with his old flame and the rest of his merry band of thieves in carrying out three huge heists in rome, paris and amsterdam \\u2013 but a europol agent is hot on their heels. thriller crime sequel faberg\\u00e9egg dutcheastindiancompany second part goldenegg goon georgeclooney bradpitt catherinezeta-jones stevensoderbergh\",\n          \"when a car hits young victor's pet dog sparky, victor decides to bring him back to life the only way he knows how. but when the bolt-necked \\\"monster\\\" wreaks havoc and terror in the hearts of victor's neighbors, he has to convince them that sparky's still the good, loyal friend he was. animation comedy family shyness stopmotion blackandwhite retro dog animaldeath animallover charlietahan catherineo'hara martinshort timburton\",\n          \"a troubled man talks to his suicidal sister's psychiatrist about their family history and falls in love with her in the process. drama romance americanfootball trainer twinsister suppressedpast psychiatrist extramaritalaffair womandirector nicknolte barbrastreisand blythedanner barbrastreisand\"\n        ],\n        \"semantic_type\": \"\",\n        \"description\": \"\"\n      }\n    }\n  ]\n}"
            }
          },
          "metadata": {},
          "execution_count": 33
        }
      ]
    },
    {
      "cell_type": "code",
      "source": [
        "new_df['tags'][0]"
      ],
      "metadata": {
        "colab": {
          "base_uri": "https://localhost:8080/",
          "height": 87
        },
        "id": "9Wp18irVkAjG",
        "outputId": "3c767d8f-7d64-4bb9-fcb9-a33a6100e0ad"
      },
      "execution_count": null,
      "outputs": [
        {
          "output_type": "execute_result",
          "data": {
            "text/plain": [
              "'in the 22nd century, a paraplegic marine is dispatched to the moon pandora on a unique mission, but becomes torn between following orders and protecting an alien civilization. action adventure fantasy sciencefiction cultureclash future spacewar spacecolony society spacetravel futuristic romance space alien tribe alienplanet cgi marine soldier battle loveaffair antiwar powerrelations mindandsoul 3d samworthington zoesaldana sigourneyweaver jamescameron'"
            ],
            "application/vnd.google.colaboratory.intrinsic+json": {
              "type": "string"
            }
          },
          "metadata": {},
          "execution_count": 34
        }
      ]
    },
    {
      "cell_type": "code",
      "source": [
        "new_df['tags'][2]"
      ],
      "metadata": {
        "colab": {
          "base_uri": "https://localhost:8080/",
          "height": 87
        },
        "id": "Viyz2gjqkIXG",
        "outputId": "fe4a177a-9142-4f67-97d0-c22f2429d916"
      },
      "execution_count": null,
      "outputs": [
        {
          "output_type": "execute_result",
          "data": {
            "text/plain": [
              "'a cryptic message from bond’s past sends him on a trail to uncover a sinister organization. while m battles political forces to keep the secret service alive, bond peels back the layers of deceit to reveal the terrible truth behind spectre. action adventure crime spy basedonnovel secretagent sequel mi6 britishsecretservice unitedkingdom danielcraig christophwaltz léaseydoux sammendes'"
            ],
            "application/vnd.google.colaboratory.intrinsic+json": {
              "type": "string"
            }
          },
          "metadata": {},
          "execution_count": 35
        }
      ]
    },
    {
      "cell_type": "markdown",
      "source": [
        "# Now that time to move vectorization"
      ],
      "metadata": {
        "id": "ELQcuwazkQD_"
      }
    },
    {
      "cell_type": "markdown",
      "source": [
        "# convert movie tag to vectorization"
      ],
      "metadata": {
        "id": "Lq-FlCkukY-l"
      }
    },
    {
      "cell_type": "code",
      "source": [
        "from sklearn.feature_extraction.text import CountVectorizer\n",
        "cv=CountVectorizer(max_features=5000,stop_words='english')"
      ],
      "metadata": {
        "id": "im6lTUJ3kOLw"
      },
      "execution_count": null,
      "outputs": []
    },
    {
      "cell_type": "markdown",
      "source": [],
      "metadata": {
        "id": "YKg39jFTqcED"
      }
    },
    {
      "cell_type": "code",
      "source": [
        "vectors=cv.fit_transform(new_df['tags']).toarray()"
      ],
      "metadata": {
        "id": "WcPQP-f0pkxw"
      },
      "execution_count": null,
      "outputs": []
    },
    {
      "cell_type": "code",
      "source": [
        "cv.get_feature_names_out()"
      ],
      "metadata": {
        "colab": {
          "base_uri": "https://localhost:8080/"
        },
        "id": "O6FPSd8HqYqa",
        "outputId": "02455458-37b5-42bc-a440-b8f538af0576"
      },
      "execution_count": null,
      "outputs": [
        {
          "output_type": "execute_result",
          "data": {
            "text/plain": [
              "array(['000', '007', '10', ..., 'zooey', 'zooeydeschanel', 'zookeeper'],\n",
              "      dtype=object)"
            ]
          },
          "metadata": {},
          "execution_count": 38
        }
      ]
    },
    {
      "cell_type": "code",
      "source": [
        "import nltk\n",
        "from nltk.stem.porter import PorterStemmer\n",
        "ps=PorterStemmer()"
      ],
      "metadata": {
        "id": "6B-TQslQqhyz"
      },
      "execution_count": null,
      "outputs": []
    },
    {
      "cell_type": "code",
      "source": [
        "def stem(text):\n",
        "    l=[]\n",
        "    for i in text.split():\n",
        "        l.append(ps.stem(i))\n",
        "    return \" \".join(l)"
      ],
      "metadata": {
        "id": "7Tz3qs8ormUG"
      },
      "execution_count": null,
      "outputs": []
    },
    {
      "cell_type": "code",
      "source": [
        "stem('loved')"
      ],
      "metadata": {
        "colab": {
          "base_uri": "https://localhost:8080/",
          "height": 35
        },
        "id": "IPTFro2ZrwYT",
        "outputId": "5a0fa7bb-ec61-4285-f5de-04d83fd8e7d4"
      },
      "execution_count": null,
      "outputs": [
        {
          "output_type": "execute_result",
          "data": {
            "text/plain": [
              "'love'"
            ],
            "application/vnd.google.colaboratory.intrinsic+json": {
              "type": "string"
            }
          },
          "metadata": {},
          "execution_count": 41
        }
      ]
    },
    {
      "cell_type": "code",
      "source": [
        "stem('dancing')"
      ],
      "metadata": {
        "colab": {
          "base_uri": "https://localhost:8080/",
          "height": 35
        },
        "id": "TLPs-Z5Dr3m1",
        "outputId": "5caefe7f-bcc9-49ab-805b-db001732a1e5"
      },
      "execution_count": null,
      "outputs": [
        {
          "output_type": "execute_result",
          "data": {
            "text/plain": [
              "'danc'"
            ],
            "application/vnd.google.colaboratory.intrinsic+json": {
              "type": "string"
            }
          },
          "metadata": {},
          "execution_count": 42
        }
      ]
    },
    {
      "cell_type": "code",
      "source": [
        "new_df['tags']=new_df['tags'].apply(stem)"
      ],
      "metadata": {
        "colab": {
          "base_uri": "https://localhost:8080/"
        },
        "id": "rjKkbTZ_r7yU",
        "outputId": "3e859a70-c3da-4eb6-debf-d3c757bc0da1"
      },
      "execution_count": null,
      "outputs": [
        {
          "output_type": "stream",
          "name": "stderr",
          "text": [
            "<ipython-input-43-402dd7cb6b10>:1: SettingWithCopyWarning: \n",
            "A value is trying to be set on a copy of a slice from a DataFrame.\n",
            "Try using .loc[row_indexer,col_indexer] = value instead\n",
            "\n",
            "See the caveats in the documentation: https://pandas.pydata.org/pandas-docs/stable/user_guide/indexing.html#returning-a-view-versus-a-copy\n",
            "  new_df['tags']=new_df['tags'].apply(stem)\n"
          ]
        }
      ]
    },
    {
      "cell_type": "markdown",
      "source": [
        "## cosine distance calculate karna padaga har vector ka dusra vector ka sath"
      ],
      "metadata": {
        "id": "qSySzJ4bsvBX"
      }
    },
    {
      "cell_type": "code",
      "source": [
        "from sklearn.metrics.pairwise import cosine_similarity"
      ],
      "metadata": {
        "id": "Qx06p0-asJFp"
      },
      "execution_count": null,
      "outputs": []
    },
    {
      "cell_type": "code",
      "source": [
        "similarity=cosine_similarity(vectors)"
      ],
      "metadata": {
        "id": "N8EnSFIZs9wm"
      },
      "execution_count": null,
      "outputs": []
    },
    {
      "cell_type": "markdown",
      "source": [
        "## **its tell the similarity score of first movie to all other movie**"
      ],
      "metadata": {
        "id": "4VKhbpRQud6M"
      }
    },
    {
      "cell_type": "code",
      "source": [
        "similarity[1]"
      ],
      "metadata": {
        "colab": {
          "base_uri": "https://localhost:8080/"
        },
        "id": "-9LW0FpUtEui",
        "outputId": "99009d90-1a5d-4a44-c9fc-4484cd4d7988"
      },
      "execution_count": null,
      "outputs": [
        {
          "output_type": "execute_result",
          "data": {
            "text/plain": [
              "array([0.08035074, 1.        , 0.05970814, ..., 0.        , 0.        ,\n",
              "       0.03184649])"
            ]
          },
          "metadata": {},
          "execution_count": 46
        }
      ]
    },
    {
      "cell_type": "code",
      "source": [
        "def recommend(movie):\n",
        "  movie_index=new_df[new_df['title']==movie].index[0]\n",
        "  distances=similarity[movie_index]\n",
        "  movies_list=sorted(list(enumerate(distances)),reverse=True,key=lambda x:x[1])[1:6]\n",
        "  for i in movies_list:\n",
        "    print(new_df.iloc[i[0]].title)\n",
        "\n"
      ],
      "metadata": {
        "id": "SNNUhoJitRGz"
      },
      "execution_count": null,
      "outputs": []
    },
    {
      "cell_type": "code",
      "source": [
        "recommend('Batman Begins')"
      ],
      "metadata": {
        "colab": {
          "base_uri": "https://localhost:8080/"
        },
        "id": "FE38CvxtyG5k",
        "outputId": "52b1df4c-8116-4c94-dc94-34859d6998d8"
      },
      "execution_count": null,
      "outputs": [
        {
          "output_type": "stream",
          "name": "stdout",
          "text": [
            "The Dark Knight\n",
            "The Dark Knight Rises\n",
            "Batman & Robin\n",
            "Batman\n",
            "Batman v Superman: Dawn of Justice\n"
          ]
        }
      ]
    },
    {
      "cell_type": "code",
      "source": [
        "import pickle"
      ],
      "metadata": {
        "id": "OtS8fyfByJ6m"
      },
      "execution_count": null,
      "outputs": []
    },
    {
      "cell_type": "code",
      "source": [
        "pickle.dump(new_df,open('movies.pkl','wb'))"
      ],
      "metadata": {
        "id": "emHnfHNVy9wK"
      },
      "execution_count": null,
      "outputs": []
    },
    {
      "cell_type": "code",
      "source": [
        "recommend('Batman Begins')"
      ],
      "metadata": {
        "id": "tiKIFqzJzKbV",
        "colab": {
          "base_uri": "https://localhost:8080/"
        },
        "outputId": "5bcffa74-eb0a-4c1a-885a-b114e9b94079"
      },
      "execution_count": null,
      "outputs": [
        {
          "output_type": "stream",
          "name": "stdout",
          "text": [
            "The Dark Knight\n",
            "The Dark Knight Rises\n",
            "Batman & Robin\n",
            "Batman\n",
            "Batman v Superman: Dawn of Justice\n"
          ]
        }
      ]
    },
    {
      "cell_type": "code",
      "source": [
        "pickle.dump(similarity,open('similarity.pkl','wb'))"
      ],
      "metadata": {
        "id": "72tIrNam7vmq"
      },
      "execution_count": null,
      "outputs": []
    },
    {
      "cell_type": "code",
      "source": [
        "pickle.dump(movies['title'].values,open('movies_list.pkl','wb'))"
      ],
      "metadata": {
        "id": "eelLQ3aI71ES"
      },
      "execution_count": null,
      "outputs": []
    },
    {
      "cell_type": "code",
      "source": [
        "a=pickle.load(open('/content/movies_list.pkl','rb'))\n",
        "a=pickle.load(open('/content/movies_list.pkl','rb'))"
      ],
      "metadata": {
        "id": "ctDC4C4Q-jtz"
      },
      "execution_count": null,
      "outputs": []
    },
    {
      "cell_type": "code",
      "source": [
        "def recommend(movie):\n",
        "  movie_index=new_df[new_df['title']==movie].index[0]\n",
        "  distances=similarity[movie_index]\n",
        "  movies_list=sorted(list(enumerate(distances)),reverse=True,key=lambda x:x[1])[1:6]\n",
        "  for i in movies_list:\n",
        "    print(new_df.iloc[i[0]].title)"
      ],
      "metadata": {
        "id": "KBCCu_-p_rvt"
      },
      "execution_count": null,
      "outputs": []
    },
    {
      "cell_type": "code",
      "source": [
        "recommend('Batman Begins')"
      ],
      "metadata": {
        "colab": {
          "base_uri": "https://localhost:8080/"
        },
        "id": "bBFzyRCY_sXS",
        "outputId": "8003ed1a-18e6-4fd8-9696-af3a28d7634a"
      },
      "execution_count": null,
      "outputs": [
        {
          "output_type": "stream",
          "name": "stdout",
          "text": [
            "The Dark Knight\n",
            "The Dark Knight Rises\n",
            "Batman & Robin\n",
            "Batman\n",
            "Batman v Superman: Dawn of Justice\n"
          ]
        }
      ]
    },
    {
      "cell_type": "code",
      "source": [],
      "metadata": {
        "id": "k2dR28lzcOcI"
      },
      "execution_count": null,
      "outputs": []
    }
  ]
}